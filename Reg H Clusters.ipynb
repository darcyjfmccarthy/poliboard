{
 "cells": [
  {
   "cell_type": "code",
   "execution_count": 1,
   "id": "4ae0ccf8",
   "metadata": {},
   "outputs": [
    {
     "name": "stderr",
     "output_type": "stream",
     "text": [
      "C:\\Users\\darcy\\AppData\\Local\\Packages\\PythonSoftwareFoundation.Python.3.11_qbz5n2kfra8p0\\LocalCache\\local-packages\\Python311\\site-packages\\tqdm\\auto.py:21: TqdmWarning: IProgress not found. Please update jupyter and ipywidgets. See https://ipywidgets.readthedocs.io/en/stable/user_install.html\n",
      "  from .autonotebook import tqdm as notebook_tqdm\n"
     ]
    }
   ],
   "source": [
    "from backend.functions import *\n",
    "from backend.classes import *"
   ]
  },
  {
   "cell_type": "code",
   "execution_count": 2,
   "id": "003938d1",
   "metadata": {},
   "outputs": [],
   "source": [
    "import pandas as pd\n",
    "import numpy as np\n",
    "from gensim.models import Word2Vec\n",
    "from sklearn.preprocessing import StandardScaler\n",
    "from sklearn.cluster import KMeans\n",
    "from sklearn.metrics.pairwise import cosine_similarity"
   ]
  },
  {
   "cell_type": "code",
   "execution_count": 3,
   "id": "5a408b36",
   "metadata": {},
   "outputs": [],
   "source": [
    "with open('data/Frankfurt.json', encoding=\"utf-8\") as f:\n",
    "    frankfurt = json.load(f)\n",
    "\n",
    "with open('data/Monterrey.json', encoding=\"utf-8\") as f:\n",
    "    monterrey = json.load(f)\n",
    "\n",
    "with open('data/Pittsburgh.json', encoding=\"utf-8\") as f:\n",
    "    pittsburgh = json.load(f)\n",
    "\n",
    "with open('data/Milwaukee.json', encoding=\"utf-8\") as f:\n",
    "    milwaukee = json.load(f)\n",
    "\n",
    "with open('data/BeloHorizonte.json', encoding=\"utf-8\") as f:\n",
    "    belohorizonte = json.load(f)"
   ]
  },
  {
   "cell_type": "code",
   "execution_count": 4,
   "id": "c4ed9a3c",
   "metadata": {},
   "outputs": [],
   "source": [
    "for item in frankfurt:\n",
    "    item['tournament']='Frankfurt'\n",
    "    item['date'] = '2025-09-14'\n",
    "\n",
    "for item in monterrey:\n",
    "    item['tournament']='Monterrey'\n",
    "    item['date'] = '2025-09-14'\n",
    "\n",
    "for item in pittsburgh:\n",
    "    item['tournament']='Pittsburgh'\n",
    "    item['date'] = '2025-09-21'\n",
    "\n",
    "for item in milwaukee:\n",
    "    item['tournament']='Milwaukee'\n",
    "    item['date'] = '2025-10-12'\n",
    "\n",
    "for item in belohorizonte:\n",
    "    item['tournament']='Belo Horizonte'\n",
    "    item['date'] = '2025-10-12'"
   ]
  },
  {
   "cell_type": "code",
   "execution_count": 5,
   "id": "5f08664d",
   "metadata": {},
   "outputs": [],
   "source": [
    "data = frankfurt + monterrey + pittsburgh + milwaukee + belohorizonte"
   ]
  },
  {
   "cell_type": "code",
   "execution_count": 6,
   "id": "ec95a5ca",
   "metadata": {},
   "outputs": [],
   "source": [
    "processed = process_tournament_data(data)"
   ]
  },
  {
   "cell_type": "code",
   "execution_count": 7,
   "id": "1174faea",
   "metadata": {},
   "outputs": [
    {
     "data": {
      "text/html": [
       "<div>\n",
       "<style scoped>\n",
       "    .dataframe tbody tr th:only-of-type {\n",
       "        vertical-align: middle;\n",
       "    }\n",
       "\n",
       "    .dataframe tbody tr th {\n",
       "        vertical-align: top;\n",
       "    }\n",
       "\n",
       "    .dataframe thead th {\n",
       "        text-align: right;\n",
       "    }\n",
       "</style>\n",
       "<table border=\"1\" class=\"dataframe\">\n",
       "  <thead>\n",
       "    <tr style=\"text-align: right;\">\n",
       "      <th></th>\n",
       "      <th>Competition</th>\n",
       "      <th>Name</th>\n",
       "      <th>Nationality</th>\n",
       "      <th>Wins</th>\n",
       "      <th>Losses</th>\n",
       "      <th>Date</th>\n",
       "      <th>Corviknight</th>\n",
       "      <th>Sableye</th>\n",
       "      <th>Klefki</th>\n",
       "      <th>Comfey</th>\n",
       "      <th>...</th>\n",
       "      <th>Quagsire</th>\n",
       "      <th>Reuniclus</th>\n",
       "      <th>Sunflora</th>\n",
       "      <th>Pawmot</th>\n",
       "      <th>Florges</th>\n",
       "      <th>Palafin</th>\n",
       "      <th>Kommo-o</th>\n",
       "      <th>Gloom</th>\n",
       "      <th>Meganium</th>\n",
       "      <th>Bronzong</th>\n",
       "    </tr>\n",
       "  </thead>\n",
       "  <tbody>\n",
       "    <tr>\n",
       "      <th>0</th>\n",
       "      <td>Frankfurt</td>\n",
       "      <td>Emanuele Briganti</td>\n",
       "      <td>IT</td>\n",
       "      <td>14</td>\n",
       "      <td>2</td>\n",
       "      <td>2025-09-14</td>\n",
       "      <td>0</td>\n",
       "      <td>0</td>\n",
       "      <td>0</td>\n",
       "      <td>0</td>\n",
       "      <td>...</td>\n",
       "      <td>0</td>\n",
       "      <td>0</td>\n",
       "      <td>0</td>\n",
       "      <td>0</td>\n",
       "      <td>0</td>\n",
       "      <td>0</td>\n",
       "      <td>0</td>\n",
       "      <td>0</td>\n",
       "      <td>0</td>\n",
       "      <td>0</td>\n",
       "    </tr>\n",
       "    <tr>\n",
       "      <th>1</th>\n",
       "      <td>Frankfurt</td>\n",
       "      <td>Víctor Medina</td>\n",
       "      <td>ES</td>\n",
       "      <td>13</td>\n",
       "      <td>3</td>\n",
       "      <td>2025-09-14</td>\n",
       "      <td>0</td>\n",
       "      <td>0</td>\n",
       "      <td>0</td>\n",
       "      <td>0</td>\n",
       "      <td>...</td>\n",
       "      <td>0</td>\n",
       "      <td>0</td>\n",
       "      <td>0</td>\n",
       "      <td>0</td>\n",
       "      <td>0</td>\n",
       "      <td>0</td>\n",
       "      <td>0</td>\n",
       "      <td>0</td>\n",
       "      <td>0</td>\n",
       "      <td>0</td>\n",
       "    </tr>\n",
       "    <tr>\n",
       "      <th>2</th>\n",
       "      <td>Frankfurt</td>\n",
       "      <td>Shohei Kimura</td>\n",
       "      <td>JP</td>\n",
       "      <td>12</td>\n",
       "      <td>3</td>\n",
       "      <td>2025-09-14</td>\n",
       "      <td>0</td>\n",
       "      <td>0</td>\n",
       "      <td>0</td>\n",
       "      <td>0</td>\n",
       "      <td>...</td>\n",
       "      <td>0</td>\n",
       "      <td>0</td>\n",
       "      <td>0</td>\n",
       "      <td>0</td>\n",
       "      <td>0</td>\n",
       "      <td>0</td>\n",
       "      <td>0</td>\n",
       "      <td>0</td>\n",
       "      <td>0</td>\n",
       "      <td>0</td>\n",
       "    </tr>\n",
       "    <tr>\n",
       "      <th>3</th>\n",
       "      <td>Frankfurt</td>\n",
       "      <td>Davide Carrer</td>\n",
       "      <td>IT</td>\n",
       "      <td>12</td>\n",
       "      <td>3</td>\n",
       "      <td>2025-09-14</td>\n",
       "      <td>0</td>\n",
       "      <td>0</td>\n",
       "      <td>0</td>\n",
       "      <td>0</td>\n",
       "      <td>...</td>\n",
       "      <td>0</td>\n",
       "      <td>0</td>\n",
       "      <td>0</td>\n",
       "      <td>0</td>\n",
       "      <td>0</td>\n",
       "      <td>0</td>\n",
       "      <td>0</td>\n",
       "      <td>0</td>\n",
       "      <td>0</td>\n",
       "      <td>0</td>\n",
       "    </tr>\n",
       "    <tr>\n",
       "      <th>4</th>\n",
       "      <td>Frankfurt</td>\n",
       "      <td>Fabian Braun</td>\n",
       "      <td>DE</td>\n",
       "      <td>12</td>\n",
       "      <td>2</td>\n",
       "      <td>2025-09-14</td>\n",
       "      <td>0</td>\n",
       "      <td>0</td>\n",
       "      <td>0</td>\n",
       "      <td>0</td>\n",
       "      <td>...</td>\n",
       "      <td>0</td>\n",
       "      <td>0</td>\n",
       "      <td>0</td>\n",
       "      <td>0</td>\n",
       "      <td>0</td>\n",
       "      <td>0</td>\n",
       "      <td>0</td>\n",
       "      <td>0</td>\n",
       "      <td>0</td>\n",
       "      <td>0</td>\n",
       "    </tr>\n",
       "    <tr>\n",
       "      <th>...</th>\n",
       "      <td>...</td>\n",
       "      <td>...</td>\n",
       "      <td>...</td>\n",
       "      <td>...</td>\n",
       "      <td>...</td>\n",
       "      <td>...</td>\n",
       "      <td>...</td>\n",
       "      <td>...</td>\n",
       "      <td>...</td>\n",
       "      <td>...</td>\n",
       "      <td>...</td>\n",
       "      <td>...</td>\n",
       "      <td>...</td>\n",
       "      <td>...</td>\n",
       "      <td>...</td>\n",
       "      <td>...</td>\n",
       "      <td>...</td>\n",
       "      <td>...</td>\n",
       "      <td>...</td>\n",
       "      <td>...</td>\n",
       "      <td>...</td>\n",
       "    </tr>\n",
       "    <tr>\n",
       "      <th>2659</th>\n",
       "      <td>Belo Horizonte</td>\n",
       "      <td>Guilherme Fernandes</td>\n",
       "      <td>BR</td>\n",
       "      <td>0</td>\n",
       "      <td>2</td>\n",
       "      <td>2025-10-12</td>\n",
       "      <td>0</td>\n",
       "      <td>0</td>\n",
       "      <td>0</td>\n",
       "      <td>0</td>\n",
       "      <td>...</td>\n",
       "      <td>0</td>\n",
       "      <td>1</td>\n",
       "      <td>0</td>\n",
       "      <td>0</td>\n",
       "      <td>0</td>\n",
       "      <td>0</td>\n",
       "      <td>0</td>\n",
       "      <td>0</td>\n",
       "      <td>0</td>\n",
       "      <td>0</td>\n",
       "    </tr>\n",
       "    <tr>\n",
       "      <th>2660</th>\n",
       "      <td>Belo Horizonte</td>\n",
       "      <td>JESSICA DA SILVA</td>\n",
       "      <td>BR</td>\n",
       "      <td>0</td>\n",
       "      <td>2</td>\n",
       "      <td>2025-10-12</td>\n",
       "      <td>0</td>\n",
       "      <td>0</td>\n",
       "      <td>0</td>\n",
       "      <td>0</td>\n",
       "      <td>...</td>\n",
       "      <td>0</td>\n",
       "      <td>0</td>\n",
       "      <td>0</td>\n",
       "      <td>0</td>\n",
       "      <td>0</td>\n",
       "      <td>0</td>\n",
       "      <td>0</td>\n",
       "      <td>0</td>\n",
       "      <td>0</td>\n",
       "      <td>0</td>\n",
       "    </tr>\n",
       "    <tr>\n",
       "      <th>2661</th>\n",
       "      <td>Belo Horizonte</td>\n",
       "      <td>Sávio Lima Soares</td>\n",
       "      <td>BR</td>\n",
       "      <td>0</td>\n",
       "      <td>2</td>\n",
       "      <td>2025-10-12</td>\n",
       "      <td>0</td>\n",
       "      <td>0</td>\n",
       "      <td>0</td>\n",
       "      <td>0</td>\n",
       "      <td>...</td>\n",
       "      <td>0</td>\n",
       "      <td>0</td>\n",
       "      <td>0</td>\n",
       "      <td>0</td>\n",
       "      <td>0</td>\n",
       "      <td>0</td>\n",
       "      <td>0</td>\n",
       "      <td>0</td>\n",
       "      <td>0</td>\n",
       "      <td>0</td>\n",
       "    </tr>\n",
       "    <tr>\n",
       "      <th>2662</th>\n",
       "      <td>Belo Horizonte</td>\n",
       "      <td>Gael Garcia</td>\n",
       "      <td>BR</td>\n",
       "      <td>0</td>\n",
       "      <td>3</td>\n",
       "      <td>2025-10-12</td>\n",
       "      <td>0</td>\n",
       "      <td>0</td>\n",
       "      <td>0</td>\n",
       "      <td>0</td>\n",
       "      <td>...</td>\n",
       "      <td>0</td>\n",
       "      <td>0</td>\n",
       "      <td>0</td>\n",
       "      <td>0</td>\n",
       "      <td>0</td>\n",
       "      <td>0</td>\n",
       "      <td>0</td>\n",
       "      <td>0</td>\n",
       "      <td>0</td>\n",
       "      <td>0</td>\n",
       "    </tr>\n",
       "    <tr>\n",
       "      <th>2663</th>\n",
       "      <td>Belo Horizonte</td>\n",
       "      <td>Bruno Cotrim</td>\n",
       "      <td>BR</td>\n",
       "      <td>0</td>\n",
       "      <td>4</td>\n",
       "      <td>2025-10-12</td>\n",
       "      <td>1</td>\n",
       "      <td>0</td>\n",
       "      <td>0</td>\n",
       "      <td>0</td>\n",
       "      <td>...</td>\n",
       "      <td>0</td>\n",
       "      <td>0</td>\n",
       "      <td>0</td>\n",
       "      <td>0</td>\n",
       "      <td>0</td>\n",
       "      <td>0</td>\n",
       "      <td>0</td>\n",
       "      <td>0</td>\n",
       "      <td>0</td>\n",
       "      <td>0</td>\n",
       "    </tr>\n",
       "  </tbody>\n",
       "</table>\n",
       "<p>2664 rows × 232 columns</p>\n",
       "</div>"
      ],
      "text/plain": [
       "         Competition                 Name Nationality  Wins  Losses  \\\n",
       "0          Frankfurt    Emanuele Briganti          IT    14       2   \n",
       "1          Frankfurt        Víctor Medina          ES    13       3   \n",
       "2          Frankfurt        Shohei Kimura          JP    12       3   \n",
       "3          Frankfurt        Davide Carrer          IT    12       3   \n",
       "4          Frankfurt         Fabian Braun          DE    12       2   \n",
       "...              ...                  ...         ...   ...     ...   \n",
       "2659  Belo Horizonte  Guilherme Fernandes          BR     0       2   \n",
       "2660  Belo Horizonte     JESSICA DA SILVA          BR     0       2   \n",
       "2661  Belo Horizonte    Sávio Lima Soares          BR     0       2   \n",
       "2662  Belo Horizonte          Gael Garcia          BR     0       3   \n",
       "2663  Belo Horizonte         Bruno Cotrim          BR     0       4   \n",
       "\n",
       "            Date  Corviknight  Sableye  Klefki  Comfey  ...  Quagsire  \\\n",
       "0     2025-09-14            0        0       0       0  ...         0   \n",
       "1     2025-09-14            0        0       0       0  ...         0   \n",
       "2     2025-09-14            0        0       0       0  ...         0   \n",
       "3     2025-09-14            0        0       0       0  ...         0   \n",
       "4     2025-09-14            0        0       0       0  ...         0   \n",
       "...          ...          ...      ...     ...     ...  ...       ...   \n",
       "2659  2025-10-12            0        0       0       0  ...         0   \n",
       "2660  2025-10-12            0        0       0       0  ...         0   \n",
       "2661  2025-10-12            0        0       0       0  ...         0   \n",
       "2662  2025-10-12            0        0       0       0  ...         0   \n",
       "2663  2025-10-12            1        0       0       0  ...         0   \n",
       "\n",
       "      Reuniclus  Sunflora  Pawmot  Florges  Palafin  Kommo-o  Gloom  Meganium  \\\n",
       "0             0         0       0        0        0        0      0         0   \n",
       "1             0         0       0        0        0        0      0         0   \n",
       "2             0         0       0        0        0        0      0         0   \n",
       "3             0         0       0        0        0        0      0         0   \n",
       "4             0         0       0        0        0        0      0         0   \n",
       "...         ...       ...     ...      ...      ...      ...    ...       ...   \n",
       "2659          1         0       0        0        0        0      0         0   \n",
       "2660          0         0       0        0        0        0      0         0   \n",
       "2661          0         0       0        0        0        0      0         0   \n",
       "2662          0         0       0        0        0        0      0         0   \n",
       "2663          0         0       0        0        0        0      0         0   \n",
       "\n",
       "      Bronzong  \n",
       "0            0  \n",
       "1            0  \n",
       "2            0  \n",
       "3            0  \n",
       "4            0  \n",
       "...        ...  \n",
       "2659         0  \n",
       "2660         0  \n",
       "2661         0  \n",
       "2662         0  \n",
       "2663         0  \n",
       "\n",
       "[2664 rows x 232 columns]"
      ]
     },
     "execution_count": 7,
     "metadata": {},
     "output_type": "execute_result"
    }
   ],
   "source": [
    "processed"
   ]
  },
  {
   "cell_type": "code",
   "execution_count": 8,
   "id": "d4208f79",
   "metadata": {},
   "outputs": [],
   "source": [
    "recent = process_tournament_data(milwaukee+belohorizonte)"
   ]
  },
  {
   "cell_type": "code",
   "execution_count": 27,
   "id": "c850d1c4",
   "metadata": {},
   "outputs": [
    {
     "name": "stdout",
     "output_type": "stream",
     "text": [
      "{'Archetype 1: Basculegion [Male], Pelipper, Archaludon, Incineroar': {'core_pokemon': ['Basculegion [Male]', 'Pelipper', 'Archaludon', 'Incineroar'], 'key_moves': [], 'team_count': 61, 'frequency': 0.06823266219239374}, 'Archetype 2: Sneasler, Rillaboom, Ninetales [Alolan Form], Ursaluna [Bloodmoon], Gholdengo': {'core_pokemon': ['Sneasler', 'Rillaboom', 'Ninetales [Alolan Form]', 'Ursaluna [Bloodmoon]', 'Gholdengo'], 'key_moves': [], 'team_count': 40, 'frequency': 0.0447427293064877}, 'Archetype 3: Indeedee [Male], Tyranitar, Sneasler': {'core_pokemon': ['Indeedee [Male]', 'Tyranitar', 'Sneasler'], 'key_moves': [], 'team_count': 30, 'frequency': 0.03355704697986577}, 'Archetype 4: Ursaluna, Incineroar, Amoonguss, Gholdengo, Porygon2': {'core_pokemon': ['Ursaluna', 'Incineroar', 'Amoonguss', 'Gholdengo', 'Porygon2'], 'key_moves': [], 'team_count': 28, 'frequency': 0.03131991051454139}, 'Archetype 5: Ursaluna, Indeedee [Female], Torkoal': {'core_pokemon': ['Ursaluna', 'Indeedee [Female]', 'Torkoal'], 'key_moves': [], 'team_count': 27, 'frequency': 0.030201342281879196}, 'Archetype 6: Volcarona, Sneasler, Rillaboom, Kingambit': {'core_pokemon': ['Volcarona', 'Sneasler', 'Rillaboom', 'Kingambit'], 'key_moves': [], 'team_count': 24, 'frequency': 0.026845637583892617}, 'Archetype 7: Garchomp, Tyranitar, Gholdengo': {'core_pokemon': ['Garchomp', 'Tyranitar', 'Gholdengo'], 'key_moves': [], 'team_count': 13, 'frequency': 0.0145413870246085}, 'Archetype 8: Dragonite, Incineroar, Ninetales [Alolan Form], Kingambit': {'core_pokemon': ['Dragonite', 'Incineroar', 'Ninetales [Alolan Form]', 'Kingambit'], 'key_moves': [], 'team_count': 11, 'frequency': 0.012304250559284116}}\n"
     ]
    }
   ],
   "source": [
    "clusterer = PokemonTeamClustering(recent)\n",
    "\n",
    "\n",
    "clusterer.select_features(method='frequency', threshold=0.03)\n",
    "\n",
    "clusterer.select_features(method='variance', threshold=0.04)\n",
    "\n",
    "# Weight Pokemon more heavily than moves\n",
    "clusterer.normalize_features(pokemon_weight=1.1, move_weight=0.6)\n",
    "\n",
    "optimal_clusters = clusterer.find_optimal_clusters(max_clusters=20)\n",
    "\n",
    "best_n = optimal_clusters.loc[optimal_clusters['silhouette_score'].idxmax(), 'n_clusters']\n",
    "\n",
    "clusterer.cluster_teams(n_clusters=best_n)\n",
    "\n",
    "\n",
    "print(clusterer.identify_archetypes())"
   ]
  },
  {
   "cell_type": "code",
   "execution_count": 28,
   "id": "6b279be8",
   "metadata": {},
   "outputs": [
    {
     "data": {
      "application/vnd.plotly.v1+json": {
       "config": {
        "plotlyServerURL": "https://plot.ly"
       },
       "data": [
        {
         "customdata": [
          [
           "Milwaukee",
           11,
           3,
           "Basculegion [Male], Pelipper, Archaludon<br>Incineroar, Amoonguss, Kommo-o"
          ],
          [
           "Milwaukee",
           9,
           3,
           "Basculegion [Male], Pelipper, Archaludon<br>Incineroar, Whimsicott, Gholdengo"
          ],
          [
           "Milwaukee",
           8,
           4,
           "Basculegion [Male], Pelipper, Archaludon<br>Rillaboom, Ursaluna [Bloodmoon], Murkrow"
          ],
          [
           "Milwaukee",
           8,
           4,
           "Basculegion [Male], Pelipper, Archaludon<br>Incineroar, Whimsicott, Gholdengo"
          ],
          [
           "Milwaukee",
           8,
           4,
           "Sinistcha [Unremarkable Form], Basculegion [Male], Pelipper<br>Archaludon, Maushold [Family of Four], Kingambit"
          ],
          [
           "Milwaukee",
           8,
           4,
           "Pelipper, Archaludon, Incineroar<br>Amoonguss, Quaquaval, Gholdengo"
          ],
          [
           "Milwaukee",
           7,
           4,
           "Basculegion [Male], Farigiraf, Archaludon<br>Scyther, Incineroar, Ursaluna [Bloodmoon]"
          ],
          [
           "Milwaukee",
           5,
           3,
           "Sinistcha [Unremarkable Form], Dragonite, Ursaluna<br>Pelipper, Archaludon, Gholdengo"
          ],
          [
           "Milwaukee",
           5,
           3,
           "Basculegion [Male], Pelipper, Archaludon<br>Incineroar, Whimsicott, Gholdengo"
          ],
          [
           "Milwaukee",
           5,
           3,
           "Basculegion [Male], Pelipper, Archaludon<br>Incineroar, Whimsicott, Gholdengo"
          ],
          [
           "Milwaukee",
           5,
           3,
           "Basculegion [Male], Pelipper, Archaludon<br>Incineroar, Amoonguss, Gholdengo"
          ],
          [
           "Milwaukee",
           5,
           3,
           "Ursaluna, Volcarona, Pelipper<br>Archaludon, Sneasler, Porygon2"
          ],
          [
           "Milwaukee",
           5,
           3,
           "Sinistcha [Unremarkable Form], Dragonite, Ursaluna<br>Pelipper, Archaludon, Gholdengo"
          ],
          [
           "Milwaukee",
           5,
           3,
           "Basculegion [Male], Farigiraf, Archaludon<br>Scyther, Incineroar, Ursaluna [Bloodmoon]"
          ],
          [
           "Milwaukee",
           5,
           3,
           "Sinistcha [Unremarkable Form], Basculegion [Male], Ursaluna<br>Pelipper, Archaludon, Incineroar"
          ],
          [
           "Milwaukee",
           5,
           3,
           "Klefki, Garganacl, Sinistcha [Unremarkable Form]<br>Basculegion [Male], Archaludon, Incineroar"
          ],
          [
           "Milwaukee",
           5,
           3,
           "Basculegion [Male], Greninja, Pelipper<br>Archaludon, Sinistcha [Masterpiece Form], Annihilape"
          ],
          [
           "Milwaukee",
           5,
           3,
           "Sinistcha [Unremarkable Form], Pelipper, Archaludon<br>Incineroar, Ursaluna [Bloodmoon], Palafin"
          ],
          [
           "Milwaukee",
           5,
           3,
           "Pelipper, Archaludon, Incineroar<br>Whimsicott, Quaquaval, Gholdengo"
          ],
          [
           "Milwaukee",
           5,
           3,
           "Comfey, Basculegion [Male], Archaludon<br>Rillaboom, Politoed, Gholdengo"
          ],
          [
           "Milwaukee",
           5,
           3,
           "Dragonite, Basculegion [Male], Pelipper<br>Archaludon, Rillaboom, Gholdengo"
          ],
          [
           "Milwaukee",
           5,
           3,
           "Basculegion [Male], Greninja, Pelipper<br>Archaludon, Amoonguss, Annihilape"
          ],
          [
           "Milwaukee",
           5,
           3,
           "Basculegion [Male], Pelipper, Archaludon<br>Sneasler, Incineroar, Gholdengo"
          ],
          [
           "Milwaukee",
           5,
           3,
           "Basculegion [Male], Greninja, Pelipper<br>Archaludon, Sinistcha [Masterpiece Form], Annihilape"
          ],
          [
           "Milwaukee",
           5,
           3,
           "Basculegion [Male], Farigiraf, Archaludon<br>Scyther, Incineroar, Ursaluna [Bloodmoon]"
          ],
          [
           "Milwaukee",
           5,
           3,
           "Basculegion [Male], Pelipper, Archaludon<br>Incineroar, Amoonguss, Gholdengo"
          ],
          [
           "Milwaukee",
           5,
           3,
           "Corviknight, Chandelure, Archaludon<br>Incineroar, Amoonguss, Palafin"
          ],
          [
           "Milwaukee",
           5,
           3,
           "Basculegion [Male], Electabuzz, Pelipper<br>Archaludon, Rillaboom, Kingambit"
          ],
          [
           "Milwaukee",
           5,
           3,
           "Basculegion [Male], Pelipper, Archaludon<br>Incineroar, Whimsicott, Gholdengo"
          ],
          [
           "Milwaukee",
           5,
           3,
           "Dragonite, Ursaluna, Pelipper<br>Archaludon, Gholdengo, Porygon2"
          ],
          [
           "Milwaukee",
           5,
           3,
           "Sinistcha [Unremarkable Form], Dragonite, Ursaluna<br>Pelipper, Archaludon, Gholdengo"
          ],
          [
           "Milwaukee",
           4,
           4,
           "Ribombee, Pelipper, Archaludon<br>Incineroar, Rillaboom, Ursaluna [Bloodmoon]"
          ],
          [
           "Milwaukee",
           4,
           4,
           "Garganacl, Sinistcha [Unremarkable Form], Basculegion [Male]<br>Kilowattrel, Archaludon, Politoed"
          ],
          [
           "Milwaukee",
           4,
           4,
           "Basculegion [Male], Pelipper, Archaludon<br>Sneasler, Incineroar, Rillaboom"
          ],
          [
           "Milwaukee",
           4,
           4,
           "Basculegion [Male], Pelipper, Archaludon<br>Amoonguss, Maushold [Family of Four], Ceruledge"
          ],
          [
           "Milwaukee",
           4,
           4,
           "Hydreigon, Pelipper, Archaludon<br>Sneasler, Incineroar, Rillaboom"
          ],
          [
           "Milwaukee",
           4,
           4,
           "Blaziken, Basculegion [Male], Pelipper<br>Archaludon, Whimsicott, Maushold [Family of Four]"
          ],
          [
           "Milwaukee",
           4,
           4,
           "Basculegion [Male], Pelipper, Archaludon<br>Rillaboom, Maushold [Family of Four], Annihilape"
          ],
          [
           "Milwaukee",
           4,
           4,
           "Basculegion [Male], Pelipper, Archaludon<br>Rillaboom, Maushold [Family of Four], Annihilape"
          ],
          [
           "Milwaukee",
           4,
           4,
           "Basculegion [Male], Pelipper, Archaludon<br>Whimsicott, Ursaluna [Bloodmoon], Gholdengo"
          ],
          [
           "Milwaukee",
           4,
           4,
           "Sinistcha [Unremarkable Form], Basculegion [Male], Ursaluna<br>Pelipper, Archaludon, Incineroar"
          ],
          [
           "Milwaukee",
           4,
           4,
           "Talonflame, Basculegion [Male], Farigiraf<br>Pelipper, Archaludon, Rillaboom"
          ],
          [
           "Milwaukee",
           4,
           4,
           "Basculegion [Male], Pelipper, Archaludon<br>Incineroar, Amoonguss, Maushold [Family of Four]"
          ],
          [
           "Milwaukee",
           4,
           4,
           "Sinistcha [Unremarkable Form], Basculegion [Male], Ursaluna<br>Pelipper, Archaludon, Incineroar"
          ],
          [
           "Milwaukee",
           4,
           4,
           "Sinistcha [Unremarkable Form], Dragonite, Ursaluna<br>Pelipper, Archaludon, Gholdengo"
          ],
          [
           "Milwaukee",
           4,
           4,
           "Sinistcha [Unremarkable Form], Basculegion [Male], Ursaluna<br>Pelipper, Archaludon, Incineroar"
          ],
          [
           "Milwaukee",
           4,
           4,
           "Basculegion [Male], Greninja, Pelipper<br>Archaludon, Sinistcha [Masterpiece Form], Annihilape"
          ],
          [
           "Milwaukee",
           4,
           4,
           "Sinistcha [Unremarkable Form], Dragonite, Pelipper<br>Archaludon, Incineroar, Gholdengo"
          ],
          [
           "Milwaukee",
           4,
           4,
           "Sinistcha [Unremarkable Form], Basculegion [Male], Ursaluna<br>Pelipper, Archaludon, Incineroar"
          ],
          [
           "Milwaukee",
           4,
           4,
           "Dragonite, Ursaluna, Pelipper<br>Archaludon, Sinistcha [Masterpiece Form], Gholdengo"
          ],
          [
           "Milwaukee",
           4,
           4,
           "Basculegion [Male], Electabuzz, Pelipper<br>Rillaboom, Salamence, Kingambit"
          ],
          [
           "Milwaukee",
           4,
           4,
           "Sinistcha [Unremarkable Form], Archaludon, Incineroar<br>Gothitelle, Politoed, Kingdra"
          ],
          [
           "Milwaukee",
           4,
           4,
           "Basculegion [Male], Pelipper, Archaludon<br>Sneasler, Incineroar, Amoonguss"
          ],
          [
           "Milwaukee",
           4,
           4,
           "Sinistcha [Unremarkable Form], Dragonite, Ursaluna<br>Pelipper, Archaludon, Gholdengo"
          ],
          [
           "Milwaukee",
           4,
           4,
           "Hydreigon, Pelipper, Archaludon<br>Sneasler, Incineroar, Rillaboom"
          ],
          [
           "Milwaukee",
           4,
           4,
           "Sinistcha [Unremarkable Form], Basculegion [Male], Greninja<br>Pelipper, Archaludon, Annihilape"
          ],
          [
           "Milwaukee",
           4,
           4,
           "Basculegion [Male], Pelipper, Archaludon<br>Incineroar, Whimsicott, Gholdengo"
          ],
          [
           "Milwaukee",
           4,
           4,
           "Basculegion [Male], Ursaluna, Pelipper<br>Archaludon, Incineroar, Sinistcha [Masterpiece Form]"
          ],
          [
           "Milwaukee",
           4,
           4,
           "Basculegion [Male], Pelipper, Archaludon<br>Rillaboom, Maushold [Family of Four], Gholdengo"
          ],
          [
           "Milwaukee",
           4,
           4,
           "Sinistcha [Unremarkable Form], Basculegion [Male], Maushold [Family of Three]<br>Pelipper, Archaludon, Incineroar"
          ],
          [
           "Milwaukee",
           4,
           4,
           "Basculegion [Male], Pelipper, Archaludon<br>Amoonguss, Maushold [Family of Four], Annihilape"
          ],
          [
           "Milwaukee",
           4,
           4,
           "Basculegion [Male], Gardevoir, Pelipper<br>Archaludon, Indeedee [Female], Sneasler"
          ],
          [
           "Milwaukee",
           4,
           4,
           "Basculegion [Male], Hydreigon, Grimmsnarl<br>Pelipper, Archaludon, Gholdengo"
          ],
          [
           "Milwaukee",
           4,
           4,
           "Basculegion [Male], Garchomp, Pelipper<br>Archaludon, Sneasler, Ursaluna [Bloodmoon]"
          ],
          [
           "Milwaukee",
           3,
           3,
           "Basculegion [Male], Pelipper, Archaludon<br>Incineroar, Amoonguss, Gholdengo"
          ],
          [
           "Milwaukee",
           3,
           4,
           "Basculegion [Male], Pelipper, Archaludon<br>Incineroar, Whimsicott, Gholdengo"
          ],
          [
           "Milwaukee",
           3,
           4,
           "Basculegion [Male], Pelipper, Archaludon<br>Incineroar, Whimsicott, Gholdengo"
          ],
          [
           "Milwaukee",
           3,
           3,
           "Electabuzz, Pelipper, Archaludon<br>Rillaboom, Kingambit, Kingdra"
          ],
          [
           "Milwaukee",
           3,
           5,
           "Overqwil, Volcarona, Pelipper<br>Archaludon, Araquanid, Sinistcha [Masterpiece Form]"
          ],
          [
           "Milwaukee",
           3,
           5,
           "Sinistcha [Unremarkable Form], Basculegion [Male], Malamar<br>Pelipper, Archaludon, Incineroar"
          ],
          [
           "Milwaukee",
           3,
           5,
           "Basculegion [Male], Pelipper, Archaludon<br>Incineroar, Whimsicott, Gholdengo"
          ],
          [
           "Milwaukee",
           3,
           5,
           "Pelipper, Archaludon, Sneasler<br>Incineroar, Rillaboom, Ursaluna [Bloodmoon]"
          ],
          [
           "Milwaukee",
           3,
           5,
           "Dragonite, Pelipper, Archaludon<br>Incineroar, Rillaboom, Gholdengo"
          ],
          [
           "Milwaukee",
           3,
           5,
           "Dragonite, Basculegion [Male], Pelipper<br>Archaludon, Maushold [Family of Four], Gholdengo"
          ],
          [
           "Milwaukee",
           3,
           5,
           "Pelipper, Archaludon, Incineroar<br>Rillaboom, Annihilape, Primarina"
          ],
          [
           "Milwaukee",
           3,
           5,
           "Sinistcha [Unremarkable Form], Dragonite, Ursaluna<br>Pelipper, Archaludon, Gholdengo"
          ],
          [
           "Milwaukee",
           3,
           5,
           "Sinistcha [Unremarkable Form], Dragonite, Ursaluna<br>Pelipper, Archaludon, Gholdengo"
          ],
          [
           "Milwaukee",
           3,
           5,
           "Breloom, Drednaw, Garchomp<br>Pelipper, Archaludon, Frosmoth"
          ],
          [
           "Milwaukee",
           3,
           4,
           "Dragonite, Maushold [Family of Three], Archaludon<br>Incineroar, Milotic, Gholdengo"
          ],
          [
           "Milwaukee",
           3,
           5,
           "Basculegion [Male], Pelipper, Archaludon<br>Incineroar, Amoonguss, Gholdengo"
          ],
          [
           "Milwaukee",
           3,
           5,
           "Sinistcha [Unremarkable Form], Basculegion [Male], Ursaluna<br>Pelipper, Archaludon, Incineroar"
          ],
          [
           "Milwaukee",
           3,
           4,
           "Dragonite, Basculegion [Male], Archaludon<br>Toedscruel, Weezing [Galarian Form], Incineroar"
          ],
          [
           "Milwaukee",
           3,
           3,
           "Farigiraf, Pelipper, Archaludon<br>Maushold [Family of Four], Annihilape, Kingambit"
          ],
          [
           "Milwaukee",
           3,
           5,
           "Basculegion [Male], Pelipper, Archaludon<br>Incineroar, Amoonguss, Primarina"
          ],
          [
           "Milwaukee",
           3,
           4,
           "Sinistcha [Unremarkable Form], Ursaluna, Pelipper<br>Archaludon, Incineroar, Rillaboom"
          ],
          [
           "Milwaukee",
           3,
           5,
           "Klefki, Sinistcha [Unremarkable Form], Pelipper<br>Archaludon, Maushold [Family of Four], Annihilape"
          ],
          [
           "Milwaukee",
           3,
           5,
           "Sinistcha [Unremarkable Form], Basculegion [Male], Greninja<br>Pelipper, Archaludon, Annihilape"
          ],
          [
           "Milwaukee",
           3,
           5,
           "Overqwil, Archaludon, Incineroar<br>Amoonguss, Gothitelle, Politoed"
          ],
          [
           "Milwaukee",
           3,
           5,
           "Basculegion [Male], Pelipper, Archaludon<br>Incineroar, Amoonguss, Kingambit"
          ],
          [
           "Milwaukee",
           3,
           5,
           "Dragonite, Ursaluna, Pelipper<br>Archaludon, Sinistcha [Masterpiece Form], Gholdengo"
          ],
          [
           "Milwaukee",
           3,
           5,
           "Basculegion [Male], Pelipper, Archaludon<br>Incineroar, Amoonguss, Gholdengo"
          ],
          [
           "Milwaukee",
           3,
           5,
           "Sinistcha [Unremarkable Form], Dragonite, Pelipper<br>Archaludon, Incineroar, Quaquaval"
          ],
          [
           "Milwaukee",
           3,
           3,
           "Sinistcha [Unremarkable Form], Basculegion [Male], Ursaluna<br>Pelipper, Archaludon, Incineroar"
          ],
          [
           "Milwaukee",
           3,
           5,
           "Basculegion [Male], Grimmsnarl, Pelipper<br>Archaludon, Pikachu, Incineroar"
          ],
          [
           "Milwaukee",
           3,
           5,
           "Electabuzz, Pelipper, Archaludon<br>Tatsugiri [Droopy Form], Goodra [Hisuian Form], Kingdra"
          ],
          [
           "Milwaukee",
           3,
           5,
           "Basculegion [Male], Pelipper, Archaludon<br>Incineroar, Amoonguss, Gholdengo"
          ],
          [
           "Milwaukee",
           3,
           5,
           "Sinistcha [Unremarkable Form], Dragonite, Ursaluna<br>Pelipper, Archaludon, Gholdengo"
          ],
          [
           "Milwaukee",
           3,
           5,
           "Archaludon, Incineroar, Amoonguss<br>Gothitelle, Politoed, Kingdra"
          ],
          [
           "Milwaukee",
           3,
           5,
           "Jolteon, Grimmsnarl, Pelipper<br>Archaludon, Annihilape"
          ],
          [
           "Milwaukee",
           3,
           5,
           "Dragonite, Basculegion [Male], Farigiraf<br>Magmortar, Pelipper, Archaludon"
          ],
          [
           "Milwaukee",
           2,
           4,
           "Basculegion [Male], Maushold [Family of Three], Pelipper<br>Archaludon, Incineroar, Amoonguss"
          ],
          [
           "Milwaukee",
           2,
           4,
           "Basculegion [Male], Pelipper, Archaludon<br>Indeedee [Female], Armarouge, Whimsicott"
          ],
          [
           "Milwaukee",
           2,
           4,
           "Basculegion [Male], Pelipper, Archaludon<br>Incineroar, Whimsicott, Gholdengo"
          ],
          [
           "Milwaukee",
           2,
           3,
           "Basculegion [Male], Pelipper, Archaludon<br>Rillaboom, Maushold [Family of Four], Gholdengo"
          ],
          [
           "Milwaukee",
           2,
           6,
           "Basculegion [Male], Pelipper, Archaludon<br>Rillaboom, Maushold [Family of Four], Gholdengo"
          ],
          [
           "Milwaukee",
           2,
           6,
           "Sinistcha [Unremarkable Form], Basculegion [Male], Charizard<br>Pelipper, Archaludon, Incineroar"
          ],
          [
           "Milwaukee",
           2,
           4,
           "Sinistcha [Unremarkable Form], Basculegion [Male], Pelipper<br>Archaludon, Incineroar, Maushold [Family of Four]"
          ],
          [
           "Milwaukee",
           2,
           6,
           "Overqwil, Pelipper, Archaludon<br>Incineroar, Amoonguss, Ursaluna [Bloodmoon]"
          ],
          [
           "Milwaukee",
           2,
           5,
           "Sinistcha [Unremarkable Form], Basculegion [Male], Ursaluna<br>Pelipper, Archaludon, Incineroar"
          ],
          [
           "Milwaukee",
           2,
           3,
           "Sinistcha [Unremarkable Form], Dragonite, Ursaluna<br>Pelipper, Archaludon, Gholdengo"
          ],
          [
           "Milwaukee",
           2,
           6,
           "Falinks, Pelipper, Archaludon<br>Whimsicott, Maushold [Family of Four], Annihilape"
          ],
          [
           "Milwaukee",
           2,
           6,
           "Dragonite, Basculegion [Male], Pelipper<br>Incineroar, Venusaur, Gholdengo"
          ],
          [
           "Milwaukee",
           2,
           6,
           "Ursaluna, Pelipper, Archaludon<br>Incineroar, Amoonguss, Porygon2"
          ],
          [
           "Milwaukee",
           2,
           6,
           "Basculegion [Male], Pelipper, Archaludon<br>Incineroar, Amoonguss, Gholdengo"
          ],
          [
           "Milwaukee",
           2,
           6,
           "Sinistcha [Unremarkable Form], Basculegion [Male], Ursaluna<br>Pelipper, Archaludon, Incineroar"
          ],
          [
           "Milwaukee",
           2,
           5,
           "Chandelure, Pelipper, Archaludon<br>Whimsicott, Zoroark [Hisuian Form], Umbreon"
          ],
          [
           "Milwaukee",
           2,
           6,
           "Basculegion [Male], Farigiraf, Pelipper<br>Rillaboom, Ursaluna [Bloodmoon], Gholdengo"
          ],
          [
           "Milwaukee",
           1,
           4,
           "Sinistcha [Unremarkable Form], Basculegion [Male], Greninja<br>Pelipper, Archaludon, Annihilape"
          ],
          [
           "Milwaukee",
           1,
           4,
           "Dragonite, Maushold [Family of Three], Ursaluna<br>Pelipper, Archaludon, Gholdengo"
          ],
          [
           "Milwaukee",
           1,
           3,
           "Sinistcha [Unremarkable Form], Basculegion [Male], Ursaluna<br>Pelipper, Archaludon, Incineroar"
          ],
          [
           "Milwaukee",
           1,
           4,
           "Archaludon, Incineroar, Amoonguss<br>Gothitelle, Politoed, Kingdra"
          ],
          [
           "Milwaukee",
           1,
           5,
           "Basculegion [Male], Ursaluna, Pelipper<br>Archaludon, Incineroar, Sinistcha [Masterpiece Form]"
          ],
          [
           "Milwaukee",
           1,
           5,
           "Basculegion [Male], Grimmsnarl, Archaludon<br>Rillaboom, Politoed, Ursaluna [Bloodmoon]"
          ],
          [
           "Milwaukee",
           1,
           6,
           "Basculegion [Male], Electabuzz, Pelipper<br>Archaludon, Rillaboom, Kingambit"
          ],
          [
           "Milwaukee",
           1,
           7,
           "Electabuzz, Pelipper, Archaludon<br>Feraligatr, Rillaboom, Annihilape"
          ],
          [
           "Milwaukee",
           1,
           7,
           "Basculegion [Male], Kilowattrel, Pelipper<br>Gyarados, Archaludon, Kingambit"
          ],
          [
           "Milwaukee",
           1,
           6,
           "Overqwil, Pelipper, Archaludon<br>Incineroar, Sinistcha [Masterpiece Form], Ursaluna [Bloodmoon]"
          ],
          [
           "Milwaukee",
           1,
           7,
           "Sinistcha [Unremarkable Form], Ursaluna, Pelipper<br>Archaludon, Incineroar, Kingdra"
          ],
          [
           "Milwaukee",
           1,
           6,
           "Basculegion [Male], Pelipper, Archaludon<br>Incineroar, Amoonguss, Gholdengo"
          ],
          [
           "Milwaukee",
           0,
           1,
           "Basculegion [Male], Pelipper, Archaludon<br>Incineroar, Whimsicott, Gholdengo"
          ],
          [
           "Milwaukee",
           0,
           2,
           "Pelipper, Archaludon, Sinistcha [Masterpiece Form]<br>Rillaboom, Maushold [Family of Four], Annihilape"
          ],
          [
           "Milwaukee",
           0,
           3,
           "Glimmora, Garchomp, Pelipper<br>Archaludon, Incineroar, Quaquaval"
          ],
          [
           "Milwaukee",
           0,
           4,
           "Basculegion [Male], Pelipper, Archaludon<br>Porygon-Z, Incineroar, Rillaboom"
          ],
          [
           "Milwaukee",
           0,
           4,
           "Basculegion [Male], Pelipper, Archaludon<br>Incineroar, Amoonguss, Maushold [Family of Four]"
          ],
          [
           "Belo Horizonte",
           10,
           2,
           "Sinistcha [Unremarkable Form], Dragonite, Ursaluna<br>Pelipper, Archaludon, Gholdengo"
          ],
          [
           "Belo Horizonte",
           9,
           3,
           "Basculegion [Male], Pelipper, Archaludon<br>Incineroar, Whimsicott, Gholdengo"
          ],
          [
           "Belo Horizonte",
           8,
           3,
           "Sinistcha [Unremarkable Form], Basculegion [Male], Ursaluna<br>Pelipper, Archaludon, Incineroar"
          ],
          [
           "Belo Horizonte",
           6,
           4,
           "Basculegion [Male], Pelipper, Archaludon<br>Incineroar, Amoonguss, Gholdengo"
          ],
          [
           "Belo Horizonte",
           6,
           4,
           "Basculegion [Male], Pelipper, Archaludon<br>Whimsicott, Ursaluna [Bloodmoon], Gholdengo"
          ],
          [
           "Belo Horizonte",
           5,
           3,
           "Sinistcha [Unremarkable Form], Dragonite, Basculegion [Male]<br>Ursaluna, Pelipper, Archaludon"
          ],
          [
           "Belo Horizonte",
           5,
           3,
           "Basculegion [Male], Pelipper, Archaludon<br>Rillaboom, Ursaluna [Bloodmoon], Murkrow"
          ],
          [
           "Belo Horizonte",
           5,
           3,
           "Basculegion [Male], Pelipper, Archaludon<br>Incineroar, Whimsicott, Gholdengo"
          ],
          [
           "Belo Horizonte",
           5,
           3,
           "Basculegion [Male], Pelipper, Archaludon<br>Amoonguss, Rillaboom, Kingambit"
          ],
          [
           "Belo Horizonte",
           5,
           3,
           "Sinistcha [Unremarkable Form], Basculegion [Male], Ursaluna<br>Pelipper, Archaludon, Incineroar"
          ],
          [
           "Belo Horizonte",
           5,
           3,
           "Sinistcha [Unremarkable Form], Dragonite, Ursaluna<br>Pelipper, Archaludon, Gholdengo"
          ],
          [
           "Belo Horizonte",
           5,
           3,
           "Basculegion [Male], Ursaluna, Pelipper<br>Archaludon, Incineroar, Sinistcha [Masterpiece Form]"
          ],
          [
           "Belo Horizonte",
           5,
           3,
           "Sinistcha [Unremarkable Form], Dragonite, Ursaluna<br>Pelipper, Archaludon, Gholdengo"
          ],
          [
           "Belo Horizonte",
           5,
           3,
           "Sinistcha [Unremarkable Form], Dragonite, Ursaluna<br>Pelipper, Archaludon, Gholdengo"
          ],
          [
           "Belo Horizonte",
           4,
           3,
           "Basculegion [Male], Pelipper, Archaludon<br>Incineroar, Rillaboom, Gholdengo"
          ],
          [
           "Belo Horizonte",
           4,
           4,
           "Basculegion [Male], Pelipper, Archaludon<br>Incineroar, Whimsicott, Gholdengo"
          ],
          [
           "Belo Horizonte",
           4,
           4,
           "Indeedee [Male], Basculegion [Male], Pelipper<br>Archaludon, Maushold [Family of Four], Annihilape"
          ],
          [
           "Belo Horizonte",
           4,
           4,
           "Basculegion [Male], Pelipper, Archaludon<br>Sneasler, Amoonguss, Maushold [Family of Four]"
          ],
          [
           "Belo Horizonte",
           4,
           4,
           "Basculegion [Male], Pelipper, Archaludon<br>Incineroar, Whimsicott, Gholdengo"
          ],
          [
           "Belo Horizonte",
           4,
           4,
           "Sinistcha [Unremarkable Form], Dragonite, Ursaluna<br>Pelipper, Archaludon, Incineroar"
          ],
          [
           "Belo Horizonte",
           4,
           4,
           "Basculegion [Male], Pelipper, Archaludon<br>Incineroar, Amoonguss, Gholdengo"
          ],
          [
           "Belo Horizonte",
           4,
           4,
           "Basculegion [Male], Pelipper, Archaludon<br>Maushold [Family of Four], Annihilape, Gholdengo"
          ],
          [
           "Belo Horizonte",
           4,
           4,
           "Sinistcha [Unremarkable Form], Dragonite, Ursaluna<br>Pelipper, Archaludon, Gholdengo"
          ],
          [
           "Belo Horizonte",
           4,
           4,
           "Dragonite, Basculegion [Male], Pelipper<br>Archaludon, Incineroar, Gholdengo"
          ],
          [
           "Belo Horizonte",
           4,
           4,
           "Basculegion [Male], Pelipper, Archaludon<br>Amoonguss, Primarina, Gholdengo"
          ],
          [
           "Belo Horizonte",
           4,
           4,
           "Basculegion [Male], Pelipper, Archaludon<br>Whimsicott, Ursaluna [Bloodmoon], Gholdengo"
          ],
          [
           "Belo Horizonte",
           3,
           5,
           "Dragonite, Pelipper, Archaludon<br>Incineroar, Amoonguss, Gholdengo"
          ],
          [
           "Belo Horizonte",
           3,
           4,
           "Sinistcha [Unremarkable Form], Basculegion [Male], Greninja<br>Pelipper, Archaludon, Annihilape"
          ],
          [
           "Belo Horizonte",
           3,
           5,
           "Sinistcha [Unremarkable Form], Dragonite, Ursaluna<br>Pelipper, Archaludon, Gholdengo"
          ],
          [
           "Belo Horizonte",
           3,
           5,
           "Sinistcha [Unremarkable Form], Dragonite, Ursaluna<br>Pelipper, Archaludon, Gholdengo"
          ],
          [
           "Belo Horizonte",
           3,
           5,
           "Basculegion [Male], Pelipper, Archaludon<br>Amoonguss, Maushold [Family of Four], Annihilape"
          ],
          [
           "Belo Horizonte",
           3,
           5,
           "Basculegion [Male], Pelipper, Archaludon<br>Incineroar, Amoonguss, Gholdengo"
          ],
          [
           "Belo Horizonte",
           3,
           5,
           "Basculegion [Male], Pelipper, Archaludon<br>Whimsicott, Ursaluna [Bloodmoon], Gholdengo"
          ],
          [
           "Belo Horizonte",
           2,
           3,
           "Basculegion [Male], Pelipper, Archaludon<br>Sinistcha [Masterpiece Form], Maushold [Family of Four], Annihilape"
          ],
          [
           "Belo Horizonte",
           2,
           4,
           "Basculegion [Male], Pelipper, Archaludon<br>Rillaboom, Annihilape, Gholdengo"
          ],
          [
           "Belo Horizonte",
           2,
           6,
           "Pelipper, Archaludon, Amoonguss<br>Rillaboom, Maushold [Family of Four], Annihilape"
          ],
          [
           "Belo Horizonte",
           2,
           4,
           "Sinistcha [Unremarkable Form], Dragonite, Basculegion [Male]<br>Pelipper, Archaludon, Incineroar"
          ],
          [
           "Belo Horizonte",
           2,
           3,
           "Sinistcha [Unremarkable Form], Basculegion [Male], Ursaluna<br>Pelipper, Archaludon, Incineroar"
          ],
          [
           "Belo Horizonte",
           2,
           6,
           "Basculegion [Male], Archaludon, Incineroar<br>Amoonguss, Gothitelle, Politoed"
          ],
          [
           "Belo Horizonte",
           1,
           5,
           "Sinistcha [Unremarkable Form], Dragonite, Basculegion [Male]<br>Ursaluna, Pelipper, Archaludon"
          ],
          [
           "Belo Horizonte",
           0,
           2,
           "Basculegion [Male], Pelipper, Archaludon<br>Incineroar, Amoonguss, Maushold [Family of Four]"
          ],
          [
           "Belo Horizonte",
           0,
           2,
           "Basculegion [Male], Pelipper, Archaludon<br>Rillaboom, Maushold [Family of Four]"
          ],
          [
           "Belo Horizonte",
           0,
           3,
           "Mienshao, Pelipper, Archaludon<br>Oranguru, Zoroark [Hisuian Form], Ursaluna [Bloodmoon]"
          ]
         ],
         "hovertemplate": "<b>%{hovertext}</b><br><br>🏆 <b>Tournament:</b> %{customdata[0]}<br>⚔️ <b>Record:</b> %{customdata[1]}W - %{customdata[2]}L<br><br>🐉 <b>Pokémon:</b><br>%{customdata[3]}<extra></extra>",
         "hovertext": [
          "Riley Factura",
          "George Tifverman",
          "Benjamin Harlan",
          "Michael Bishop",
          "Craig Campbell",
          "Blake Silver",
          "Behzad Muntazir",
          "Michael Ruiz",
          "Rily Corn",
          "Ian Larson",
          "Matthew Faucett",
          "Zach Droegkamp",
          "Jake Erickson",
          "Chris Vroom",
          "Trista Medine",
          "Wyatt McDonald",
          "William Brown",
          "Nathan Cordle",
          "Dillon Clark",
          "Edhen Soto",
          "Erik Ewalt",
          "Kathryn Nowak",
          "Cole Basham",
          "Rohan Muthukumar",
          "Griffin Peters",
          "Gwen Edgar",
          "Miles Evans",
          "Bryce Hosaflook",
          "Tyler Struebing",
          "Torey Powers",
          "JJ Miller",
          "Dylan Salvanera",
          "Isaac Tomblin",
          "Jonny Davidson",
          "Alex Eley",
          "Diana Clark",
          "Austin Frank",
          "Shawn Boekeloo",
          "Logan Fields",
          "Alex Nemec",
          "Brock Nelson",
          "Brady Suby",
          "Aidan Junker",
          "Kyle Koran",
          "Cato Zhong",
          "Mateo Pelja",
          "Nicholas Rubingh",
          "Angel Requena",
          "Brett Callarman",
          "Tim Johnson",
          "Miguel Manzo",
          "Chase Rhodes",
          "Graham Smith",
          "Owen Ward",
          "Nic Quade",
          "Johnny Nguyen",
          "Yan Yuen",
          "Jacob Youn",
          "Athena Cihlar",
          "Michael Buzil",
          "Michael Dewitt",
          "Jesus Avila",
          "Mason Basham",
          "Lake Spohn",
          "Beau Rohde",
          "Nick D’Angelo",
          "Brandon Wright",
          "Lyndon Rees",
          "Alexander Berry",
          "ETHAN HERSHBERGER",
          "James Ramsey",
          "Jacob Stack",
          "DANIEL BACA",
          "Stephen Palombo",
          "Carlos Young",
          "Ethan Silva",
          "Mario Serrano",
          "Samuel Haarsma",
          "christopher ferguson",
          "Remington Steedley",
          "Phil Smyth",
          "Jordian Foster",
          "Marcos Morales-Martínez",
          "Vaughn Miller",
          "Daniel Pezzi",
          "Derrick Elmore",
          "Ethan Sommer",
          "Matthew Woodruff",
          "Leah Ramsier",
          "Travis Brosnan",
          "Jared Blahnik",
          "Isaac Ling",
          "Gregory Marinakis",
          "Caleb Clawson",
          "Lucas Holub",
          "Edward Ortega",
          "Timothy Leech",
          "Ben Wolf",
          "Syed Akbar Jaffery",
          "Cory Craven",
          "Mihir Desai",
          "Julius Caballero",
          "Thomas Davison",
          "Pietro Geisler",
          "Travis Brunell",
          "Kaspar Copper",
          "CJ Moritz",
          "John Sorensen",
          "Ethan Miandrisoa",
          "Noah Randle",
          "Ross Arndt",
          "Kyle Jones",
          "Rachel Stopchinski",
          "Daniel Eaton",
          "Rachel Osburn",
          "Wayne Bupp II",
          "Luke McAllister",
          "Wyatt Taylor",
          "Luke McCarthy",
          "Wyatt Gill",
          "Jerrod Cruz",
          "Olivia Parson",
          "Anthony Mubiala",
          "Irene Edgar",
          "Jalen Smith",
          "Nicholas Pappas",
          "Luke Okruszynski",
          "Elisabeth Nelson",
          "Gabriel Interiano",
          "Jeremy Miranda",
          "Alex Godlewski",
          "Mitchell Zieman",
          "Bela Lancaster",
          "Chris Hoag",
          "Kenneth Gamboa",
          "Fábio Lima",
          "Luciano Begot",
          "Tomas Barreto",
          "André Avelar Landre",
          "Cauã Ribeiro",
          "miguel esh barbosa",
          "Vinicius Souza",
          "Marcelo Higuti",
          "Claudio Kamoda",
          "Gustavo kengo",
          "Rafael Cassemiro Tezzotto",
          "Rogério Catel",
          "Maicon De Moraes Silveira",
          "Gabriel Menegon",
          "Danilo Martins",
          "Nicolás Miniero",
          "Igor Ribeiro",
          "Giovanni Colaprete",
          "Xoakin Rinaldi",
          "Tiago Pimentel",
          "Rodrigo Tapia",
          "Paulo Victor Leite de Souza",
          "Marcos Paulo de Almeida",
          "Igor Corrêa",
          "Luan Gaspar",
          "Rafael Martin",
          "Eduardo Alves dos Santos",
          "Rômulo Fagundes Sodré",
          "Victor Lopes",
          "André Braga Alvino",
          "Paula Oyarzún",
          "Jhoão Gabriel Martins Campos de Almeida Arneiro",
          "Igor Fagundes",
          "Giovanni Sbrissa",
          "Douglas Goltz Bernucio mendes",
          "Felipe Zborowski",
          "GUSTAVO NUNES MORENO",
          "Walter Neto",
          "Thiago Chincharo Laranjeira",
          "JESSICA DA SILVA",
          "Sávio Lima Soares",
          "Gael Garcia"
         ],
         "legendgroup": "Archetype 1: Basculegion [Male], Pelipper, Archaludon, Incineroar",
         "marker": {
          "color": "rgb(141,211,199)",
          "line": {
           "color": "DarkSlateGrey",
           "width": 0.5
          },
          "opacity": 0.8,
          "size": {
           "bdata": "lf24x4rO3z8jiIhfHHndP6vRFJHdH9w/q9EUkd0f3D+r0RSR3R/cP6vRFJHdH9w/Ht/F/umd2j81syHIPO/WPzWzIcg879Y/NbMhyDzv1j81syHIPO/WPzWzIcg879Y/NbMhyDzv1j81syHIPO/WPzWzIcg879Y/NbMhyDzv1j81syHIPO/WPzWzIcg879Y/NbMhyDzv1j81syHIPO/WPzWzIcg879Y/NbMhyDzv1j81syHIPO/WPzWzIcg879Y/NbMhyDzv1j81syHIPO/WPzWzIcg879Y/NbMhyDzv1j81syHIPO/WPzWzIcg879Y/NbMhyDzv1j/CPfFfzpnUP8I98V/OmdQ/wj3xX86Z1D/CPfFfzpnUP8I98V/OmdQ/wj3xX86Z1D/CPfFfzpnUP8I98V/OmdQ/wj3xX86Z1D/CPfFfzpnUP8I98V/OmdQ/wj3xX86Z1D/CPfFfzpnUP8I98V/OmdQ/wj3xX86Z1D/CPfFfzpnUP8I98V/OmdQ/wj3xX86Z1D/CPfFfzpnUP8I98V/OmdQ/wj3xX86Z1D/CPfFfzpnUP8I98V/OmdQ/wj3xX86Z1D/CPfFfzpnUP8I98V/OmdQ/wj3xX86Z1D/CPfFfzpnUP8I98V/OmdQ/wj3xX86Z1D/CPfFfzpnUP8I98V/OmdQ/wj3xX86Z1D+/lC7/m77RP7+ULv+bvtE/v5Qu/5u+0T+/lC7/m77RP7+ULv+bvtE/v5Qu/5u+0T+/lC7/m77RP7+ULv+bvtE/v5Qu/5u+0T+/lC7/m77RP7+ULv+bvtE/v5Qu/5u+0T+/lC7/m77RP7+ULv+bvtE/v5Qu/5u+0T+/lC7/m77RP7+ULv+bvtE/v5Qu/5u+0T+/lC7/m77RP7+ULv+bvtE/v5Qu/5u+0T+/lC7/m77RP7+ULv+bvtE/v5Qu/5u+0T+/lC7/m77RP7+ULv+bvtE/v5Qu/5u+0T+/lC7/m77RP7+ULv+bvtE/v5Qu/5u+0T+/lC7/m77RP7+ULv+bvtE/v5Qu/5u+0T+/lC7/m77RP7+ULv+bvtE/v5Qu/5u+0T+r0RSR3R/MP6vRFJHdH8w/q9EUkd0fzD+r0RSR3R/MP6vRFJHdH8w/q9EUkd0fzD+r0RSR3R/MP6vRFJHdH8w/q9EUkd0fzD+r0RSR3R/MP6vRFJHdH8w/q9EUkd0fzD+r0RSR3R/MP6vRFJHdH8w/q9EUkd0fzD+r0RSR3R/MP6vRFJHdH8w/v5Qu/5u+wT+/lC7/m77BP7+ULv+bvsE/v5Qu/5u+wT+/lC7/m77BP7+ULv+bvsE/v5Qu/5u+wT+/lC7/m77BP7+ULv+bvsE/v5Qu/5u+wT+/lC7/m77BP7+ULv+bvsE/AAAAAAAAAAAAAAAAAAAAAAAAAAAAAAAAAAAAAAAAAAAAAAAAAAAAAK2Ly1hssd4/I4iIXxx53T+r0RSR3R/cP6yujr5b6Ng/rK6Ovlvo2D81syHIPO/WPzWzIcg879Y/NbMhyDzv1j81syHIPO/WPzWzIcg879Y/NbMhyDzv1j81syHIPO/WPzWzIcg879Y/NbMhyDzv1j/CPfFfzpnUP8I98V/OmdQ/wj3xX86Z1D/CPfFfzpnUP8I98V/OmdQ/wj3xX86Z1D/CPfFfzpnUP8I98V/OmdQ/wj3xX86Z1D/CPfFfzpnUP8I98V/OmdQ/wj3xX86Z1D+/lC7/m77RP7+ULv+bvtE/v5Qu/5u+0T+/lC7/m77RP7+ULv+bvtE/v5Qu/5u+0T+/lC7/m77RP6vRFJHdH8w/q9EUkd0fzD+r0RSR3R/MP6vRFJHdH8w/q9EUkd0fzD+r0RSR3R/MP7+ULv+bvsE/AAAAAAAAAAAAAAAAAAAAAAAAAAAAAAAA",
           "dtype": "f8"
          },
          "sizemode": "area",
          "sizeref": 0.0013862943611198904,
          "symbol": "circle"
         },
         "mode": "markers",
         "name": "Archetype 1: Basculegion [Male], Pelipper, Archaludon, Incineroar",
         "orientation": "v",
         "showlegend": true,
         "type": "scatter",
         "x": {
          "bdata": "nqPhwZmO38F6oYbBtOTewdcKusG/0/bBLyKMwaD+BMId3uHBFYndwSIR6MFqgbvBooQFwrghjMHYhdPBq7yvwbEAs8Fi3ZrBVRHvwRqsmcG3RqDBKP67waok4cEdArPBySCMwZpv6MEN25HBUEmiwUon3sEo0w/CiA0Hwsgme8E2Vq7BTgWBwfEIysGRZnLB/QfCwXWApcEwgKXBNh/RwTIr2MEjUJDBSKbVwX422sG4IgnCOi7UwRYDs8EHb/nBk9DWwecqDsINyqHBRwKpwXYT3sEx1QbCW2VywWGetsFDNeTBVEfIwVffo8H1jNPB4XW+wQr+w8EpUbXBBCmBwddX6sFEFOLB1MHiwYALoMEemJnBa47TwaTv5sHp0HLBf5iJwRp7rcEwzI7BdwwJwhTDBMKBRZ7BRUiUwMWZ6cE0fNnBHWmWwXyjpcEwVufBrAniwby/qMGLoLbBgOiRwZbR4sGyKg7CfdHswR3O8MET4tjBZDnIwZygmcFiIO3BU0UGwrXfkcEVyZ/B7bC0wS6l4cHC0cTBvsbnwSvho8HR4KPBEonTwVav1MFc75TBPunRwWYXCcLD3qPBNovKwe4PqsELVu7BME/WwVDFmMFcC4zBqJu2wVArDsIY6NLB0eqRwWtGyMFEVoLBukuiwQSgl8GonrfBjN+VwbAG4sGdU+jB+3LgwYZ2oMGYwJ/BM3WNwZKm1cHQagfCA+fnwa220cFok+vBSx7Rwavq9sGkoIbB3gPmwQmrqMFXr9TBJxwFwmZGyMGzhAbCWyMJwvQ0kcGe8ebB+fyxwboXy8ETr+TBUhTvwVJ77sF0va7BPKgJwlgLy8Eotd/BGirRwdOk+sFVn7bBWyMJwlsjCcK5eb7Bqs/twasm0cGRP7DBoNmcwYMyoMFL3eDBUlbawYHhk8E36vbB26nVwQZmpMFotZLB",
          "dtype": "f4"
         },
         "xaxis": "x",
         "y": {
          "bdata": "7+8AQfg5ZkES8RlBqSxzQT6cEUGTBxxB2lsbv2Qf6L8XrGRBiZtuQQwJH0G+TejALpqNvz5GG7/XJGy+F0DHv5BCy0CbudE/qXVxQTpsNUEjUz9BLJPVQMWjR0HJSstAb4obv/kHJUF7PIjArYJrQSx8akHiCwrAXixcvwTuL0GnT6m/8ZBHQe0g+UB3MUtBRc4ZQVL4CEHR9ghBgo2FQUoqer/KmipB+E/wQH7yCr+IK3u/jR2Vv1hTy0CNh3s+3b88vP/hvr8OBXNB1JMgwGBfCEEgFe2/ITBLQWRSn0CPUWRBtTQxPhNZLEGFHMk/zzPtQG9oLkH8qUBBWoT9QCefGkG1AXlBJ95tQQW7akEBYYdAkgXJP9ztZUFdGTxBcNNiQYKRNkGkCudA1QQbwHgMwb+oZGhAR/KzQJYHKEFcNZ697o6Ov/cx1kCCSf5AzG3Wv2AMvkA+VJ9A4j6IwNIm7UB9iL+/wCgaQX+Biz4R40u/pE0dQHU5mEAmjBpBrpkawJU0iMDK4LFAgqAqQULxAEHkOy1BxMFxQbpZLEGcVSxBvu7IPwFMGUDN2t0/1PFQv1GFeL+Ib85AVZlUQUNxisHnLCBBGh+Yv7DSnkDZhRtBkEyfQCHYwb9u7NK+SjyIwGvmMD4qORZBF4drQWyU2UA7iB1BxPIIQGT1j7/zRx5BIJ92QbPL9kBamFRAkaZAQUpP8EAAnCDAm4JpQTF2Wb889yhB2JKFQa7TBsDn8RlBTQlvQQtNX0FPa5W9w4YJwDPgMD7+mJ2/2LzXvwSaREEfr3dBnpjzQKZM+0AuznlB7YHJvuDwJEF/qQRB/hsVwEjUU0ESMihBpaSFQdeHGUH5U59A2LzXv9i817/XMe1AmjwnQS+ZhUHenPJAU9IiQaq9+UClkbY/3a5zvmqbUcAFywbAEmrwQHiHHEF471FA",
          "dtype": "f4"
         },
         "yaxis": "y"
        },
        {
         "customdata": [
          [
           "Milwaukee",
           15,
           1,
           "Sneasler, Incineroar, Rillaboom<br>Ninetales [Alolan Form], Ursaluna [Bloodmoon], Gholdengo"
          ],
          [
           "Milwaukee",
           13,
           3,
           "Sneasler, Incineroar, Rillaboom<br>Ninetales [Alolan Form], Ursaluna [Bloodmoon], Gholdengo"
          ],
          [
           "Milwaukee",
           13,
           2,
           "Dragonite, Rillaboom, Maushold [Family of Four]<br>Annihilape, Ursaluna [Bloodmoon], Gholdengo"
          ],
          [
           "Milwaukee",
           11,
           3,
           "Dragonite, Electabuzz, Sneasler<br>Rillaboom, Primarina, Ursaluna [Bloodmoon]"
          ],
          [
           "Milwaukee",
           10,
           3,
           "Dragonite, Rillaboom, Maushold [Family of Four]<br>Annihilape, Ursaluna [Bloodmoon], Gholdengo"
          ],
          [
           "Milwaukee",
           10,
           3,
           "Basculegion [Male], Volcarona, Incineroar<br>Rillaboom, Ninetales [Alolan Form], Ursaluna [Bloodmoon]"
          ],
          [
           "Milwaukee",
           9,
           3,
           "Basculegion [Male], Sneasler, Rillaboom<br>Ninetales [Alolan Form], Ursaluna [Bloodmoon], Kingambit"
          ],
          [
           "Milwaukee",
           9,
           3,
           "Sneasler, Incineroar, Rillaboom<br>Ninetales [Alolan Form], Ursaluna [Bloodmoon], Gholdengo"
          ],
          [
           "Milwaukee",
           9,
           3,
           "Basculegion [Male], Sneasler, Magmar<br>Rillaboom, Ninetales [Alolan Form], Kingambit"
          ],
          [
           "Milwaukee",
           9,
           3,
           "Basculegion [Male], Sneasler, Magmar<br>Rillaboom, Ninetales [Alolan Form], Kingambit"
          ],
          [
           "Milwaukee",
           9,
           3,
           "Tatsugiri [Curly Form], Sneasler, Rillaboom<br>Dondozo, Ninetales [Alolan Form], Gholdengo"
          ],
          [
           "Milwaukee",
           9,
           3,
           "Dragonite, Rillaboom, Maushold [Family of Four]<br>Annihilape, Ursaluna [Bloodmoon], Gholdengo"
          ],
          [
           "Milwaukee",
           9,
           3,
           "Basculegion [Male], Volcarona, Incineroar<br>Rillaboom, Ninetales [Alolan Form], Ursaluna [Bloodmoon]"
          ],
          [
           "Milwaukee",
           9,
           3,
           "Sneasler, Incineroar, Rillaboom<br>Ninetales [Alolan Form], Ursaluna [Bloodmoon], Gholdengo"
          ],
          [
           "Milwaukee",
           9,
           3,
           "Sneasler, Incineroar, Rillaboom<br>Ninetales [Alolan Form], Ursaluna [Bloodmoon], Gholdengo"
          ],
          [
           "Milwaukee",
           9,
           3,
           "Garganacl, Dragonite, Tatsugiri [Curly Form]<br>Sneasler, Dondozo, Gholdengo"
          ],
          [
           "Milwaukee",
           9,
           3,
           "Volcarona, Sneasler, Incineroar<br>Rillaboom, Ninetales [Alolan Form], Ursaluna [Bloodmoon]"
          ],
          [
           "Milwaukee",
           9,
           3,
           "Sneasler, Incineroar, Rillaboom<br>Ninetales [Alolan Form], Ursaluna [Bloodmoon], Gholdengo"
          ],
          [
           "Milwaukee",
           9,
           3,
           "Archaludon, Sneasler, Incineroar<br>Rillaboom, Ninetales [Alolan Form], Ursaluna [Bloodmoon]"
          ],
          [
           "Milwaukee",
           8,
           4,
           "Basculegion [Male], Sneasler, Magmar<br>Rillaboom, Ninetales [Alolan Form], Kingambit"
          ],
          [
           "Milwaukee",
           8,
           4,
           "Dragonite, Rillaboom, Maushold [Family of Four]<br>Annihilape, Ursaluna [Bloodmoon], Gholdengo"
          ],
          [
           "Milwaukee",
           8,
           4,
           "Dragonite, Rillaboom, Maushold [Family of Four]<br>Annihilape, Ursaluna [Bloodmoon], Gholdengo"
          ],
          [
           "Milwaukee",
           8,
           4,
           "Sneasler, Incineroar, Rillaboom<br>Ninetales [Alolan Form], Ursaluna [Bloodmoon], Gholdengo"
          ],
          [
           "Milwaukee",
           8,
           4,
           "Dragonite, Rillaboom, Maushold [Family of Four]<br>Annihilape, Ursaluna [Bloodmoon], Gholdengo"
          ],
          [
           "Milwaukee",
           8,
           4,
           "Dragonite, Basculegion [Male], Sneasler<br>Rillaboom, Ninetales [Alolan Form], Ursaluna [Bloodmoon]"
          ],
          [
           "Milwaukee",
           8,
           4,
           "Sneasler, Incineroar, Rillaboom<br>Ninetales [Alolan Form], Ursaluna [Bloodmoon], Gholdengo"
          ],
          [
           "Milwaukee",
           8,
           4,
           "Basculegion [Male], Sneasler, Magmar<br>Rillaboom, Ninetales [Alolan Form], Kingambit"
          ],
          [
           "Milwaukee",
           7,
           5,
           "Garganacl, Clodsire, Scyther<br>Incineroar, Ninetales [Alolan Form], Gholdengo"
          ],
          [
           "Milwaukee",
           7,
           5,
           "Dragonite, Rillaboom, Annihilape<br>Ninetales [Alolan Form], Ursaluna [Bloodmoon], Gholdengo"
          ],
          [
           "Milwaukee",
           7,
           4,
           "Dragonite, Electabuzz, Rillaboom<br>Annihilape, Ursaluna [Bloodmoon], Gholdengo"
          ],
          [
           "Milwaukee",
           7,
           5,
           "Sneasler, Rillaboom, Maushold [Family of Four]<br>Annihilape, Ursaluna [Bloodmoon], Gholdengo"
          ],
          [
           "Milwaukee",
           7,
           5,
           "Sneasler, Incineroar, Rillaboom<br>Ninetales [Alolan Form], Ursaluna [Bloodmoon], Gholdengo"
          ],
          [
           "Milwaukee",
           7,
           5,
           "Sneasler, Rillaboom, Maushold [Family of Four]<br>Oranguru, Ursaluna [Bloodmoon], Kingambit"
          ],
          [
           "Milwaukee",
           7,
           5,
           "Sinistcha [Unremarkable Form], Electabuzz, Incineroar<br>Rillaboom, Zoroark [Hisuian Form], Kommo-o"
          ],
          [
           "Milwaukee",
           7,
           5,
           "Dragonite, Rillaboom, Maushold [Family of Four]<br>Annihilape, Ursaluna [Bloodmoon], Gholdengo"
          ],
          [
           "Milwaukee",
           7,
           5,
           "Sneasler, Incineroar, Rillaboom<br>Ninetales [Alolan Form], Ursaluna [Bloodmoon], Gholdengo"
          ],
          [
           "Milwaukee",
           7,
           5,
           "Pelipper, Archaludon, Sneasler<br>Rillaboom, Maushold [Family of Four], Ursaluna [Bloodmoon]"
          ],
          [
           "Milwaukee",
           6,
           5,
           "Basculegion [Male], Volcarona, Incineroar<br>Rillaboom, Ninetales [Alolan Form], Ursaluna [Bloodmoon]"
          ],
          [
           "Milwaukee",
           6,
           3,
           "Grimmsnarl, Volcarona, Electabuzz<br>Rillaboom, Ursaluna [Bloodmoon], Gholdengo"
          ],
          [
           "Milwaukee",
           6,
           6,
           "Indeedee [Male], Pelipper, Sneasler<br>Incineroar, Rillaboom, Gholdengo"
          ],
          [
           "Milwaukee",
           5,
           3,
           "Dragonite, Rillaboom, Maushold [Family of Four]<br>Annihilape, Ursaluna [Bloodmoon], Gholdengo"
          ],
          [
           "Milwaukee",
           5,
           3,
           "Dragonite, Sneasler, Incineroar<br>Rillaboom, Ursaluna [Bloodmoon], Gholdengo"
          ],
          [
           "Milwaukee",
           5,
           3,
           "Dragonite, Sneasler, Rillaboom<br>Ninetales [Alolan Form], Arcanine [Hisuian Form], Gholdengo"
          ],
          [
           "Milwaukee",
           5,
           3,
           "Dragonite, Sneasler, Rillaboom<br>Ninetales [Alolan Form], Arcanine [Hisuian Form], Gholdengo"
          ],
          [
           "Milwaukee",
           5,
           3,
           "Archaludon, Sneasler, Incineroar<br>Rillaboom, Ninetales [Alolan Form], Ursaluna [Bloodmoon]"
          ],
          [
           "Milwaukee",
           5,
           3,
           "Sneasler, Incineroar, Rillaboom<br>Ninetales [Alolan Form], Ursaluna [Bloodmoon], Gholdengo"
          ],
          [
           "Milwaukee",
           5,
           3,
           "Garganacl, Dragonite, Tatsugiri [Curly Form]<br>Sneasler, Dondozo, Gholdengo"
          ],
          [
           "Milwaukee",
           5,
           3,
           "Volcarona, Sneasler, Incineroar<br>Rillaboom, Ninetales [Alolan Form], Ursaluna [Bloodmoon]"
          ],
          [
           "Milwaukee",
           5,
           3,
           "Sneasler, Incineroar, Rillaboom<br>Ninetales [Alolan Form], Ursaluna [Bloodmoon], Gholdengo"
          ],
          [
           "Milwaukee",
           5,
           3,
           "Volcarona, Tyranitar, Rillaboom<br>Annihilape, Ursaluna [Bloodmoon], Gholdengo"
          ],
          [
           "Milwaukee",
           5,
           3,
           "Dragonite, Sneasler, Incineroar<br>Amoonguss, Ursaluna [Bloodmoon], Gholdengo"
          ],
          [
           "Milwaukee",
           5,
           3,
           "Baxcalibur, Volcarona, Incineroar<br>Rillaboom, Ninetales [Alolan Form], Ursaluna [Bloodmoon]"
          ],
          [
           "Milwaukee",
           5,
           3,
           "Dragonite, Sneasler, Rillaboom<br>Ninetales [Alolan Form], Arcanine [Hisuian Form], Gholdengo"
          ],
          [
           "Milwaukee",
           5,
           3,
           "Dragonite, Sneasler, Rillaboom<br>Ninetales [Alolan Form], Arcanine [Hisuian Form], Gholdengo"
          ],
          [
           "Milwaukee",
           5,
           3,
           "Sneasler, Incineroar, Rillaboom<br>Ninetales [Alolan Form], Ursaluna [Bloodmoon], Gholdengo"
          ],
          [
           "Milwaukee",
           5,
           3,
           "Sneasler, Incineroar, Rillaboom<br>Ninetales [Alolan Form], Ursaluna [Bloodmoon], Gholdengo"
          ],
          [
           "Milwaukee",
           5,
           3,
           "Dragonite, Rillaboom, Maushold [Family of Four]<br>Annihilape, Ursaluna [Bloodmoon], Gholdengo"
          ],
          [
           "Milwaukee",
           5,
           3,
           "Sneasler, Incineroar, Rillaboom<br>Ninetales [Alolan Form], Ursaluna [Bloodmoon], Gholdengo"
          ],
          [
           "Milwaukee",
           5,
           3,
           "Dragonite, Rillaboom, Maushold [Family of Four]<br>Annihilape, Ursaluna [Bloodmoon], Gholdengo"
          ],
          [
           "Milwaukee",
           5,
           3,
           "Basculegion [Male], Sneasler, Magmar<br>Rillaboom, Ninetales [Alolan Form], Kingambit"
          ],
          [
           "Milwaukee",
           5,
           3,
           "Dragonite, Sneasler, Rillaboom<br>Ninetales [Alolan Form], Arcanine [Hisuian Form], Gholdengo"
          ],
          [
           "Milwaukee",
           5,
           3,
           "Sneasler, Incineroar, Rillaboom<br>Ninetales [Alolan Form], Ursaluna [Bloodmoon], Gholdengo"
          ],
          [
           "Milwaukee",
           5,
           3,
           "Volcarona, Sneasler, Incineroar<br>Rillaboom, Ninetales [Alolan Form], Ursaluna [Bloodmoon]"
          ],
          [
           "Milwaukee",
           5,
           3,
           "Basculegion [Male], Electabuzz, Sneasler<br>Rillaboom, Skeledirge, Kommo-o"
          ],
          [
           "Milwaukee",
           5,
           3,
           "Hariyama, Gastrodon, Farigiraf<br>Volcarona, Rillaboom, Gholdengo"
          ],
          [
           "Milwaukee",
           5,
           3,
           "Sneasler, Rillaboom, Maushold [Family of Four]<br>Annihilape, Ursaluna [Bloodmoon], Gholdengo"
          ],
          [
           "Milwaukee",
           5,
           3,
           "Sneasler, Incineroar, Rillaboom<br>Ninetales [Alolan Form], Ursaluna [Bloodmoon], Gholdengo"
          ],
          [
           "Milwaukee",
           5,
           3,
           "Sneasler, Incineroar, Rillaboom<br>Ninetales [Alolan Form], Ursaluna [Bloodmoon], Gholdengo"
          ],
          [
           "Milwaukee",
           5,
           3,
           "Basculegion [Male], Sneasler, Rillaboom<br>Ninetales [Alolan Form], Ursaluna [Bloodmoon], Gholdengo"
          ],
          [
           "Milwaukee",
           5,
           3,
           "Volcarona, Sneasler, Rillaboom<br>Primarina, Ursaluna [Bloodmoon], Murkrow"
          ],
          [
           "Milwaukee",
           5,
           3,
           "Dragonite, Volcarona, Electabuzz<br>Sneasler, Rillaboom, Ursaluna [Bloodmoon]"
          ],
          [
           "Milwaukee",
           5,
           3,
           "Dragonite, Sneasler, Rillaboom<br>Ninetales [Alolan Form], Arcanine [Hisuian Form], Gholdengo"
          ],
          [
           "Milwaukee",
           5,
           3,
           "Basculegion [Male], Volcarona, Rillaboom<br>Annihilape, Ninetales [Alolan Form], Gholdengo"
          ],
          [
           "Milwaukee",
           5,
           3,
           "Garchomp, Volcarona, Incineroar<br>Rillaboom, Ninetales [Alolan Form], Frosmoth"
          ],
          [
           "Milwaukee",
           5,
           3,
           "Dragonite, Sneasler, Rillaboom<br>Primarina, Ursaluna [Bloodmoon], Gholdengo"
          ],
          [
           "Milwaukee",
           5,
           3,
           "Farigiraf, Electrode [Hisuian Form], Tyranitar<br>Rillaboom, Annihilape, Ursaluna [Bloodmoon]"
          ],
          [
           "Milwaukee",
           5,
           3,
           "Basculegion [Male], Volcarona, Incineroar<br>Rillaboom, Ninetales [Alolan Form], Ursaluna [Bloodmoon]"
          ],
          [
           "Milwaukee",
           5,
           3,
           "Sneasler, Incineroar, Rillaboom<br>Ninetales [Alolan Form], Ursaluna [Bloodmoon], Gholdengo"
          ],
          [
           "Milwaukee",
           5,
           3,
           "Dragonite, Rillaboom, Annihilape<br>Ninetales [Alolan Form], Ursaluna [Bloodmoon], Gholdengo"
          ],
          [
           "Milwaukee",
           5,
           3,
           "Dragonite, Tatsugiri [Curly Form], Dondozo<br>Ursaluna [Bloodmoon], Gholdengo"
          ],
          [
           "Milwaukee",
           5,
           3,
           "Dragonite, Sneasler, Rillaboom<br>Ninetales [Alolan Form], Arcanine [Hisuian Form], Gholdengo"
          ],
          [
           "Milwaukee",
           5,
           3,
           "Pelipper, Whimsicott, Rillaboom<br>Primarina, Ursaluna [Bloodmoon], Gholdengo"
          ],
          [
           "Milwaukee",
           5,
           3,
           "Garganacl, Scyther, Incineroar<br>Dondozo, Ninetales [Alolan Form], Gholdengo"
          ],
          [
           "Milwaukee",
           4,
           4,
           "Dragonite, Sneasler, Rillaboom<br>Ninetales [Alolan Form], Arcanine [Hisuian Form], Gholdengo"
          ],
          [
           "Milwaukee",
           4,
           4,
           "Basculegion [Male], Sneasler, Magmar<br>Rillaboom, Ninetales [Alolan Form], Kingambit"
          ],
          [
           "Milwaukee",
           4,
           4,
           "Dragonite, Sneasler, Rillaboom<br>Ninetales [Alolan Form], Arcanine [Hisuian Form], Gholdengo"
          ],
          [
           "Milwaukee",
           4,
           4,
           "Incineroar, Rillaboom, Annihilape<br>Ninetales [Alolan Form], Ursaluna [Bloodmoon], Bellibolt"
          ],
          [
           "Milwaukee",
           4,
           4,
           "Basculegion [Male], Volcarona, Incineroar<br>Rillaboom, Ninetales [Alolan Form], Ursaluna [Bloodmoon]"
          ],
          [
           "Milwaukee",
           4,
           4,
           "Dragonite, Incineroar, Rillaboom<br>Ursaluna [Bloodmoon], Murkrow, Gholdengo"
          ],
          [
           "Milwaukee",
           4,
           4,
           "Maushold [Family of Three], Incineroar, Rillaboom<br>Primarina, Gholdengo, Kommo-o"
          ],
          [
           "Milwaukee",
           4,
           4,
           "Basculegion [Male], Volcarona, Incineroar<br>Rillaboom, Ninetales [Alolan Form], Ursaluna [Bloodmoon]"
          ],
          [
           "Milwaukee",
           4,
           4,
           "Basculegion [Male], Sneasler, Magmar<br>Rillaboom, Ninetales [Alolan Form], Kingambit"
          ],
          [
           "Milwaukee",
           4,
           4,
           "Sneasler, Rillaboom, Dondozo<br>Ninetales [Alolan Form], Arcanine [Hisuian Form], Gholdengo"
          ],
          [
           "Milwaukee",
           4,
           4,
           "Magmar, Gothitelle, Rillaboom<br>Primarina, Kingambit, Gholdengo"
          ],
          [
           "Milwaukee",
           4,
           4,
           "Garganacl, Scyther, Incineroar<br>Dondozo, Ninetales [Alolan Form], Gholdengo"
          ],
          [
           "Milwaukee",
           4,
           4,
           "Dragonite, Sneasler, Rillaboom<br>Ninetales [Alolan Form], Arcanine [Hisuian Form], Gholdengo"
          ],
          [
           "Milwaukee",
           4,
           4,
           "Dragonite, Sneasler, Rillaboom<br>Ninetales [Alolan Form], Arcanine [Hisuian Form], Gholdengo"
          ],
          [
           "Milwaukee",
           4,
           4,
           "Basculegion [Male], Volcarona, Incineroar<br>Rillaboom, Ninetales [Alolan Form], Ursaluna [Bloodmoon]"
          ],
          [
           "Milwaukee",
           4,
           4,
           "Tyranitar, Rillaboom, Maushold [Family of Four]<br>Dondozo, Annihilape, Gholdengo"
          ],
          [
           "Milwaukee",
           4,
           4,
           "Sneasler, Rillaboom, Maushold [Family of Four]<br>Annihilape, Ursaluna [Bloodmoon], Gholdengo"
          ],
          [
           "Milwaukee",
           4,
           4,
           "Farigiraf, Electrode [Hisuian Form], Tyranitar<br>Rillaboom, Annihilape, Ursaluna [Bloodmoon]"
          ],
          [
           "Milwaukee",
           4,
           4,
           "Sneasler, Rillaboom, Ninetales [Alolan Form]<br>Ursaluna [Bloodmoon], Arcanine [Hisuian Form], Gholdengo"
          ],
          [
           "Milwaukee",
           4,
           4,
           "Basculegion [Male], Volcarona, Sneasler<br>Rillaboom, Ursaluna [Bloodmoon], Kingambit"
          ],
          [
           "Milwaukee",
           4,
           4,
           "Dragonite, Sneasler, Rillaboom<br>Ninetales [Alolan Form], Arcanine [Hisuian Form], Gholdengo"
          ],
          [
           "Milwaukee",
           4,
           4,
           "Dragonite, Sneasler, Rillaboom<br>Ninetales [Alolan Form], Arcanine [Hisuian Form], Gholdengo"
          ],
          [
           "Milwaukee",
           4,
           4,
           "Basculegion [Male], Volcarona, Incineroar<br>Rillaboom, Ninetales [Alolan Form], Ursaluna [Bloodmoon]"
          ],
          [
           "Milwaukee",
           4,
           4,
           "Incineroar, Rillaboom, Annihilape<br>Ninetales [Alolan Form], Ursaluna [Bloodmoon], Bellibolt"
          ],
          [
           "Milwaukee",
           4,
           4,
           "Talonflame, Gothitelle, Rillaboom<br>Primarina, Ursaluna [Bloodmoon], Gholdengo"
          ],
          [
           "Milwaukee",
           4,
           4,
           "Dragonite, Rillaboom, Maushold [Family of Four]<br>Annihilape, Ursaluna [Bloodmoon], Gholdengo"
          ],
          [
           "Milwaukee",
           4,
           4,
           "Dragonite, Rillaboom, Maushold [Family of Four]<br>Annihilape, Ursaluna [Bloodmoon], Gholdengo"
          ],
          [
           "Milwaukee",
           4,
           4,
           "Dragonite, Sneasler, Rillaboom<br>Ninetales [Alolan Form], Arcanine [Hisuian Form], Gholdengo"
          ],
          [
           "Milwaukee",
           4,
           3,
           "Maushold [Family of Three], Samurott [Hisuian Form], Rillaboom<br>Ninetales [Alolan Form], Ursaluna [Bloodmoon], Gholdengo"
          ],
          [
           "Milwaukee",
           4,
           4,
           "Archaludon, Sneasler, Whimsicott<br>Rillaboom, Ninetales [Alolan Form], Ursaluna [Bloodmoon]"
          ],
          [
           "Milwaukee",
           4,
           4,
           "Dragonite, Rillaboom, Maushold [Family of Four]<br>Annihilape, Ursaluna [Bloodmoon], Gholdengo"
          ],
          [
           "Milwaukee",
           4,
           4,
           "Grimmsnarl, Incineroar, Rillaboom<br>Annihilape, Ursaluna [Bloodmoon], Gholdengo"
          ],
          [
           "Milwaukee",
           4,
           4,
           "Sneasler, Incineroar, Rillaboom<br>Ninetales [Alolan Form], Ursaluna [Bloodmoon], Gholdengo"
          ],
          [
           "Milwaukee",
           4,
           4,
           "Dragonite, Sneasler, Rillaboom<br>Ninetales [Alolan Form], Arcanine [Hisuian Form], Gholdengo"
          ],
          [
           "Milwaukee",
           4,
           4,
           "Dragonite, Sneasler, Rillaboom<br>Ninetales [Alolan Form], Arcanine [Hisuian Form], Gholdengo"
          ],
          [
           "Milwaukee",
           4,
           4,
           "Sneasler, Incineroar, Rillaboom<br>Ninetales [Alolan Form], Ursaluna [Bloodmoon], Gholdengo"
          ],
          [
           "Milwaukee",
           4,
           4,
           "Basculegion [Male], Sneasler, Incineroar<br>Amoonguss, Rillaboom, Ursaluna [Bloodmoon]"
          ],
          [
           "Milwaukee",
           3,
           5,
           "Talonflame, Rillaboom, Annihilape<br>Primarina, Ninetales [Alolan Form], Gholdengo"
          ],
          [
           "Milwaukee",
           3,
           5,
           "Dragonite, Rillaboom, Maushold [Family of Four]<br>Annihilape, Ursaluna [Bloodmoon], Gholdengo"
          ],
          [
           "Milwaukee",
           3,
           3,
           "Sneasler, Incineroar, Rillaboom<br>Ninetales [Alolan Form], Ursaluna [Bloodmoon], Gholdengo"
          ],
          [
           "Milwaukee",
           3,
           5,
           "Electrode, Sinistcha [Unremarkable Form], Rillaboom<br>Murkrow, Gholdengo, Kommo-o"
          ],
          [
           "Milwaukee",
           3,
           5,
           "Gastrodon, Volcarona, Incineroar<br>Ninetales [Alolan Form], Ursaluna [Bloodmoon], Gholdengo"
          ],
          [
           "Milwaukee",
           3,
           4,
           "Dragonite, Pelipper, Archaludon<br>Sneasler, Rillaboom, Gholdengo"
          ],
          [
           "Milwaukee",
           3,
           5,
           "Basculegion [Male], Electabuzz, Incineroar<br>Rillaboom, Gholdengo, Kommo-o"
          ],
          [
           "Milwaukee",
           3,
           5,
           "Sneasler, Incineroar, Rillaboom<br>Ninetales [Alolan Form], Ursaluna [Bloodmoon], Gholdengo"
          ],
          [
           "Milwaukee",
           3,
           5,
           "Drifblim, Sneasler, Rillaboom<br>Primarina, Ninetales [Alolan Form], Ursaluna [Bloodmoon]"
          ],
          [
           "Milwaukee",
           3,
           5,
           "Garganacl, Dragonite, Tatsugiri [Curly Form]<br>Sneasler, Dondozo, Gholdengo"
          ],
          [
           "Milwaukee",
           3,
           5,
           "Incineroar, Whimsicott, Rillaboom<br>Primarina, Ursaluna [Bloodmoon], Gholdengo"
          ],
          [
           "Milwaukee",
           3,
           5,
           "Dragalge, Mimikyu, Gallade<br>Grimmsnarl, Rillaboom, Ursaluna [Bloodmoon]"
          ],
          [
           "Milwaukee",
           3,
           5,
           "Basculegion [Male], Volcarona, Incineroar<br>Rillaboom, Ninetales [Alolan Form], Ursaluna [Bloodmoon]"
          ],
          [
           "Milwaukee",
           3,
           5,
           "Sneasler, Incineroar, Rillaboom<br>Ninetales [Alolan Form], Ursaluna [Bloodmoon], Gholdengo"
          ],
          [
           "Milwaukee",
           3,
           5,
           "Dragonite, Sneasler, Incineroar<br>Amoonguss, Ursaluna [Bloodmoon], Gholdengo"
          ],
          [
           "Milwaukee",
           3,
           5,
           "Basculegion [Male], Kilowattrel, Armarouge<br>Sneasler, Rillaboom, Ursaluna [Bloodmoon]"
          ],
          [
           "Milwaukee",
           3,
           5,
           "Sneasler, Incineroar, Rillaboom<br>Ninetales [Alolan Form], Ursaluna [Bloodmoon], Gholdengo"
          ],
          [
           "Milwaukee",
           3,
           5,
           "Sneasler, Incineroar, Rillaboom<br>Ninetales [Alolan Form], Ursaluna [Bloodmoon], Gholdengo"
          ],
          [
           "Milwaukee",
           3,
           5,
           "Dragonite, Rillaboom, Maushold [Family of Four]<br>Annihilape, Ursaluna [Bloodmoon], Gholdengo"
          ],
          [
           "Milwaukee",
           3,
           5,
           "Dragonite, Sneasler, Rillaboom<br>Ninetales [Alolan Form], Ursaluna [Bloodmoon], Gholdengo"
          ],
          [
           "Milwaukee",
           3,
           5,
           "Dragonite, Farigiraf, Tyranitar<br>Rillaboom, Ursaluna [Bloodmoon], Gholdengo"
          ],
          [
           "Milwaukee",
           3,
           5,
           "Talonflame, Sneasler, Incineroar<br>Rillaboom, Ursaluna [Bloodmoon], Kingambit"
          ],
          [
           "Milwaukee",
           3,
           5,
           "Talonflame, Sneasler, Incineroar<br>Rillaboom, Ursaluna [Bloodmoon], Gholdengo"
          ],
          [
           "Milwaukee",
           2,
           4,
           "Sneasler, Incineroar, Rillaboom<br>Ninetales [Alolan Form], Ursaluna [Bloodmoon], Gholdengo"
          ],
          [
           "Milwaukee",
           2,
           3,
           "Dragonite, Sneasler, Rillaboom<br>Ninetales [Alolan Form], Arcanine [Hisuian Form], Gholdengo"
          ],
          [
           "Milwaukee",
           2,
           4,
           "Volcarona, Dragapult, Incineroar<br>Rillaboom, Ursaluna [Bloodmoon], Gholdengo"
          ],
          [
           "Milwaukee",
           2,
           3,
           "Sneasler, Incineroar, Amoonguss<br>Rillaboom, Ninetales [Alolan Form], Palafin"
          ],
          [
           "Milwaukee",
           2,
           6,
           "Electabuzz, Whimsicott, Rillaboom<br>Annihilape, Ursaluna [Bloodmoon], Gholdengo"
          ],
          [
           "Milwaukee",
           2,
           4,
           "Basculegion [Male], Volcarona, Incineroar<br>Rillaboom, Ninetales [Alolan Form], Ursaluna [Bloodmoon]"
          ],
          [
           "Milwaukee",
           2,
           3,
           "Dragonite, Sneasler, Rillaboom<br>Ninetales [Alolan Form], Arcanine [Hisuian Form], Gholdengo"
          ],
          [
           "Milwaukee",
           2,
           4,
           "Dragonite, Kilowattrel, Rillaboom<br>Annihilape, Ninetales [Alolan Form], Gholdengo"
          ],
          [
           "Milwaukee",
           2,
           6,
           "Pelipper, Archaludon, Sneasler<br>Incineroar, Rillaboom, Gholdengo"
          ],
          [
           "Milwaukee",
           2,
           6,
           "Basculegion [Male], Archaludon, Sneasler<br>Whimsicott, Rillaboom, Politoed"
          ],
          [
           "Milwaukee",
           2,
           6,
           "Dragonite, Dusclops, Glimmora<br>Tyranitar, Rillaboom, Gholdengo"
          ],
          [
           "Milwaukee",
           2,
           4,
           "Dragonite, Sneasler, Incineroar<br>Rillaboom, Ursaluna [Bloodmoon], Gholdengo"
          ],
          [
           "Milwaukee",
           2,
           6,
           "Hydreigon, Sneasler, Rillaboom<br>Ninetales [Alolan Form], Arcanine [Hisuian Form], Gholdengo"
          ],
          [
           "Milwaukee",
           2,
           6,
           "Incineroar, Rillaboom, Annihilape<br>Ninetales [Alolan Form], Ursaluna [Bloodmoon], Bellibolt"
          ],
          [
           "Milwaukee",
           2,
           6,
           "Dragonite, Electabuzz, Sneasler<br>Rillaboom, Gholdengo, Kommo-o"
          ],
          [
           "Milwaukee",
           2,
           4,
           "Dragonite, Rillaboom, Rhyperior<br>Ursaluna [Bloodmoon], Gholdengo"
          ],
          [
           "Milwaukee",
           2,
           6,
           "Sneasler, Incineroar, Rillaboom<br>Ninetales [Alolan Form], Ursaluna [Bloodmoon], Gholdengo"
          ],
          [
           "Milwaukee",
           2,
           6,
           "Talonflame, Hydreigon, Rillaboom<br>Maushold [Family of Four], Annihilape, Gholdengo"
          ],
          [
           "Milwaukee",
           2,
           3,
           "Garganacl, Scyther, Dondozo<br>Ninetales [Alolan Form], Tsareena, Gholdengo"
          ],
          [
           "Milwaukee",
           2,
           6,
           "Sneasler, Incineroar, Rillaboom<br>Ninetales [Alolan Form], Ursaluna [Bloodmoon], Gholdengo"
          ],
          [
           "Milwaukee",
           2,
           6,
           "Dragonite, Sneasler, Incineroar<br>Amoonguss, Ursaluna [Bloodmoon], Gholdengo"
          ],
          [
           "Milwaukee",
           2,
           6,
           "Dragonite, Sneasler, Rillaboom<br>Ninetales [Alolan Form], Arcanine [Hisuian Form], Gholdengo"
          ],
          [
           "Milwaukee",
           2,
           6,
           "Drifblim, Sneasler, Rillaboom<br>Ninetales [Alolan Form], Ursaluna [Bloodmoon], Gholdengo"
          ],
          [
           "Milwaukee",
           2,
           6,
           "Dragonite, Sneasler, Rillaboom<br>Ninetales [Alolan Form], Arcanine [Hisuian Form], Gholdengo"
          ],
          [
           "Milwaukee",
           2,
           6,
           "Dragonite, Sneasler, Rillaboom<br>Ninetales [Alolan Form], Arcanine [Hisuian Form], Gholdengo"
          ],
          [
           "Milwaukee",
           2,
           4,
           "Electabuzz, Sneasler, Rillaboom<br>Ninetales [Alolan Form], Ursaluna [Bloodmoon], Gholdengo"
          ],
          [
           "Milwaukee",
           2,
           5,
           "Dragonite, Basculegion [Male], Sneasler<br>Incineroar, Ursaluna [Bloodmoon], Gholdengo"
          ],
          [
           "Milwaukee",
           1,
           4,
           "Dragonite, Sneasler, Rillaboom<br>Ninetales [Alolan Form], Arcanine [Hisuian Form], Gholdengo"
          ],
          [
           "Milwaukee",
           1,
           4,
           "Sneasler, Incineroar, Rillaboom<br>Ninetales [Alolan Form], Ursaluna [Bloodmoon], Gholdengo"
          ],
          [
           "Milwaukee",
           1,
           3,
           "Dragonite, Maushold [Family of Three], Grimmsnarl<br>Rillaboom, Annihilape, Gholdengo"
          ],
          [
           "Milwaukee",
           1,
           3,
           "Garganacl, Dragonite, Tatsugiri [Curly Form]<br>Sneasler, Dondozo, Gholdengo"
          ],
          [
           "Milwaukee",
           1,
           5,
           "Sinistcha [Unremarkable Form], Volcarona, Sneasler<br>Incineroar, Rillaboom, Gholdengo"
          ],
          [
           "Milwaukee",
           1,
           7,
           "Basculegion [Male], Archaludon, Araquanid<br>Sneasler, Rillaboom, Politoed"
          ],
          [
           "Milwaukee",
           1,
           7,
           "Dragonite, Sneasler, Incineroar<br>Amoonguss, Ursaluna [Bloodmoon], Gholdengo"
          ],
          [
           "Milwaukee",
           0,
           1,
           "Dragonite, Sneasler, Incineroar<br>Amoonguss, Ursaluna [Bloodmoon], Gholdengo"
          ],
          [
           "Milwaukee",
           0,
           3,
           "Dragonite, Sneasler, Rillaboom<br>Ninetales [Alolan Form], Ceruledge, Gholdengo"
          ],
          [
           "Milwaukee",
           0,
           3,
           "Dragonite, Sneasler, Incineroar<br>Dondozo, Ursaluna [Bloodmoon], Gholdengo"
          ],
          [
           "Milwaukee",
           0,
           3,
           "Dragonite, Archaludon, Sneasler<br>Rillaboom, Ninetales [Alolan Form], Gholdengo"
          ],
          [
           "Milwaukee",
           0,
           3,
           "Dragonite, Sneasler, Rillaboom<br>Ninetales [Alolan Form], Arcanine [Hisuian Form], Gholdengo"
          ],
          [
           "Milwaukee",
           0,
           3,
           "Sneasler, Rillaboom, Annihilape<br>Ninetales [Alolan Form], Arcanine [Hisuian Form], Gholdengo"
          ],
          [
           "Belo Horizonte",
           12,
           2,
           "Volcarona, Sneasler, Incineroar<br>Rillaboom, Ninetales [Alolan Form], Ursaluna [Bloodmoon]"
          ],
          [
           "Belo Horizonte",
           10,
           3,
           "Dragonite, Incineroar, Rillaboom<br>Annihilape, Ursaluna [Bloodmoon], Gholdengo"
          ],
          [
           "Belo Horizonte",
           10,
           2,
           "Dragonite, Basculegion [Male], Volcarona<br>Rillaboom, Maushold [Family of Four], Gholdengo"
          ],
          [
           "Belo Horizonte",
           8,
           3,
           "Sneasler, Incineroar, Rillaboom<br>Ninetales [Alolan Form], Ursaluna [Bloodmoon], Gholdengo"
          ],
          [
           "Belo Horizonte",
           7,
           3,
           "Dragonite, Rillaboom, Annihilape<br>Ninetales [Alolan Form], Ursaluna [Bloodmoon], Gholdengo"
          ],
          [
           "Belo Horizonte",
           6,
           4,
           "Dragonite, Rillaboom, Annihilape<br>Ninetales [Alolan Form], Arcanine [Hisuian Form], Gholdengo"
          ],
          [
           "Belo Horizonte",
           6,
           4,
           "Basculegion [Male], Hydreigon, Electabuzz<br>Sneasler, Rillaboom, Kingambit"
          ],
          [
           "Belo Horizonte",
           6,
           4,
           "Dragonite, Magmar, Rillaboom<br>Annihilape, Ursaluna [Bloodmoon], Gholdengo"
          ],
          [
           "Belo Horizonte",
           5,
           3,
           "Sneasler, Incineroar, Rillaboom<br>Ninetales [Alolan Form], Ursaluna [Bloodmoon], Gholdengo"
          ],
          [
           "Belo Horizonte",
           5,
           3,
           "Basculegion [Male], Hydreigon, Electabuzz<br>Sneasler, Rillaboom, Kingambit"
          ],
          [
           "Belo Horizonte",
           5,
           3,
           "Sneasler, Incineroar, Rillaboom<br>Ninetales [Alolan Form], Ursaluna [Bloodmoon], Gholdengo"
          ],
          [
           "Belo Horizonte",
           5,
           3,
           "Dragonite, Incineroar, Rillaboom<br>Annihilape, Ursaluna [Bloodmoon], Gholdengo"
          ],
          [
           "Belo Horizonte",
           5,
           3,
           "Dragonite, Sneasler, Incineroar<br>Rillaboom, Ursaluna [Bloodmoon], Gholdengo"
          ],
          [
           "Belo Horizonte",
           5,
           3,
           "Sneasler, Incineroar, Rillaboom<br>Ninetales [Alolan Form], Ursaluna [Bloodmoon], Gholdengo"
          ],
          [
           "Belo Horizonte",
           4,
           4,
           "Dragonite, Rillaboom, Annihilape<br>Ninetales [Alolan Form], Arcanine [Hisuian Form], Gholdengo"
          ],
          [
           "Belo Horizonte",
           4,
           4,
           "Dragonite, Sneasler, Rillaboom<br>Ninetales [Alolan Form], Arcanine [Hisuian Form], Gholdengo"
          ],
          [
           "Belo Horizonte",
           4,
           4,
           "Dragonite, Mienshao, Rillaboom<br>Ninetales [Alolan Form], Arcanine [Hisuian Form], Gholdengo"
          ],
          [
           "Belo Horizonte",
           4,
           4,
           "Talonflame, Basculegion [Male], Incineroar<br>Rillaboom, Ninetales [Alolan Form], Ursaluna [Bloodmoon]"
          ],
          [
           "Belo Horizonte",
           4,
           4,
           "Dragonite, Incineroar, Amoonguss<br>Rillaboom, Ursaluna [Bloodmoon], Porygon2"
          ],
          [
           "Belo Horizonte",
           4,
           4,
           "Dragonite, Sneasler, Rillaboom<br>Ninetales [Alolan Form], Arcanine [Hisuian Form], Gholdengo"
          ],
          [
           "Belo Horizonte",
           4,
           4,
           "Sneasler, Incineroar, Rillaboom<br>Ninetales [Alolan Form], Ursaluna [Bloodmoon], Gholdengo"
          ],
          [
           "Belo Horizonte",
           3,
           5,
           "Dragonite, Rillaboom, Maushold [Family of Four]<br>Annihilape, Ursaluna [Bloodmoon], Gholdengo"
          ],
          [
           "Belo Horizonte",
           3,
           4,
           "Basculegion [Male], Volcarona, Incineroar<br>Rillaboom, Ninetales [Alolan Form], Ursaluna [Bloodmoon]"
          ],
          [
           "Belo Horizonte",
           3,
           5,
           "Sneasler, Incineroar, Amoonguss<br>Rillaboom, Ninetales [Alolan Form], Ursaluna [Bloodmoon]"
          ],
          [
           "Belo Horizonte",
           3,
           5,
           "Dragonite, Rillaboom, Maushold [Family of Four]<br>Annihilape, Ursaluna [Bloodmoon], Gholdengo"
          ],
          [
           "Belo Horizonte",
           3,
           5,
           "Basculegion [Male], Volbeat, Archaludon<br>Sneasler, Rillaboom, Politoed"
          ],
          [
           "Belo Horizonte",
           2,
           5,
           "Zebstrika, Kilowattrel, Garchomp<br>Maushold [Family of Four], Ninetales [Alolan Form], Gholdengo"
          ],
          [
           "Belo Horizonte",
           2,
           6,
           "Dragonite, Maushold [Family of Three], Sneasler<br>Ursaluna [Bloodmoon], Kingambit, Gholdengo"
          ],
          [
           "Belo Horizonte",
           1,
           4,
           "Basculegion [Male], Sneasler, Rillaboom<br>Ursaluna [Bloodmoon], Salamence, Gholdengo"
          ],
          [
           "Belo Horizonte",
           1,
           4,
           "Dragonite, Garchomp, Sneasler<br>Magmar, Rillaboom, Gholdengo"
          ],
          [
           "Belo Horizonte",
           1,
           5,
           "Kilowattrel, Sneasler, Incineroar<br>Rillaboom, Ninetales [Alolan Form], Ursaluna [Bloodmoon]"
          ]
         ],
         "hovertemplate": "<b>%{hovertext}</b><br><br>🏆 <b>Tournament:</b> %{customdata[0]}<br>⚔️ <b>Record:</b> %{customdata[1]}W - %{customdata[2]}L<br><br>🐉 <b>Pokémon:</b><br>%{customdata[3]}<extra></extra>",
         "hovertext": [
          "Michael Arand",
          "Joshua Lorcy",
          "Leonard Craft III",
          "Sierra Elsbecker",
          "Christopher Han",
          "Ethan Haberle",
          "Ale Piscitelli",
          "Dorian Kang",
          "Olivia Moledzki",
          "Hoang Ho",
          "Enrique Grimaldo",
          "Jose Torres",
          "Andrew Burke",
          "Donghun Youm",
          "Jérémy Côté",
          "Aaron Perez",
          "Zachary Mnich",
          "Aaron Grubbs",
          "Bobby Rochelle",
          "Jonathan Martin",
          "Cayden Owens",
          "Christopher Baez",
          "Alex Jahnke",
          "Brady Smith",
          "Samuel Thompson",
          "Benji Irons",
          "Alyssa Smith",
          "Stefan Mott",
          "Lev Shkolnikov",
          "Matthew Karney",
          "Blake Mullins",
          "Brian Hough",
          "Lindsey Henderson-Zintz",
          "Adam Warren",
          "Robert Bosch",
          "Justin Schweiger",
          "Nishant Joshi",
          "Thomas Irwin",
          "Nikolas Vasilevskas",
          "Eric Tarlas",
          "Kimo Nishimura",
          "Justin Miranda-Radbord",
          "Howard Simms",
          "Brendan DeWerth",
          "MJ Rogers",
          "Jonathan Quiñones",
          "Logan Mazur",
          "Bukunmi Oyewole",
          "David Mancuso",
          "Damon Castleman",
          "David Hutner",
          "John Stephenson",
          "Joseph Lesko",
          "Andrew Xu",
          "Luis Medina",
          "Abel Ewere",
          "Christopher Howe",
          "Alexander Day",
          "Mitchell Davies",
          "Emily Parson",
          "Hunter Wellens",
          "David Kubiak",
          "Noah Gardner",
          "Ryan Reagan",
          "Andrew Wood",
          "Matthew Starzyk",
          "Waleed helmy",
          "Andrew Navarro",
          "Aaron Riker",
          "Richard Konieczny",
          "Preston Lawrence",
          "Abhirup Obi Mukhopadhyay",
          "Jonathan Chemburkar",
          "Jesse Schooling",
          "Jake Milosavljevic",
          "Richard Macey",
          "Kenneth Lin",
          "Samuel Zeballos",
          "David Maxwell",
          "Austin Belland",
          "Maya Bhemisetty",
          "Cameron Miller",
          "Grant Hussey",
          "Jared VanderWeele",
          "Angel Walker",
          "Cole Cisakowski",
          "Ethan Wang",
          "Jack Byers",
          "Orlando Santiago",
          "Sam Hopkins",
          "Pavan Nimmagadda",
          "Gabriel Hartman",
          "Nic Gauer",
          "William Fuh",
          "Chirayu Gupta",
          "Brendan Przywara",
          "Luke Lavin",
          "Joseph Sakowski",
          "J Cousten",
          "Austin Le",
          "David Harupa",
          "AC Williams",
          "Joseph Eckhart",
          "Jacob Miller",
          "Kyle Gurzell",
          "Adrian Russo",
          "Austin Choi",
          "Garrett Smith",
          "Henry Dammer",
          "Austin Magro",
          "Cooper Lair",
          "Keagan McLeod",
          "Byrd Cook",
          "Joshua Nevin Chandrasekar",
          "Carter McLaughlin",
          "Steven Burton",
          "Nick Duncan",
          "James Rogers III",
          "Prateek Bynagari",
          "Justin Nitzschke",
          "Hannah Guetterman",
          "Albert Hwang",
          "Sungchan Kim",
          "Andrew Joseph",
          "Ryan Sowards",
          "Joseph McCullough",
          "Rod Guidry",
          "Colin Jacobson",
          "James Pemberton",
          "John Mills",
          "Kaleb Park",
          "Nathan Ellis",
          "William Lesko",
          "Gabrielle Philippon",
          "Justin Tolbert",
          "Noah Moll",
          "Kevin Yim",
          "Lane Weber",
          "Bontu Takele",
          "Marvyn Değer",
          "Chanz Edwards",
          "Jonah Pauling",
          "Nathan Surbrook",
          "Grant Bielecki",
          "Jason Morgan",
          "Christian Oakley",
          "Shea Wagner",
          "Camey Gardner",
          "Aaron Zawislak",
          "Christian Kepler",
          "Brandon Walker",
          "Sydney Hillan",
          "Alex Helderman",
          "Miroslawa Morioka",
          "Scott Meyer",
          "Jack Stonecipher",
          "George Jeno",
          "Mike Surwillo",
          "Wesley Brainard",
          "Julia Kang",
          "Juan Rubio",
          "Stephen White",
          "Thomas McDevitt",
          "Matthew Brittain",
          "David Kinjerski",
          "Austin Paulraj",
          "Omar Abbasi",
          "Agustin Kruel",
          "Jose Arteaga",
          "Tristan Schenk",
          "Andrew Noland",
          "donald wilinski",
          "Toby Halliday",
          "Calvin Nisson",
          "Ryan Patterson",
          "Benjamin Noble",
          "Rachel Lambert",
          "Jacob Hanson",
          "Connor Stender",
          "Chris Kubick",
          "Austin Swecker",
          "Dylan Osborne",
          "Garrett Wilson",
          "Renzo Navarro",
          "Sebastian Lobos",
          "Pedro H Soares Feitosa",
          "juan salerno",
          "Bruno Rebello",
          "Bernardo Reis Luz",
          "Caio Lattanzi",
          "Esteban Ojeda",
          "Ivo Giorgini",
          "Thiago Lattanzi",
          "Dorian Quiñonez",
          "Cristóbal Carrasco",
          "Gustavo Goes",
          "Yan Sym",
          "Caio Webber de Lima",
          "Davi Gonçalves de Pontes",
          "Jefferson Camelo",
          "Thiago Barbosa",
          "Humberto Rocha Araujo Junior",
          "Luis Carlos Vieira Junior",
          "Pablo Verástegui",
          "Kaue Mota",
          "Murilo Camargo",
          "Eduardo Rodrigues",
          "Omar Acuña Acevedo",
          "Guilherme Reis",
          "Eduardo Constantino Morais",
          "Stephanie Katayose",
          "Murilo Vieira Santa Barbara",
          "Victor Rachik",
          "Gustavo Rufino"
         ],
         "legendgroup": "Archetype 2: Sneasler, Rillaboom, Ninetales [Alolan Form], Ursaluna [Bloodmoon], Gholdengo",
         "marker": {
          "color": "rgb(255,255,179)",
          "line": {
           "color": "DarkSlateGrey",
           "width": 0.5
          },
          "opacity": 0.8,
          "size": {
           "bdata": "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",
           "dtype": "f8"
          },
          "sizemode": "area",
          "sizeref": 0.0013862943611198904,
          "symbol": "circle"
         },
         "mode": "markers",
         "name": "Archetype 2: Sneasler, Rillaboom, Ninetales [Alolan Form], Ursaluna [Bloodmoon], Gholdengo",
         "orientation": "v",
         "showlegend": true,
         "type": "scatter",
         "x": {
          "bdata": "eeiBQUDsc0EFomJAl2N3QTFcSUBAf19BehuyQZZUa0EAV7RBvb21QaZW20EMsBNAd7VdQTQ0gEHIR3xBtsRGQZrkgkGT7G1BHTenQeKutUFNoiZAZbs4QGECdUEXnF9AzY2pQYnFgUHrSbRBIIIkQXnpx0BW56RAl+lrQHCDiUFC2KlBJ4K5vzcWCkDX64pBqyNuweCrZEHK4jBBvjhvwVvPM0AUgFxAzy78Qfa6A0JFN6dBgDZ7QaHERkFx5oJBIh9+QRCTC0G34sg/w2NoQf4qAkKPDPtBT/p5QWx8jkGoYFlAkNRvQXUeNEBqNrNBtBUCQq2jhEFZ54JBiri0QdDlNEFX6WtAkoCFQYw6kEGr8p5BgPOHQVa64kFkH/xB01eTQThXZ0Ehqm9BQIcGQcRiW0FSUYVBke/HQOkAO0Fjqf9BGYM6PqT5J0H6AQJCKsmzQZlvAUJ8WjNB3fBiQfnulEB+WCW+G3lqQRvJtUHQs+JBN/eiQRj8J0HcBv1BjmcAQrDBakFaKqw/rdlrQIOIBkHs5OBBAm+sQWCw/0Hr6/tBtKdoQTVaM0Griy1BgO0CQNtsEUDaKQRCoqOTQYNnqEEIXQdAMwpjQLZJg0Eurf9BggoBQmmqekEcQp1Bxn8oQY8LXUCAd4pBPmY2QWH/UkGUGYXByoj+wCk/iEG814hBhsJGQU0nzT1RlwVBpMZnQT+PcEGng8g/h6aiQUNvhkEQxINBToMkQNcmpEESe6RAKEheQQ1AYEFBPIdBAvUEQgjQKkEkzJlBTJ+0QOmVXEFKqgVCeCndQGV3dcGJ6E3BjfCoQJdtXEAWj+1BjVYzQahZ+0EQ3JtAOoaIQcss0T8CDClB17eLQeLayD8UrQRCivuYQX1SAkKVkgZC7MaZQYeXsL4yxAZCzZZ4QchimUAGw0ZB019DQTkGUsFYNsg/xfTIPybg/0EnHXc/LkcCQl+SAkKLUe5Bz+eCQYIWYkBqw0O/GN6CQXT0x0DCrflBbBW2QY0SjkC4vIBBURS2QQtGkEFpFmJAHHpcQJhZi0FtrvlBAvUEQv8QAUK4tmdBzCukQAL1BEJCuI5B2WZJQEzQXkHOpppBUHQ4QAEHUsFsVYnA+HkPQF8BoEFSI/xBY8SiQQ==",
          "dtype": "f4"
         },
         "xaxis": "x",
         "y": {
          "bdata": "0GSAQVNyaEER855BEwcGQbH9l0Fo7blBltPzQPleekF/p8hAX2PUQGnIGUHA0phBaVK6QXrKbUEsmWJBlb7wwM8GqEEq/G9BsYiMQUXOyUA8k5dBnf+WQc/Yd0EWvptBBh4lQQ7AYkHb6NRAGeUrPt+GikFDc5dBfamyQXTRZEE8QwhAl8Tlv6HFmkHRTGtBGbkyQdrSuUHilNNADZRjQSoinUGRgElBf94+Qc0rSkG4iIxBrwWAQea58MDIC6hBqbd4QTsMvkC2mDNBUr6vQZGRP0HjwkZBv9lvQU7JbkG5PJpBZL6AQQsdnUGPctBAa1o5QcltckFxDKhB63d8QGsfvEAkq7JBBINhQWindkHasTNBPNQYQd1pk7+mrEtBOXrHQIbFrEGeXgtBm3CtQFhNvEHn/GxBEI2KQTEszcDqijpBeCPfPxJ1BL4seEZBFpLJQHPeWUGszIlBtwrAQQtHSUF2wYA/iE6+Qd061EBE7idBFH2Wv5WRBL57VFdB9I1KQUZWvEES0rBBm66yQTBwrUA9WVFBMcgDQTkBQkFP0lFBEOG6QfTMiUGnbCNBxhmdQVpToUEklzpBmNRIQX/xh0GEfJ9Bxpd/QRUUeUGHKlpBY3hQQfb1g0F1IqNBI9UxQcWZoEEAqXVBIM2rQKwCoEGVmWdBzBk/QULReUEFAyBB98DwwFTvwD+w7YJACXa/QSLnhEG6ujNBQk0jQUmsgEE6H4RBKpiiQQepSkFfcGlB07VHQX4oTUEyeolBuoRWQXW9/EBF2ptBcCGaQb/MvkHMez5BipKEQa7CWkFfFRxBAqZrQTKLSUG1uUpBmsyJQQlfAkEPi2RBGx2EQcpbrkFIFSe/ywWAQeLFM0FjqERBKjBMQXyAT0FMV0dB+HJWQWgvPkHNEE1BoviIQSiSi0GqwPDAX2ydQBcLHEHZwzNBpcYzQaG0IUF6ISJBqxYgQbQhXUFXBFdBfhqoQbDrgEH5zotBX4yKQTCWikF4/H1BKPV6QAoSkEFuLodBkvR6QNSIf0HL6YBBUZhJQZK5h0H2/H1BuoRWQRqrb0EvQshBqq8yQbqEVkEHUoRBkG6iQYbov0GUnJxB3qyiQe8LHEGzIErBhoEVQbWaK0G5vwVBI7uaQQ==",
          "dtype": "f4"
         },
         "yaxis": "y"
        },
        {
         "customdata": [
          [
           "Milwaukee",
           10,
           3,
           "Indeedee [Male], Maushold [Family of Three], Tyranitar<br>Sneasler, Annihilape, Excadrill"
          ],
          [
           "Milwaukee",
           9,
           3,
           "Indeedee [Male], Dragonite, Tatsugiri [Curly Form]<br>Sneasler, Dondozo, Zoroark [Hisuian Form]"
          ],
          [
           "Milwaukee",
           7,
           5,
           "Corviknight, Indeedee [Male], Tyranitar<br>Sneasler, Annihilape, Excadrill"
          ],
          [
           "Milwaukee",
           5,
           3,
           "Indeedee [Male], Dusclops, Tyranitar<br>Sneasler, Ursaluna [Bloodmoon], Excadrill"
          ],
          [
           "Milwaukee",
           5,
           3,
           "Indeedee [Male], Dusclops, Tyranitar<br>Sneasler, Ursaluna [Bloodmoon], Excadrill"
          ],
          [
           "Milwaukee",
           5,
           3,
           "Indeedee [Male], Tatsugiri [Curly Form], Slaking<br>Sneasler, Dondozo, Weezing"
          ],
          [
           "Milwaukee",
           5,
           3,
           "Indeedee [Male], Tatsugiri [Curly Form], Sneasler<br>Whimsicott, Dondozo, Typhlosion [Hisuian Form]"
          ],
          [
           "Milwaukee",
           5,
           3,
           "Indeedee [Male], Volcarona, Electabuzz<br>Tyranitar, Sneasler, Ursaluna [Bloodmoon]"
          ],
          [
           "Milwaukee",
           5,
           3,
           "Indeedee [Male], Ninetales, Charizard<br>Dragapult, Sneasler, Scizor"
          ],
          [
           "Milwaukee",
           5,
           3,
           "Indeedee [Male], Sinistcha [Unremarkable Form], Volcarona<br>Tyranitar, Sneasler, Excadrill"
          ],
          [
           "Milwaukee",
           5,
           3,
           "Indeedee [Male], Dusclops, Tyranitar<br>Sneasler, Ursaluna [Bloodmoon], Excadrill"
          ],
          [
           "Milwaukee",
           4,
           4,
           "Indeedee [Male], Volcarona, Tyranitar<br>Sneasler, Annihilape, Ursaluna [Bloodmoon]"
          ],
          [
           "Milwaukee",
           4,
           3,
           "Indeedee [Male], Tyranitar, Sneasler<br>Maushold [Family of Four], Annihilape, Excadrill"
          ],
          [
           "Milwaukee",
           4,
           4,
           "Indeedee [Male], Dragonite, Sneasler<br>Whimsicott, Typhlosion [Hisuian Form], Ursaluna [Bloodmoon]"
          ],
          [
           "Milwaukee",
           4,
           4,
           "Indeedee [Male], Drifblim, Dragapult<br>Sneasler, Kleavor, Murkrow"
          ],
          [
           "Milwaukee",
           4,
           4,
           "Indeedee [Male], Talonflame, Tatsugiri [Curly Form]<br>Sneasler, Dondozo, Gholdengo"
          ],
          [
           "Milwaukee",
           4,
           4,
           "Indeedee [Male], Meowscarada, Sneasler<br>Sylveon, Primarina, Decidueye [Hisuian Form]"
          ],
          [
           "Milwaukee",
           4,
           4,
           "Corviknight, Indeedee [Male], Tyranitar<br>Sneasler, Annihilape, Excadrill"
          ],
          [
           "Milwaukee",
           4,
           4,
           "Indeedee [Male], Tatsugiri [Curly Form], Pelipper<br>Archaludon, Sneasler, Dondozo"
          ],
          [
           "Milwaukee",
           4,
           4,
           "Indeedee [Male], Dragapult, Sneasler<br>Incineroar, Whimsicott, Typhlosion [Hisuian Form]"
          ],
          [
           "Milwaukee",
           4,
           4,
           "Indeedee [Male], Gyarados, Tyranitar<br>Archaludon, Sneasler, Excadrill"
          ],
          [
           "Milwaukee",
           4,
           4,
           "Corviknight, Indeedee [Male], Tyranitar<br>Sneasler, Annihilape, Excadrill"
          ],
          [
           "Milwaukee",
           4,
           4,
           "Indeedee [Male], Volcarona, Tyranitar<br>Sneasler, Annihilape, Ursaluna [Bloodmoon]"
          ],
          [
           "Milwaukee",
           4,
           4,
           "Indeedee [Male], Charizard, Sneasler<br>Incineroar, Whimsicott, Kleavor"
          ],
          [
           "Milwaukee",
           4,
           4,
           "Indeedee [Male], Tyranitar, Sneasler<br>Maushold [Family of Four], Annihilape, Excadrill"
          ],
          [
           "Milwaukee",
           4,
           4,
           "Indeedee [Male], Volcarona, Tyranitar<br>Sneasler, Annihilape, Ursaluna [Bloodmoon]"
          ],
          [
           "Milwaukee",
           4,
           4,
           "Corviknight, Indeedee [Male], Tyranitar<br>Sneasler, Annihilape, Excadrill"
          ],
          [
           "Milwaukee",
           4,
           4,
           "Indeedee [Male], Drifblim, Tyranitar<br>Sneasler, Incineroar, Excadrill"
          ],
          [
           "Milwaukee",
           4,
           4,
           "Indeedee [Male], Volcarona, Tyranitar<br>Sneasler, Annihilape, Ursaluna [Bloodmoon]"
          ],
          [
           "Milwaukee",
           4,
           4,
           "Corviknight, Indeedee [Male], Tyranitar<br>Sneasler, Magmar, Excadrill"
          ],
          [
           "Milwaukee",
           3,
           5,
           "Indeedee [Male], Empoleon, Sneasler<br>Whimsicott, Typhlosion [Hisuian Form], Ursaluna [Bloodmoon]"
          ],
          [
           "Milwaukee",
           3,
           5,
           "Indeedee [Male], Garchomp, Jumpluff<br>Charizard, Sneasler, Torkoal"
          ],
          [
           "Milwaukee",
           3,
           5,
           "Indeedee [Male], Dusclops, Tyranitar<br>Sneasler, Ursaluna [Bloodmoon], Excadrill"
          ],
          [
           "Milwaukee",
           3,
           5,
           "Corviknight, Indeedee [Male], Tyranitar<br>Sneasler, Annihilape, Excadrill"
          ],
          [
           "Milwaukee",
           3,
           5,
           "Corviknight, Indeedee [Male], Garchomp<br>Tyranitar, Sneasler, Ursaluna [Bloodmoon]"
          ],
          [
           "Milwaukee",
           3,
           5,
           "Indeedee [Male], Charizard, Sneasler<br>Delphox, Whimsicott, Torkoal"
          ],
          [
           "Milwaukee",
           2,
           3,
           "Indeedee [Male], Tatsugiri [Curly Form], Slaking<br>Sneasler, Dondozo, Weezing"
          ],
          [
           "Milwaukee",
           2,
           5,
           "Indeedee [Male], Farigiraf, Ursaluna<br>Sneasler, Tatsugiri [Droopy Form], Dondozo"
          ],
          [
           "Milwaukee",
           2,
           6,
           "Corviknight, Indeedee [Male], Tyranitar<br>Sneasler, Annihilape, Excadrill"
          ],
          [
           "Milwaukee",
           2,
           5,
           "Indeedee [Male], Basculegion [Male], Archaludon<br>Sneasler, Delphox, Murkrow"
          ],
          [
           "Milwaukee",
           1,
           5,
           "Indeedee [Male], Rotom [Wash Rotom], Clefairy<br>Volcarona, Tyranitar, Sneasler"
          ],
          [
           "Milwaukee",
           1,
           7,
           "Indeedee [Male], Azumarill, Sneasler<br>Hydrapple, Alcremie, Gliscor"
          ],
          [
           "Milwaukee",
           0,
           2,
           "Corviknight, Indeedee [Male], Tyranitar<br>Sneasler, Annihilape, Excadrill"
          ],
          [
           "Milwaukee",
           0,
           3,
           "Corviknight, Indeedee [Male], Tyranitar<br>Sneasler, Annihilape, Excadrill"
          ],
          [
           "Milwaukee",
           0,
           4,
           "Indeedee [Male], Drifblim, Garchomp<br>Tyranitar, Sneasler, Annihilape"
          ],
          [
           "Belo Horizonte",
           5,
           3,
           "Corviknight, Indeedee [Male], Garchomp<br>Tyranitar, Archaludon, Sneasler"
          ],
          [
           "Belo Horizonte",
           4,
           4,
           "Indeedee [Male], Talonflame, Tatsugiri [Curly Form]<br>Sneasler, Dondozo, Ursaluna [Bloodmoon]"
          ],
          [
           "Belo Horizonte",
           3,
           5,
           "Indeedee [Male], Talonflame, Archaludon<br>Dragapult, Sneasler, Annihilape"
          ],
          [
           "Belo Horizonte",
           3,
           4,
           "Indeedee [Male], Glimmora, Tatsugiri [Curly Form]<br>Sneasler, Dondozo, Ninetales [Alolan Form]"
          ],
          [
           "Belo Horizonte",
           2,
           4,
           "Indeedee [Male], Dragapult, Sneasler<br>Typhlosion [Hisuian Form], Torkoal, Murkrow"
          ],
          [
           "Belo Horizonte",
           2,
           6,
           "Indeedee [Male], Dusclops, Tyranitar<br>Sneasler, Ursaluna [Bloodmoon], Excadrill"
          ],
          [
           "Belo Horizonte",
           0,
           4,
           "Corviknight, Indeedee [Male], Garchomp<br>Tyranitar, Archaludon, Sneasler"
          ]
         ],
         "hovertemplate": "<b>%{hovertext}</b><br><br>🏆 <b>Tournament:</b> %{customdata[0]}<br>⚔️ <b>Record:</b> %{customdata[1]}W - %{customdata[2]}L<br><br>🐉 <b>Pokémon:</b><br>%{customdata[3]}<extra></extra>",
         "hovertext": [
          "Erich Schrader",
          "Nick Willems",
          "Noah Smith",
          "Jon VanRyckeghem",
          "Chase Thompson",
          "Shawn Meredith",
          "Brady Ratzmann",
          "Alex Witt",
          "Zach Knight",
          "Ryan Pevan",
          "Patrick Cheng",
          "Alex VonBank",
          "Dylan Reece",
          "Edward Gold",
          "Gavin Corley",
          "Stephen Morioka",
          "Mark Morales",
          "Aaron Trudeau",
          "Jacob Garry",
          "Rodney Starkes",
          "Ammar Zahid",
          "Rafael Gonzalez",
          "Brian Theis",
          "Samantha Platt",
          "Kody Washburn",
          "Dominic DiCarlo",
          "Grant Madden",
          "Will Watkins",
          "Bradley Tidwell",
          "Charles Rosales",
          "Ainsley Villafana",
          "David Murray",
          "Bill O'Connell",
          "Seth Ellsworth",
          "Kenneth Stevens Jr",
          "Zachary Noble",
          "Louis Hahn",
          "Nicolas Retzlaff",
          "Jack Wright",
          "Fiona Howes-Rehmann",
          "Cindy Drife",
          "Jameson Bowling",
          "Camaren Swartwood",
          "Tanner Vande Voort",
          "Cordero Spencer",
          "Christian Rangel",
          "Gabriel Artime Suzart de Freitas",
          "Gustavo Gomes",
          "Ami Morais",
          "Cleber Pinto",
          "MARTIN JAQUES",
          "Bruno Cotrim"
         ],
         "legendgroup": "Archetype 3: Indeedee [Male], Tyranitar, Sneasler",
         "marker": {
          "color": "rgb(190,186,218)",
          "line": {
           "color": "DarkSlateGrey",
           "width": 0.5
          },
          "opacity": 0.8,
          "size": {
           "bdata": "rYvLWGyx3j8jiIhfHHndPx7fxf7pndo/NbMhyDzv1j81syHIPO/WPzWzIcg879Y/NbMhyDzv1j81syHIPO/WPzWzIcg879Y/NbMhyDzv1j81syHIPO/WP8I98V/OmdQ/wj3xX86Z1D/CPfFfzpnUP8I98V/OmdQ/wj3xX86Z1D/CPfFfzpnUP8I98V/OmdQ/wj3xX86Z1D/CPfFfzpnUP8I98V/OmdQ/wj3xX86Z1D/CPfFfzpnUP8I98V/OmdQ/wj3xX86Z1D/CPfFfzpnUP8I98V/OmdQ/wj3xX86Z1D/CPfFfzpnUP8I98V/OmdQ/v5Qu/5u+0T+/lC7/m77RP7+ULv+bvtE/v5Qu/5u+0T+/lC7/m77RP7+ULv+bvtE/q9EUkd0fzD+r0RSR3R/MP6vRFJHdH8w/q9EUkd0fzD+/lC7/m77BP7+ULv+bvsE/AAAAAAAAAAAAAAAAAAAAAAAAAAAAAAAANbMhyDzv1j/CPfFfzpnUP7+ULv+bvtE/v5Qu/5u+0T+r0RSR3R/MP6vRFJHdH8w/AAAAAAAAAAA=",
           "dtype": "f8"
          },
          "sizemode": "area",
          "sizeref": 0.0013862943611198904,
          "symbol": "circle"
         },
         "mode": "markers",
         "name": "Archetype 3: Indeedee [Male], Tyranitar, Sneasler",
         "orientation": "v",
         "showlegend": true,
         "type": "scatter",
         "x": {
          "bdata": "TU+BQRs9eUHc5YFBTc5oQa7IaEE15XJBcYhYQUVDeEHZdVZB++ZlQU3ZaEFxL4VBKpSJQe7CSkHfeFZB4zeDQT3KX0Eu4oJBCRxyQSBfPUG+CVNB+gqCQagvhUE3rERBL5yJQVYshUFGOoZBz5VnQSMvhUH9y2lBhz5LQTw4SUFZzmhBrDuGQQyhWkECbkhBxeZyQcd7bkEjSIZBbJRAwbWDZ0GXo15BMe+BQZnSgkEzKIlBgNFHQaGMhkGpKV9BiGN2QWfIQkHM2WhBndFHQQ==",
          "dtype": "f4"
         },
         "xaxis": "x",
         "y": {
          "bdata": "F4KZwUOaXsH1HpbBy16pwT5mqcFxxlrBxqFLwVG/scFLbIDB/zSdwbxiqcGNaK3BHiGQwWZzP8GrbIDBVBFNwYrwc8HcBpvB5SBMwQghUsEpCpnBzhKWwexprcGLyl3B+CeQwfhyrcG4opjBvmuUwcNrrcFaTJjBWhhBwe+BccGTZKnB2a6YwYkxqcHFbmnBR8ZawefCWcHJ4JjBHi5Jv5fLnMHBsHPBoRCWwc7+msH6BZ/BhUmbwYJbUMHBoIfBLYRjwe0mgMEAbKnBnEubwQ==",
          "dtype": "f4"
         },
         "yaxis": "y"
        },
        {
         "customdata": [
          [
           "Milwaukee",
           10,
           3,
           "Hydreigon, Ursaluna, Incineroar<br>Amoonguss, Gholdengo, Porygon2"
          ],
          [
           "Milwaukee",
           9,
           3,
           "Farigiraf, Hydreigon, Ursaluna<br>Sneasler, Incineroar, Gholdengo"
          ],
          [
           "Milwaukee",
           9,
           3,
           "Kilowattrel, Ursaluna, Incineroar<br>Amoonguss, Gholdengo, Porygon2"
          ],
          [
           "Milwaukee",
           8,
           4,
           "Jumpluff, Charizard, Ursaluna<br>Incineroar, Torkoal, Porygon2"
          ],
          [
           "Milwaukee",
           8,
           4,
           "Dragonite, Dragapult, Incineroar<br>Amoonguss, Ninetales [Alolan Form], Gholdengo"
          ],
          [
           "Milwaukee",
           8,
           4,
           "Kilowattrel, Ursaluna, Incineroar<br>Amoonguss, Gholdengo, Porygon2"
          ],
          [
           "Milwaukee",
           8,
           4,
           "Hydreigon, Ursaluna, Incineroar<br>Amoonguss, Gholdengo, Porygon2"
          ],
          [
           "Milwaukee",
           7,
           5,
           "Kilowattrel, Ursaluna, Incineroar<br>Amoonguss, Gholdengo, Porygon2"
          ],
          [
           "Milwaukee",
           7,
           5,
           "Dragonite, Ursaluna, Incineroar<br>Amoonguss, Annihilape, Gholdengo"
          ],
          [
           "Milwaukee",
           5,
           3,
           "Kilowattrel, Ursaluna, Incineroar<br>Amoonguss, Gholdengo, Porygon2"
          ],
          [
           "Milwaukee",
           5,
           3,
           "Jumpluff, Charizard, Ursaluna<br>Incineroar, Torkoal, Porygon2"
          ],
          [
           "Milwaukee",
           5,
           3,
           "Jumpluff, Charizard, Ursaluna<br>Incineroar, Torkoal, Porygon2"
          ],
          [
           "Milwaukee",
           5,
           3,
           "Dragonite, Farigiraf, Ursaluna<br>Sneasler, Incineroar, Gholdengo"
          ],
          [
           "Milwaukee",
           5,
           3,
           "Farigiraf, Clefable, Ursaluna<br>Incineroar, Kingambit, Porygon2"
          ],
          [
           "Milwaukee",
           5,
           3,
           "Jumpluff, Charizard, Ursaluna<br>Incineroar, Torkoal, Porygon2"
          ],
          [
           "Milwaukee",
           5,
           3,
           "Kilowattrel, Ursaluna, Incineroar<br>Amoonguss, Gholdengo, Porygon2"
          ],
          [
           "Milwaukee",
           5,
           3,
           "Meowscarada, Incineroar, Amoonguss<br>Primarina, Gholdengo, Kommo-o"
          ],
          [
           "Milwaukee",
           5,
           3,
           "Jumpluff, Charizard, Ursaluna<br>Incineroar, Torkoal, Porygon2"
          ],
          [
           "Milwaukee",
           5,
           3,
           "Jumpluff, Charizard, Ursaluna<br>Incineroar, Torkoal, Porygon2"
          ],
          [
           "Milwaukee",
           5,
           3,
           "Jumpluff, Charizard, Ursaluna<br>Incineroar, Torkoal, Porygon2"
          ],
          [
           "Milwaukee",
           5,
           3,
           "Jumpluff, Charizard, Ursaluna<br>Incineroar, Torkoal, Porygon2"
          ],
          [
           "Milwaukee",
           5,
           3,
           "Baxcalibur, Incineroar, Amoonguss<br>Annihilape, Gholdengo, Palafin"
          ],
          [
           "Milwaukee",
           5,
           3,
           "Hydreigon, Ursaluna, Incineroar<br>Amoonguss, Gholdengo, Porygon2"
          ],
          [
           "Milwaukee",
           5,
           3,
           "Dragonite, Ursaluna, Incineroar<br>Annihilape, Gholdengo, Porygon2"
          ],
          [
           "Milwaukee",
           5,
           3,
           "Kilowattrel, Ursaluna, Incineroar<br>Amoonguss, Gholdengo, Porygon2"
          ],
          [
           "Milwaukee",
           4,
           4,
           "Kilowattrel, Garchomp, Incineroar<br>Amoonguss, Primarina, Gholdengo"
          ],
          [
           "Milwaukee",
           4,
           4,
           "Kilowattrel, Garchomp, Tyranitar<br>Incineroar, Amoonguss, Gholdengo"
          ],
          [
           "Milwaukee",
           4,
           4,
           "Dragonite, Sneasler, Incineroar<br>Amoonguss, Rillaboom, Gholdengo"
          ],
          [
           "Milwaukee",
           4,
           4,
           "Hydreigon, Ursaluna, Incineroar<br>Amoonguss, Gholdengo, Porygon2"
          ],
          [
           "Milwaukee",
           4,
           4,
           "Jumpluff, Charizard, Ursaluna<br>Incineroar, Torkoal, Porygon2"
          ],
          [
           "Milwaukee",
           4,
           4,
           "Kilowattrel, Ursaluna, Incineroar<br>Amoonguss, Gholdengo, Porygon2"
          ],
          [
           "Milwaukee",
           4,
           4,
           "Ursaluna, Tyranitar, Incineroar<br>Amoonguss, Gholdengo, Porygon2"
          ],
          [
           "Milwaukee",
           3,
           3,
           "Jumpluff, Charizard, Ursaluna<br>Incineroar, Torkoal, Porygon2"
          ],
          [
           "Milwaukee",
           3,
           5,
           "Ursaluna, Incineroar, Amoonguss<br>Flamigo, Gholdengo, Porygon2"
          ],
          [
           "Milwaukee",
           3,
           5,
           "Tatsugiri [Curly Form], Sneasler, Amoonguss<br>Whimsicott, Dondozo, Gholdengo"
          ],
          [
           "Milwaukee",
           3,
           5,
           "Hydreigon, Ursaluna, Incineroar<br>Amoonguss, Gholdengo, Porygon2"
          ],
          [
           "Milwaukee",
           3,
           5,
           "Talonflame, Garchomp, Tyranitar<br>Incineroar, Amoonguss, Gholdengo"
          ],
          [
           "Milwaukee",
           3,
           5,
           "Clefable, Ursaluna, Sneasler<br>Incineroar, Sinistcha [Masterpiece Form], Kommo-o"
          ],
          [
           "Milwaukee",
           3,
           5,
           "Jumpluff, Charizard, Ursaluna<br>Incineroar, Torkoal, Porygon2"
          ],
          [
           "Milwaukee",
           3,
           5,
           "Garganacl, Clefairy, Tyranitar<br>Incineroar, Amoonguss, Gholdengo"
          ],
          [
           "Milwaukee",
           3,
           5,
           "Kilowattrel, Ursaluna, Incineroar<br>Amoonguss, Gholdengo, Porygon2"
          ],
          [
           "Milwaukee",
           2,
           3,
           "Hydreigon, Ursaluna, Incineroar<br>Amoonguss, Gholdengo, Porygon2"
          ],
          [
           "Milwaukee",
           2,
           5,
           "Dusclops, Jumpluff, Charizard<br>Ursaluna, Incineroar, Torkoal"
          ],
          [
           "Milwaukee",
           2,
           6,
           "Hydreigon, Amoonguss, Whimsicott<br>Primarina, Gholdengo, Porygon2"
          ],
          [
           "Milwaukee",
           2,
           6,
           "Dragonite, Incineroar, Amoonguss<br>Rillaboom, Ursaluna [Bloodmoon], Gholdengo"
          ],
          [
           "Milwaukee",
           2,
           3,
           "Kilowattrel, Ursaluna, Archaludon<br>Sneasler, Incineroar, Porygon2"
          ],
          [
           "Milwaukee",
           2,
           6,
           "Archaludon, Incineroar, Amoonguss<br>Whimsicott, Primarina, Gholdengo"
          ],
          [
           "Milwaukee",
           2,
           6,
           "Dragonite, Ursaluna, Incineroar<br>Amoonguss, Gholdengo, Porygon2"
          ],
          [
           "Milwaukee",
           1,
           3,
           "Ursaluna, Sneasler, Incineroar<br>Amoonguss, Gholdengo, Porygon2"
          ],
          [
           "Milwaukee",
           1,
           3,
           "Basculegion [Male], Ursaluna, Sneasler<br>Incineroar, Amoonguss, Porygon2"
          ],
          [
           "Milwaukee",
           1,
           4,
           "Dragonite, Ursaluna, Incineroar<br>Amoonguss, Gholdengo, Porygon2"
          ],
          [
           "Milwaukee",
           0,
           1,
           "Ursaluna, Incineroar, Amoonguss<br>Flamigo, Gholdengo, Porygon2"
          ],
          [
           "Milwaukee",
           0,
           4,
           "Jumpluff, Charizard, Ursaluna<br>Incineroar, Torkoal, Porygon2"
          ],
          [
           "Belo Horizonte",
           11,
           3,
           "Rotom [Wash Rotom], Ursaluna, Incineroar<br>Flamigo, Gholdengo, Porygon2"
          ],
          [
           "Belo Horizonte",
           7,
           3,
           "Ursaluna, Incineroar, Amoonguss<br>Flamigo, Gholdengo, Porygon2"
          ],
          [
           "Belo Horizonte",
           7,
           3,
           "Jumpluff, Charizard, Ursaluna<br>Incineroar, Torkoal, Porygon2"
          ],
          [
           "Belo Horizonte",
           7,
           3,
           "Ursaluna, Incineroar, Amoonguss<br>Flamigo, Gholdengo, Porygon2"
          ],
          [
           "Belo Horizonte",
           5,
           3,
           "Talonflame, Basculegion [Male], Hydreigon<br>Sneasler, Amoonguss, Gholdengo"
          ],
          [
           "Belo Horizonte",
           5,
           3,
           "Talonflame, Ursaluna, Incineroar<br>Amoonguss, Gholdengo, Porygon2"
          ],
          [
           "Belo Horizonte",
           5,
           3,
           "Ursaluna, Incineroar, Amoonguss<br>Primarina, Gholdengo, Porygon2"
          ],
          [
           "Belo Horizonte",
           5,
           3,
           "Hydreigon, Ursaluna, Incineroar<br>Amoonguss, Gholdengo, Porygon2"
          ],
          [
           "Belo Horizonte",
           5,
           3,
           "Ursaluna, Incineroar, Amoonguss<br>Flamigo, Gholdengo, Porygon2"
          ],
          [
           "Belo Horizonte",
           5,
           3,
           "Jumpluff, Charizard, Ursaluna<br>Incineroar, Torkoal, Porygon2"
          ],
          [
           "Belo Horizonte",
           4,
           4,
           "Jumpluff, Charizard, Ursaluna<br>Incineroar, Torkoal, Porygon2"
          ],
          [
           "Belo Horizonte",
           4,
           4,
           "Kilowattrel, Garchomp, Tyranitar<br>Incineroar, Amoonguss, Gholdengo"
          ],
          [
           "Belo Horizonte",
           4,
           4,
           "Kilowattrel, Garchomp, Tyranitar<br>Incineroar, Amoonguss, Gholdengo"
          ],
          [
           "Belo Horizonte",
           3,
           5,
           "Kilowattrel, Ursaluna, Incineroar<br>Amoonguss, Gholdengo, Porygon2"
          ],
          [
           "Belo Horizonte",
           3,
           5,
           "Garchomp, Sneasler, Incineroar<br>Amoonguss, Gholdengo, Porygon2"
          ],
          [
           "Belo Horizonte",
           2,
           5,
           "Dragonite, Incineroar, Amoonguss<br>Rillaboom, Kingambit, Gholdengo"
          ],
          [
           "Belo Horizonte",
           2,
           4,
           "Ursaluna, Incineroar, Amoonguss<br>Flamigo, Gholdengo, Porygon2"
          ],
          [
           "Belo Horizonte",
           1,
           7,
           "Coalossal, Incineroar, Amoonguss<br>Primarina, Ceruledge, Porygon2"
          ]
         ],
         "hovertemplate": "<b>%{hovertext}</b><br><br>🏆 <b>Tournament:</b> %{customdata[0]}<br>⚔️ <b>Record:</b> %{customdata[1]}W - %{customdata[2]}L<br><br>🐉 <b>Pokémon:</b><br>%{customdata[3]}<extra></extra>",
         "hovertext": [
          "Caelan Brown",
          "Beau Berg",
          "Collin Heier",
          "Matt Francis",
          "Kian Campbell",
          "Dominic Vogel",
          "Eric Martinez",
          "Steven Stark",
          "Carson St Denis",
          "ALEX UNDERHILL",
          "Brian Jens",
          "Ian Brito",
          "William Sepesi",
          "Eric Rutherford",
          "Ben Stevenson",
          "Gina Garavalia",
          "Zac Emerzian",
          "Zach Aufdemberge",
          "Jacob Kennedy",
          "Kurt Imhoff",
          "Skyler Aikin",
          "Brayden Brafford",
          "Sawyer Neal",
          "Shane Conley",
          "Ruby McEachern",
          "Matthew Krueger",
          "Carter Davis",
          "Jeremy Boyd",
          "Gilbert Yao",
          "Riley Loster",
          "Corey Okonowitz",
          "Chandler Brtek",
          "Caleb Geisler",
          "Charles Hrdlicka",
          "Ben Baker",
          "Julian Anway",
          "Logan Groh",
          "Seth Birmingham",
          "LeRoy Gordon",
          "Craig McKinley",
          "Nate Beals",
          "Alex Archambault",
          "Samuel Mayer",
          "Sonya Larcombe",
          "Sean Kelly",
          "Aidan Schneider",
          "Nathan Kinsley",
          "Matthew Muriel",
          "Ian Conway",
          "Justin Frys",
          "Carlos Flores",
          "Dakota Kelly",
          "Don DeMoss",
          "Victor Vieira",
          "João Felipe Leite",
          "Dylan Torres",
          "Jean López",
          "Arthur Katz",
          "Hugo Nascimento Vilela dos Santos",
          "Ian Tal",
          "Luciano Muñoz Placencia",
          "Robson Hamilton Carréa Filho",
          "Vitor Serber Silva",
          "Arthur Barbosa",
          "Sergio Igarashi",
          "nicolas del campo",
          "Fernando Santos",
          "Leonardo Sobreira",
          "Brian Braga",
          "Bruno Leite",
          "Douglas Winston"
         ],
         "legendgroup": "Archetype 4: Ursaluna, Incineroar, Amoonguss, Gholdengo, Porygon2",
         "marker": {
          "color": "rgb(251,128,114)",
          "line": {
           "color": "DarkSlateGrey",
           "width": 0.5
          },
          "opacity": 0.8,
          "size": {
           "bdata": "rYvLWGyx3j8jiIhfHHndPyOIiF8ced0/q9EUkd0f3D+r0RSR3R/cP6vRFJHdH9w/q9EUkd0f3D8e38X+6Z3aPx7fxf7pndo/NbMhyDzv1j81syHIPO/WPzWzIcg879Y/NbMhyDzv1j81syHIPO/WPzWzIcg879Y/NbMhyDzv1j81syHIPO/WPzWzIcg879Y/NbMhyDzv1j81syHIPO/WPzWzIcg879Y/NbMhyDzv1j81syHIPO/WPzWzIcg879Y/NbMhyDzv1j/CPfFfzpnUP8I98V/OmdQ/wj3xX86Z1D/CPfFfzpnUP8I98V/OmdQ/wj3xX86Z1D/CPfFfzpnUP7+ULv+bvtE/v5Qu/5u+0T+/lC7/m77RP7+ULv+bvtE/v5Qu/5u+0T+/lC7/m77RP7+ULv+bvtE/v5Qu/5u+0T+/lC7/m77RP6vRFJHdH8w/q9EUkd0fzD+r0RSR3R/MP6vRFJHdH8w/q9EUkd0fzD+r0RSR3R/MP6vRFJHdH8w/v5Qu/5u+wT+/lC7/m77BP7+ULv+bvsE/AAAAAAAAAAAAAAAAAAAAAJX9uMeKzt8/Ht/F/umd2j8e38X+6Z3aPx7fxf7pndo/NbMhyDzv1j81syHIPO/WPzWzIcg879Y/NbMhyDzv1j81syHIPO/WPzWzIcg879Y/wj3xX86Z1D/CPfFfzpnUP8I98V/OmdQ/v5Qu/5u+0T+/lC7/m77RP6vRFJHdH8w/q9EUkd0fzD+/lC7/m77BPw==",
           "dtype": "f8"
          },
          "sizemode": "area",
          "sizeref": 0.0013862943611198904,
          "symbol": "circle"
         },
         "mode": "markers",
         "name": "Archetype 4: Ursaluna, Incineroar, Amoonguss, Gholdengo, Porygon2",
         "orientation": "v",
         "showlegend": true,
         "type": "scatter",
         "x": {
          "bdata": "wxuawReXXMHyxpbB9TJQwVkOPj5o2ZTB6xOVwbvRk8FvcYHBf3iawYmAP8FQxVLB9dpcwfYJZsGj6ELBuU6dwZzufsHkCULBqEFHwaPoQsEwLUvBAt91wZpblMGrbIHBnkOYwYeGecGvyDzBkoNNQJjBmME9RVHBmMGYwaClqMH0e0TBWf+cwby5SEFfj6HBLHg2wUnAWcEPHVXBqU1IwRzrmcGbVp3B8yg2wUx4jMEJo4xAsylbwZIShsEidYnBKIScwRHul8Hrd4nBv2afwUw/TMGPzorBRuSgwRk4SMGM2pLBM6gxP4GFqcER1pXBhcugwQ+3m8FdW1PBOPdLwdvIPMH9yDzB/5WTwQjSosEx4nZAAHSfwdCtjME=",
          "dtype": "f4"
         },
         "xaxis": "x",
         "y": {
          "bdata": "lLOcwZFfsMHpM5nBd73Twc4HykBNTKfBoxqbwVkXoMFW0ZTBUH6Ywezr2MF/kdXBnG2uwQIz0sGO+tXBL/iYwRI8XMFHgtrBt+/SwY761cGdsdLBU3h4wVCmncHP6ZrBIO+hwVRDW8Hn8k3B0zwyQQTPp8EkV9zBBM+nwR0BmsGUo9zBRcqnwauEB8Gk4KDBhCdXwZxxtMH6CNnB3CdDwXLRn8H83J/BPz3QwdWaasFN5TdBO+27wQAaTMF/45rBOUWywfdot8Gi6JrB7hubwVCv3MEuwKnBRf6jwV1W3cFHQKLBUxDwwJr9pcGSFI7Bvt6dwbdso8HgytnBW6rXwaz5TcEx+U3ByNOkwX/+tMHIXS1BVlKmwX8RecE=",
          "dtype": "f4"
         },
         "yaxis": "y"
        },
        {
         "customdata": [
          [
           "Milwaukee",
           12,
           2,
           "Farigiraf, Hatterene, Indeedee [Female]<br>Incineroar, Torkoal, Lilligant [Hisuian Form]"
          ],
          [
           "Milwaukee",
           9,
           3,
           "Kilowattrel, Ursaluna, Indeedee [Female]<br>Armarouge, Sneasler, Vivillon"
          ],
          [
           "Milwaukee",
           8,
           4,
           "Braviary [Hisuian Form], Ursaluna, Archaludon<br>Indeedee [Female], Sneasler, Politoed"
          ],
          [
           "Milwaukee",
           7,
           5,
           "Dusclops, Ursaluna, Indeedee [Female]<br>Annihilape, Torkoal, Sunflora"
          ],
          [
           "Milwaukee",
           7,
           5,
           "Hatterene, Ursaluna, Indeedee [Female]<br>Rillaboom, Torkoal, Kingambit"
          ],
          [
           "Milwaukee",
           5,
           3,
           "Hatterene, Gallade, Ursaluna<br>Indeedee [Female], Torkoal, Lilligant [Hisuian Form]"
          ],
          [
           "Milwaukee",
           5,
           3,
           "Hatterene, Ursaluna, Indeedee [Female]<br>Rillaboom, Torkoal, Kingambit"
          ],
          [
           "Milwaukee",
           5,
           3,
           "Hatterene, Gallade, Charizard<br>Ursaluna, Indeedee [Female], Torkoal"
          ],
          [
           "Milwaukee",
           5,
           3,
           "Wyrdeer, Indeedee [Female], Delphox<br>Annihilape, Torkoal, Kingambit"
          ],
          [
           "Milwaukee",
           5,
           3,
           "Volcarona, Indeedee [Female], Sneasler<br>Kleavor, Torkoal, Ursaluna [Bloodmoon]"
          ],
          [
           "Milwaukee",
           5,
           3,
           "Stonjourner, Hatterene, Indeedee [Female]<br>Sylveon, Typhlosion [Hisuian Form], Torkoal"
          ],
          [
           "Milwaukee",
           5,
           3,
           "Hatterene, Charizard, Ursaluna<br>Indeedee [Female], Rillaboom, Torkoal"
          ],
          [
           "Milwaukee",
           4,
           4,
           "Hatterene, Gallade, Ursaluna<br>Indeedee [Female], Torkoal, Lilligant [Hisuian Form]"
          ],
          [
           "Milwaukee",
           4,
           4,
           "Hatterene, Gallade, Ursaluna<br>Indeedee [Female], Torkoal, Lilligant [Hisuian Form]"
          ],
          [
           "Milwaukee",
           4,
           4,
           "Hatterene, Dachsbun, Jumpluff<br>Indeedee [Female], Typhlosion [Hisuian Form], Torkoal"
          ],
          [
           "Milwaukee",
           4,
           4,
           "Electrode [Hisuian Form], Indeedee [Female], Sneasler<br>Ninetales [Alolan Form], Arcanine [Hisuian Form], Gholdengo"
          ],
          [
           "Milwaukee",
           4,
           4,
           "Hatterene, Gallade, Ursaluna<br>Indeedee [Female], Maushold [Family of Four], Torkoal"
          ],
          [
           "Milwaukee",
           4,
           4,
           "Ursaluna, Indeedee [Female], Armarouge<br>Torkoal, Zoroark [Hisuian Form], Lilligant [Hisuian Form]"
          ],
          [
           "Milwaukee",
           4,
           4,
           "Hatterene, Ursaluna, Indeedee [Female]<br>Rillaboom, Torkoal, Kingambit"
          ],
          [
           "Milwaukee",
           4,
           4,
           "Gallade, Ursaluna, Indeedee [Female]<br>Armarouge, Torkoal, Lilligant [Hisuian Form]"
          ],
          [
           "Milwaukee",
           4,
           4,
           "Malamar, Ursaluna, Indeedee [Female]<br>Delphox, Torkoal, Lilligant [Hisuian Form]"
          ],
          [
           "Milwaukee",
           3,
           5,
           "Hydreigon, Indeedee [Female], Armarouge<br>Sneasler, Primarina, Zoroark [Hisuian Form]"
          ],
          [
           "Milwaukee",
           3,
           5,
           "Electabuzz, Indeedee [Female], Armarouge<br>Sneasler, Espathra, Ursaluna [Bloodmoon]"
          ],
          [
           "Milwaukee",
           3,
           4,
           "Espeon, Ursaluna, Indeedee [Female]<br>Scyther, Ninetales [Alolan Form], Kingambit"
          ],
          [
           "Milwaukee",
           3,
           5,
           "Gallade, Ursaluna, Indeedee [Female]<br>Delphox, Torkoal, Lilligant [Hisuian Form]"
          ],
          [
           "Milwaukee",
           2,
           4,
           "Hatterene, Gallade, Ursaluna<br>Indeedee [Female], Torkoal, Sunflora"
          ],
          [
           "Milwaukee",
           2,
           6,
           "Hatterene, Gallade, Ursaluna<br>Electabuzz, Indeedee [Female], Torkoal"
          ],
          [
           "Milwaukee",
           2,
           5,
           "Hatterene, Conkeldurr, Ursaluna<br>Indeedee [Female], Oranguru, Torkoal"
          ],
          [
           "Milwaukee",
           2,
           6,
           "Jumpluff, Gyarados, Oranguru<br>Torkoal, Kingambit, Skeledirge"
          ],
          [
           "Milwaukee",
           1,
           3,
           "Hatterene, Ursaluna, Indeedee [Female]<br>Armarouge, Magmar, Amoonguss"
          ],
          [
           "Milwaukee",
           1,
           4,
           "Hariyama, Volcarona, Indeedee [Female]<br>Armarouge, Sneasler, Rillaboom"
          ],
          [
           "Milwaukee",
           1,
           5,
           "Hydreigon, Indeedee [Female], Sneasler<br>Espathra, Arcanine [Hisuian Form], Kingambit"
          ],
          [
           "Milwaukee",
           1,
           7,
           "Maushold [Family of Three], Indeedee [Female], Delphox<br>Typhlosion [Hisuian Form], Annihilape, Murkrow"
          ],
          [
           "Milwaukee",
           0,
           1,
           "Drifblim, Ursaluna, Indeedee [Female]<br>Magmar, Vikavolt, Kommo-o"
          ],
          [
           "Belo Horizonte",
           8,
           3,
           "Hatterene, Dragapult, Indeedee [Female]<br>Armarouge, Annihilape, Torkoal"
          ],
          [
           "Belo Horizonte",
           7,
           3,
           "Hydreigon, Indeedee [Female], Sneasler<br>Espathra, Arcanine [Hisuian Form], Kingambit"
          ],
          [
           "Belo Horizonte",
           5,
           3,
           "Ursaluna, Indeedee [Female], Armarouge<br>Annihilape, Torkoal"
          ],
          [
           "Belo Horizonte",
           5,
           3,
           "Hatterene, Gallade, Ursaluna<br>Indeedee [Female], Torkoal, Lilligant [Hisuian Form]"
          ],
          [
           "Belo Horizonte",
           4,
           4,
           "Gallade, Ursaluna, Indeedee [Female]<br>Torkoal, Zoroark [Hisuian Form], Exeggutor"
          ],
          [
           "Belo Horizonte",
           4,
           4,
           "Gallade, Ursaluna, Indeedee [Female]<br>Armarouge, Torkoal, Lilligant [Hisuian Form]"
          ],
          [
           "Belo Horizonte",
           4,
           4,
           "Hatterene, Gallade, Ursaluna<br>Indeedee [Female], Torkoal, Lilligant [Hisuian Form]"
          ],
          [
           "Belo Horizonte",
           4,
           4,
           "Gallade, Ursaluna, Indeedee [Female]<br>Armarouge, Torkoal, Lilligant [Hisuian Form]"
          ],
          [
           "Belo Horizonte",
           4,
           4,
           "Hatterene, Indeedee [Female], Armarouge<br>Venusaur, Torkoal, Lilligant [Hisuian Form]"
          ],
          [
           "Belo Horizonte",
           3,
           5,
           "Hatterene, Gallade, Charizard<br>Ursaluna, Indeedee [Female], Torkoal"
          ],
          [
           "Belo Horizonte",
           2,
           4,
           "Hatterene, Gallade, Ursaluna<br>Indeedee [Female], Torkoal, Lilligant [Hisuian Form]"
          ],
          [
           "Belo Horizonte",
           2,
           6,
           "Gallade, Indeedee [Female], Armarouge<br>Torkoal, Zoroark [Hisuian Form], Lilligant [Hisuian Form]"
          ],
          [
           "Belo Horizonte",
           1,
           7,
           "Gallade, Ursaluna, Indeedee [Female]<br>Armarouge, Torkoal, Lilligant [Hisuian Form]"
          ],
          [
           "Belo Horizonte",
           0,
           2,
           "Dragonite, Ursaluna, Volcarona<br>Indeedee [Female], Torkoal, Reuniclus"
          ]
         ],
         "hovertemplate": "<b>%{hovertext}</b><br><br>🏆 <b>Tournament:</b> %{customdata[0]}<br>⚔️ <b>Record:</b> %{customdata[1]}W - %{customdata[2]}L<br><br>🐉 <b>Pokémon:</b><br>%{customdata[3]}<extra></extra>",
         "hovertext": [
          "Brian Collins",
          "Joshua Robinson",
          "Jimmy Friedle",
          "David Cook",
          "Thomas Hayden",
          "Mohamed Ibrahim",
          "Luke Bowar",
          "Liz Gutierrez",
          "Paro Sen",
          "Christa Wilkerson",
          "Kylan Smelker",
          "Spencer Mortvedt",
          "Alexander Schutte",
          "Zachary Flora",
          "Thomas Spencer",
          "Josh Hayes",
          "Hezekiah Rich",
          "George Tomblin-Morgan",
          "Gabe Mendoza",
          "Ali Jaeger",
          "Ilie Vartic",
          "Mihael Vrtar",
          "Michael Prochno",
          "Joseph Pezzi",
          "CJ Schoenthaler",
          "Zachery Browning",
          "Akonya Bailey",
          "David Pence",
          "Josh Kuzminski",
          "Craig Fisher",
          "Samuel Wangenknecht",
          "Brett Hudson",
          "Kaitlyn Scott",
          "Wyatt Andersen",
          "Ricardo Torrijos",
          "Lorenzo Tonetti",
          "Leandro Ferreira",
          "Felipe Casas",
          "David Assato",
          "Antonio Marco Rodrigo Jiménez",
          "Daniel Pereira",
          "Carlos Muniz",
          "Wellington Alcantara",
          "Alexsander Camargo",
          "Leonardo Damasceno",
          "Samuel Leite",
          "Keylla Almeida",
          "Guilherme Fernandes"
         ],
         "legendgroup": "Archetype 5: Ursaluna, Indeedee [Female], Torkoal",
         "marker": {
          "color": "rgb(128,177,211)",
          "line": {
           "color": "DarkSlateGrey",
           "width": 0.5
          },
          "opacity": 0.8,
          "size": {
           "bdata": "dKMnvGlq4D8jiIhfHHndP6vRFJHdH9w/Ht/F/umd2j8e38X+6Z3aPzWzIcg879Y/NbMhyDzv1j81syHIPO/WPzWzIcg879Y/NbMhyDzv1j81syHIPO/WPzWzIcg879Y/wj3xX86Z1D/CPfFfzpnUP8I98V/OmdQ/wj3xX86Z1D/CPfFfzpnUP8I98V/OmdQ/wj3xX86Z1D/CPfFfzpnUP8I98V/OmdQ/v5Qu/5u+0T+/lC7/m77RP7+ULv+bvtE/v5Qu/5u+0T+r0RSR3R/MP6vRFJHdH8w/q9EUkd0fzD+r0RSR3R/MP7+ULv+bvsE/v5Qu/5u+wT+/lC7/m77BP7+ULv+bvsE/AAAAAAAAAACr0RSR3R/cPx7fxf7pndo/NbMhyDzv1j81syHIPO/WP8I98V/OmdQ/wj3xX86Z1D/CPfFfzpnUP8I98V/OmdQ/wj3xX86Z1D+/lC7/m77RP6vRFJHdH8w/q9EUkd0fzD+/lC7/m77BPwAAAAAAAAAA",
           "dtype": "f8"
          },
          "sizemode": "area",
          "sizeref": 0.0013862943611198904,
          "symbol": "circle"
         },
         "mode": "markers",
         "name": "Archetype 5: Ursaluna, Indeedee [Female], Torkoal",
         "orientation": "v",
         "showlegend": true,
         "type": "scatter",
         "x": {
          "bdata": "At+mPPXPR0D401dAuCbJv6dJZj9BNis/sxNmPyjdpD1Y3re/DUlyQMSfij/+Xfk+z4grPy34Gz/NlIo/IuHsQUA6QL95OZm+FhhmP7vwl74UP5s+3+GIQJGOkUB/XhdAQBOVPlv0CT9ad+C/2JyAPn4eBkAk/VTAg/N/Qdes0kBUI4xAU/nqP9EDwL8jrtJA1i/Jv/VbMr/1WzK/9Vsyv8ViqD13g6y+yb+IPh5X+771WzK/8beIPllikzzHeea/",
          "dtype": "f4"
         },
         "xaxis": "x",
         "y": {
          "bdata": "rr22wTR6ysEKzcvBiZTDweEU58EHks3B7BbnwT1KzcFDCrbBmJq6wSlHrcEmmt7BnUTQwce/y8FRSa3B6q1BQT7y28FC1cjBBRfnwaHVyMHa+tPBWHeuwQ/etcH8adrBqd3IwUKf0sGjxtLBV7jIwUH+hsHKZc7Bl2vlPzdovsEw1jrBAwzUwenluMFlaL7BxZTDwbw1zsG8Nc7BvDXOwYmpz8HQ5tPBLwu5wSvL08G8Nc7BeAq5wTc01ME0kNzB",
          "dtype": "f4"
         },
         "yaxis": "y"
        },
        {
         "customdata": [
          [
           "Milwaukee",
           9,
           3,
           "Volcarona, Electabuzz, Sneasler<br>Incineroar, Rillaboom, Ninetales [Alolan Form]"
          ],
          [
           "Milwaukee",
           8,
           4,
           "Grimmsnarl, Volcarona, Golduck<br>Sneasler, Incineroar, Oricorio [Sensu Style]"
          ],
          [
           "Milwaukee",
           8,
           4,
           "Sneasler, Incineroar, Rillaboom<br>Dondozo, Ninetales [Alolan Form], Kingambit"
          ],
          [
           "Milwaukee",
           8,
           4,
           "Dragonite, Volcarona, Electabuzz<br>Sneasler, Rillaboom, Kingambit"
          ],
          [
           "Milwaukee",
           8,
           4,
           "Corviknight, Hydreigon, Garchomp<br>Grimmsnarl, Volcarona, Gholdengo"
          ],
          [
           "Milwaukee",
           8,
           4,
           "Dragonite, Volcarona, Sneasler<br>Rillaboom, Arcanine [Hisuian Form], Kingambit"
          ],
          [
           "Milwaukee",
           7,
           5,
           "Dragonite, Volcarona, Electabuzz<br>Sneasler, Rillaboom, Kingambit"
          ],
          [
           "Milwaukee",
           7,
           5,
           "Indeedee [Male], Hydreigon, Drifblim<br>Toxtricity [Amped Form], Volcarona, Kommo-o"
          ],
          [
           "Milwaukee",
           5,
           3,
           "Volcarona, Archaludon, Sneasler<br>Incineroar, Rillaboom, Palafin"
          ],
          [
           "Milwaukee",
           5,
           3,
           "Dragonite, Volcarona, Electabuzz<br>Sneasler, Rillaboom, Kingambit"
          ],
          [
           "Milwaukee",
           5,
           3,
           "Dragonite, Volcarona, Electabuzz<br>Sneasler, Rillaboom, Kingambit"
          ],
          [
           "Milwaukee",
           5,
           3,
           "Dragapult, Sneasler, Weezing [Galarian Form]<br>Incineroar, Rillaboom, Typhlosion [Hisuian Form]"
          ],
          [
           "Milwaukee",
           5,
           3,
           "Dragonite, Volcarona, Sneasler<br>Incineroar, Rillaboom, Kingambit"
          ],
          [
           "Milwaukee",
           5,
           3,
           "Garganacl, Basculegion [Male], Volcarona<br>Sneasler, Rillaboom, Ninetales [Alolan Form]"
          ],
          [
           "Milwaukee",
           5,
           3,
           "Dragapult, Sneasler, Magmar<br>Rillaboom, Ursaluna [Bloodmoon], Kingambit"
          ],
          [
           "Milwaukee",
           5,
           3,
           "Dragonite, Volcarona, Electabuzz<br>Sneasler, Rillaboom, Kingambit"
          ],
          [
           "Milwaukee",
           5,
           3,
           "Dragonite, Volcarona, Electabuzz<br>Sneasler, Rillaboom, Kingambit"
          ],
          [
           "Milwaukee",
           5,
           3,
           "Gardevoir, Volcarona, Gyarados<br>Tyranitar, Indeedee [Female], Excadrill"
          ],
          [
           "Milwaukee",
           5,
           3,
           "Dragonite, Golduck, Electabuzz<br>Sneasler, Rillaboom, Kingambit"
          ],
          [
           "Milwaukee",
           5,
           3,
           "Basculegion [Male], Volcarona, Electabuzz<br>Rillaboom, Ninetales [Alolan Form], Kingambit"
          ],
          [
           "Milwaukee",
           5,
           3,
           "Farigiraf, Electabuzz, Dragapult<br>Sneasler, Rillaboom, Kingambit"
          ],
          [
           "Milwaukee",
           5,
           3,
           "Dragonite, Volcarona, Electabuzz<br>Rillaboom, Annihilape, Ninetales [Alolan Form]"
          ],
          [
           "Milwaukee",
           4,
           3,
           "Dragonite, Volcarona, Electabuzz<br>Sneasler, Rillaboom, Kingambit"
          ],
          [
           "Milwaukee",
           4,
           4,
           "Blaziken, Volcarona, Sneasler<br>Rillaboom, Maushold [Family of Four], Ninetales [Alolan Form]"
          ],
          [
           "Milwaukee",
           4,
           4,
           "Garganacl, Basculegion [Male], Volcarona<br>Sneasler, Rillaboom, Ninetales [Alolan Form]"
          ],
          [
           "Milwaukee",
           4,
           4,
           "Dragonite, Volcarona, Electabuzz<br>Sneasler, Rillaboom, Kingambit"
          ],
          [
           "Milwaukee",
           4,
           4,
           "Dragonite, Volcarona, Archaludon<br>Whimsicott, Rillaboom, Arcanine [Hisuian Form]"
          ],
          [
           "Milwaukee",
           4,
           4,
           "Gastrodon, Volcarona, Tyranitar<br>Sneasler, Rillaboom, Excadrill"
          ],
          [
           "Milwaukee",
           4,
           4,
           "Volcarona, Electabuzz, Sneasler<br>Rillaboom, Primarina, Kingambit"
          ],
          [
           "Milwaukee",
           4,
           4,
           "Basculegion [Male], Volcarona, Sneasler<br>Rillaboom, Ninetales [Alolan Form], Kingambit"
          ],
          [
           "Milwaukee",
           4,
           4,
           "Garganacl, Basculegion [Male], Volcarona<br>Sneasler, Rillaboom, Ninetales [Alolan Form]"
          ],
          [
           "Milwaukee",
           4,
           4,
           "Dragonite, Volcarona, Electabuzz<br>Sneasler, Rillaboom, Kingambit"
          ],
          [
           "Milwaukee",
           4,
           4,
           "Volcarona, Electabuzz, Dragapult<br>Sneasler, Rillaboom, Dondozo"
          ],
          [
           "Milwaukee",
           4,
           4,
           "Metagross, Volcarona, Gyarados<br>Tyranitar, Dragapult, Toedscruel"
          ],
          [
           "Milwaukee",
           4,
           4,
           "Volcarona, Tyranitar, Dragapult<br>Indeedee [Female], Sneasler, Reuniclus"
          ],
          [
           "Milwaukee",
           4,
           4,
           "Farigiraf, Ursaluna, Dragapult<br>Sneasler, Incineroar, Rillaboom"
          ],
          [
           "Milwaukee",
           3,
           3,
           "Archaludon, Glaceon, Dragapult<br>Incineroar, Rillaboom, Ninetales [Alolan Form]"
          ],
          [
           "Milwaukee",
           3,
           4,
           "Volcarona, Tyranitar, Whimsicott<br>Rillaboom, Milotic, Excadrill"
          ],
          [
           "Milwaukee",
           3,
           5,
           "Dragapult, Sneasler, Incineroar<br>Whimsicott, Rillaboom, Typhlosion [Hisuian Form]"
          ],
          [
           "Milwaukee",
           3,
           3,
           "Dragonite, Basculegion [Male], Volcarona<br>Sneasler, Incineroar, Rillaboom"
          ],
          [
           "Milwaukee",
           3,
           5,
           "Corviknight, Garchomp, Volcarona<br>Electabuzz, Sneasler, Rillaboom"
          ],
          [
           "Milwaukee",
           3,
           5,
           "Dragonite, Sneasler, Rillaboom<br>Primarina, Gliscor, Kingambit"
          ],
          [
           "Milwaukee",
           3,
           4,
           "Volcarona, Sneasler, Incineroar<br>Rillaboom, Primarina, Kingambit"
          ],
          [
           "Milwaukee",
           3,
           5,
           "Basculegion [Male], Farigiraf, Volcarona<br>Rillaboom, Ninetales [Alolan Form], Kommo-o"
          ],
          [
           "Milwaukee",
           3,
           5,
           "Dragapult, Sneasler, Magmar<br>Rillaboom, Primarina, Kingambit"
          ],
          [
           "Milwaukee",
           3,
           5,
           "Blaziken, Baxcalibur, Electabuzz<br>Rillaboom, Primarina, Kingambit"
          ],
          [
           "Milwaukee",
           3,
           5,
           "Ursaluna, Volcarona, Dragapult<br>Rillaboom, Primarina, Scizor"
          ],
          [
           "Milwaukee",
           3,
           5,
           "Garganacl, Muk [Alolan Form], Volcarona<br>Gyarados, Ninetales [Alolan Form], Gloom"
          ],
          [
           "Milwaukee",
           3,
           5,
           "Indeedee [Male], Hydreigon, Drifblim<br>Volcarona, Toxtricity [Low Key Form], Kommo-o"
          ],
          [
           "Milwaukee",
           3,
           5,
           "Empoleon, Dragapult, Incineroar<br>Amoonguss, Rillaboom, Toxtricity [Low Key Form]"
          ],
          [
           "Milwaukee",
           2,
           4,
           "Volcarona, Sneasler, Rillaboom<br>Dondozo, Ninetales [Alolan Form], Kingambit"
          ],
          [
           "Milwaukee",
           2,
           4,
           "Baxcalibur, Volcarona, Electabuzz<br>Sneasler, Rillaboom, Kingambit"
          ],
          [
           "Milwaukee",
           2,
           5,
           "Volcarona, Electabuzz, Dragapult<br>Rillaboom, Primarina, Kingambit"
          ],
          [
           "Milwaukee",
           2,
           4,
           "Blaziken, Baxcalibur, Electabuzz<br>Rillaboom, Primarina, Kingambit"
          ],
          [
           "Milwaukee",
           2,
           6,
           "Dragonite, Volcarona, Electabuzz<br>Sneasler, Rillaboom, Kingambit"
          ],
          [
           "Milwaukee",
           2,
           4,
           "Ursaluna, Volcarona, Electabuzz<br>Dragapult, Whimsicott, Rillaboom"
          ],
          [
           "Milwaukee",
           1,
           4,
           "Meowscarada, Garchomp, Empoleon<br>Volcarona, Salamence, Gholdengo"
          ],
          [
           "Milwaukee",
           1,
           3,
           "Houndstone, Volcarona, Pelipper<br>Rillaboom, Ninetales [Alolan Form], Kingambit"
          ],
          [
           "Milwaukee",
           1,
           3,
           "Hydreigon, Sneasler, Magmar<br>Rillaboom, Dondozo, Ninetales [Alolan Form]"
          ],
          [
           "Milwaukee",
           1,
           7,
           "Dragonite, Volcarona, Electabuzz<br>Sneasler, Rillaboom, Kingambit"
          ],
          [
           "Milwaukee",
           0,
           1,
           "Dragonite, Clefable, Gengar<br>Sneasler, Rillaboom, Kingambit"
          ],
          [
           "Milwaukee",
           0,
           6,
           "Dragapult, Sneasler, Incineroar<br>Whimsicott, Rillaboom, Typhlosion [Hisuian Form]"
          ],
          [
           "Belo Horizonte",
           9,
           3,
           "Volcarona, Dragapult, Incineroar<br>Amoonguss, Rillaboom, Kingambit"
          ],
          [
           "Belo Horizonte",
           7,
           3,
           "Baxcalibur, Volcarona, Sneasler<br>Rillaboom, Dondozo, Kingambit"
          ],
          [
           "Belo Horizonte",
           5,
           3,
           "Blaziken, Baxcalibur, Electabuzz<br>Rillaboom, Primarina, Kingambit"
          ],
          [
           "Belo Horizonte",
           5,
           3,
           "Glimmora, Sneasler, Rillaboom<br>Ninetales [Alolan Form], Arcanine [Hisuian Form], Kingambit"
          ],
          [
           "Belo Horizonte",
           5,
           3,
           "Gastrodon, Dragapult, Sneasler<br>Magmar, Rillaboom, Kingambit"
          ],
          [
           "Belo Horizonte",
           5,
           3,
           "Dragapult, Sneasler, Weezing [Galarian Form]<br>Incineroar, Rillaboom, Typhlosion [Hisuian Form]"
          ],
          [
           "Belo Horizonte",
           5,
           3,
           "Dragonite, Volcarona, Electabuzz<br>Sneasler, Rillaboom, Kingambit"
          ],
          [
           "Belo Horizonte",
           4,
           4,
           "Dragonite, Volcarona, Rillaboom<br>Maushold [Family of Four], Annihilape, Ninetales [Alolan Form]"
          ],
          [
           "Belo Horizonte",
           4,
           4,
           "Baxcalibur, Volcarona, Sneasler<br>Rillaboom, Dondozo, Kingambit"
          ],
          [
           "Belo Horizonte",
           4,
           4,
           "Dragonite, Volcarona, Electabuzz<br>Sneasler, Rillaboom, Kingambit"
          ],
          [
           "Belo Horizonte",
           4,
           4,
           "Dragonite, Gastrodon, Sneasler<br>Magmar, Rillaboom, Kingambit"
          ],
          [
           "Belo Horizonte",
           4,
           4,
           "Dragonite, Farigiraf, Volcarona<br>Incineroar, Rillaboom, Ursaluna [Bloodmoon]"
          ],
          [
           "Belo Horizonte",
           3,
           5,
           "Dragonite, Sneasler, Magmar<br>Rillaboom, Ninetales [Alolan Form], Kingambit"
          ],
          [
           "Belo Horizonte",
           3,
           5,
           "Dragonite, Volcarona, Electabuzz<br>Sneasler, Rillaboom, Kingambit"
          ],
          [
           "Belo Horizonte",
           3,
           5,
           "Farigiraf, Ursaluna, Amoonguss<br>Rillaboom, Ninetales [Alolan Form], Kingambit"
          ],
          [
           "Belo Horizonte",
           2,
           4,
           "Blaziken, Baxcalibur, Electabuzz<br>Rillaboom, Primarina, Kingambit"
          ],
          [
           "Belo Horizonte",
           1,
           4,
           "Dragonite, Volcarona, Electabuzz<br>Sneasler, Rillaboom, Kingambit"
          ]
         ],
         "hovertemplate": "<b>%{hovertext}</b><br><br>🏆 <b>Tournament:</b> %{customdata[0]}<br>⚔️ <b>Record:</b> %{customdata[1]}W - %{customdata[2]}L<br><br>🐉 <b>Pokémon:</b><br>%{customdata[3]}<extra></extra>",
         "hovertext": [
          "Sam Danneker",
          "Alyse Johnson",
          "Erik Holmstrom",
          "Joshua Groenewold",
          "Alberto Lara",
          "Jerry Woods III",
          "Kevin Hu",
          "Matt Bruno",
          "Luna Zilkha",
          "Vincenzo Cicco",
          "Stephen Brown",
          "Chukwuka Onua",
          "Ethan Trejo",
          "Henry Rich",
          "Yoan Giroux",
          "Jake Watkins",
          "Dylan Stone",
          "Riley Cook",
          "Keith Hanson",
          "Tommy Rohlfing",
          "Jacob Doria-Rose",
          "Eri-Ray Martinez",
          "John Ericson",
          "Chase Badish",
          "Meg Walls",
          "Anders Nordstrom",
          "Dylan Maloney",
          "Matt Nowaczyk",
          "Tyler Hansen",
          "Judah Solini",
          "Jackson Baldus",
          "Yash Bhatkar",
          "Long Trinh",
          "Charlie Stray",
          "Ti Windisch",
          "Trueman Satterwhite",
          "Aaron Tetter",
          "Ian Stauffer",
          "Brendan Holmes",
          "Michael De Leon Matinez",
          "Lily Bonnemann",
          "Alexander Wind",
          "Brandon Zenon",
          "Jennifer Hillegass",
          "Michael Hall",
          "Saelyn Turner",
          "Christopher Hedden",
          "Stephen Wagner",
          "Aidan Evans",
          "Spin Lawrence",
          "Cody Smith",
          "Jesse Trevino",
          "Wesley Tolman",
          "Brendan Kerrigan",
          "Zachary Kupfner",
          "Joshua Magness",
          "Ahmed Mostafa",
          "Joshua Salter",
          "Lance Palma",
          "Danny Lopez",
          "Artkelly Anderson",
          "Ian Fleming",
          "Gabriel Agati",
          "Breno Silva",
          "Nicolás Nieto",
          "Júlio Eller",
          "Leonardo Alves Gomes",
          "MATHEUS CORDEIRO",
          "Danilo Martins Pinheiro",
          "Mirai Custódio",
          "Pedro Soares Fialdini",
          "Fábio Souza",
          "WDIONATAS ANDRADE SANTOS",
          "Thiago Silva",
          "Nader El bacha",
          "GABRIEL RIBEIRO",
          "Vitor Lima",
          "Joao Paulo Faria Henrique",
          "Thiago Gonçalves"
         ],
         "legendgroup": "Archetype 6: Volcarona, Sneasler, Rillaboom, Kingambit",
         "marker": {
          "color": "rgb(253,180,98)",
          "line": {
           "color": "DarkSlateGrey",
           "width": 0.5
          },
          "opacity": 0.8,
          "size": {
           "bdata": "I4iIXxx53T+r0RSR3R/cP6vRFJHdH9w/q9EUkd0f3D+r0RSR3R/cP6vRFJHdH9w/Ht/F/umd2j8e38X+6Z3aPzWzIcg879Y/NbMhyDzv1j81syHIPO/WPzWzIcg879Y/NbMhyDzv1j81syHIPO/WPzWzIcg879Y/NbMhyDzv1j81syHIPO/WPzWzIcg879Y/NbMhyDzv1j81syHIPO/WPzWzIcg879Y/NbMhyDzv1j/CPfFfzpnUP8I98V/OmdQ/wj3xX86Z1D/CPfFfzpnUP8I98V/OmdQ/wj3xX86Z1D/CPfFfzpnUP8I98V/OmdQ/wj3xX86Z1D/CPfFfzpnUP8I98V/OmdQ/wj3xX86Z1D/CPfFfzpnUP8I98V/OmdQ/v5Qu/5u+0T+/lC7/m77RP7+ULv+bvtE/v5Qu/5u+0T+/lC7/m77RP7+ULv+bvtE/v5Qu/5u+0T+/lC7/m77RP7+ULv+bvtE/v5Qu/5u+0T+/lC7/m77RP7+ULv+bvtE/v5Qu/5u+0T+/lC7/m77RP6vRFJHdH8w/q9EUkd0fzD+r0RSR3R/MP6vRFJHdH8w/q9EUkd0fzD+r0RSR3R/MP7+ULv+bvsE/v5Qu/5u+wT+/lC7/m77BP7+ULv+bvsE/AAAAAAAAAAAAAAAAAAAAACOIiF8ced0/Ht/F/umd2j81syHIPO/WPzWzIcg879Y/NbMhyDzv1j81syHIPO/WPzWzIcg879Y/wj3xX86Z1D/CPfFfzpnUP8I98V/OmdQ/wj3xX86Z1D/CPfFfzpnUP7+ULv+bvtE/v5Qu/5u+0T+/lC7/m77RP6vRFJHdH8w/v5Qu/5u+wT8=",
           "dtype": "f8"
          },
          "sizemode": "area",
          "sizeref": 0.0013862943611198904,
          "symbol": "circle"
         },
         "mode": "markers",
         "name": "Archetype 6: Volcarona, Sneasler, Rillaboom, Kingambit",
         "orientation": "v",
         "showlegend": true,
         "type": "scatter",
         "x": {
          "bdata": "7p2JQWbMTEHb5M9BwGjXQeEBmsB0FuRBnSjbQTWWD0EsgU7BHkfZQX5p1UFEuWlB6afdQbA+oEH0nq5BG6fUQT741EFh1tJASZzQQQc/pEECobVB17sGQbaY1kESk5tBPT6gQUmP2EG67QFBIW56QYUIxkHQJ6pB0j2gQUAL3UEjsclBJ6fUQGRo1kD02XJB/s+vQa7Oc0HiWmNB4E/gQQbOz0G/AMdBA3/BQbqHmkERTrJB3biqQZ1qs0GLVOpAfZcPQYEzUcC7cc9B0FfOQY34skGauKpBteDZQW0StEFZDprA+lafQU2E2EE/2tlBQGjKQVtaY0FsTVLARcfQQVC4qkES2L9B6U2yQUq8aUHbLN9Beb8FQXzI0EHbLN9B+WrKQdLm1kD408hBt0jdQSTUkUG3uapBt0jdQQ==",
          "dtype": "f4"
         },
         "xaxis": "x",
         "y": {
          "bdata": "4EWqQWIjN0D92uhAp0c/P83dOcHFLb0/FZxRP/LrbMHylU9B3MVbPwc7Aj8s9FrASggYQMIa2kDdJtA/OLqXPpHqkT0N3YLBEi66P1SOrEBvwJg/LaSbQZPVQ77+Pu9APB/aQC87zL4ACYXAEKXEP1QEFr8jGM1A7BjaQPyOKj8iwwrAg0WCwWGkg8ECoT/AjRyRQUlYoj9Qq3DAMi9HQF6X1r+u6AdA2FozvcYYxkCTQ2w/lq7Yv57Vf8D/2O6/TO9swVvzUj6x/bhADdtJvzLJFcDDm9i/E/HmvhnNg8At3znBnRSZQBfWEkHGGWY+apYcQOmscMCCQm4+YBukQNCw2L8cldVA65WjP5vuWsAfnJk+2tmbQWMrpEAfnJk+xIscQDC+K0GAZk1A3TdEvicohsCgu9i/3TdEvg==",
          "dtype": "f4"
         },
         "yaxis": "y"
        },
        {
         "customdata": [
          [
           "Milwaukee",
           10,
           3,
           "Corviknight, Hydreigon, Tyranitar<br>Incineroar, Amoonguss, Excadrill"
          ],
          [
           "Milwaukee",
           9,
           3,
           "Sinistcha [Unremarkable Form], Talonflame, Garchomp<br>Lucario, Tyranitar, Gholdengo"
          ],
          [
           "Milwaukee",
           5,
           3,
           "Sinistcha [Unremarkable Form], Basculegion [Male], Tyranitar<br>Incineroar, Excadrill, Kommo-o"
          ],
          [
           "Milwaukee",
           5,
           3,
           "Garchomp, Tyranitar, Indeedee [Female]<br>Sneasler, Murkrow, Gholdengo"
          ],
          [
           "Milwaukee",
           5,
           3,
           "Kilowattrel, Garchomp, Toedscruel<br>Weezing [Galarian Form], Incineroar, Typhlosion [Hisuian Form]"
          ],
          [
           "Milwaukee",
           4,
           4,
           "Corviknight, Hydreigon, Tyranitar<br>Incineroar, Amoonguss, Excadrill"
          ],
          [
           "Milwaukee",
           4,
           4,
           "Basculegion [Male], Kilowattrel, Garchomp<br>Tyranitar, Sneasler, Incineroar"
          ],
          [
           "Milwaukee",
           4,
           4,
           "Talonflame, Garchomp, Tyranitar<br>Sneasler, Orthworm, Gholdengo"
          ],
          [
           "Milwaukee",
           4,
           4,
           "Tyranitar, Primarina, Murkrow<br>Tsareena, Gholdengo, Excadrill"
          ],
          [
           "Milwaukee",
           4,
           4,
           "Sinistcha [Unremarkable Form], Ursaluna, Tyranitar<br>Indeedee [Female], Incineroar, Primarina"
          ],
          [
           "Milwaukee",
           4,
           4,
           "Sinistcha [Unremarkable Form], Metagross, Archaludon<br>Incineroar, Primarina, Decidueye [Hisuian Form]"
          ],
          [
           "Milwaukee",
           4,
           4,
           "Talonflame, Garchomp, Tyranitar<br>Rillaboom, Primarina, Gholdengo"
          ],
          [
           "Milwaukee",
           4,
           4,
           "Sinistcha [Unremarkable Form], Dragonite, Talonflame<br>Tyranitar, Ursaluna [Bloodmoon], Gholdengo"
          ],
          [
           "Milwaukee",
           3,
           5,
           "Corviknight, Basculegion [Male], Garchomp<br>Tyranitar, Magmar, Gholdengo"
          ],
          [
           "Milwaukee",
           3,
           4,
           "Garchomp, Lucario, Tyranitar<br>Flamigo, Murkrow, Gholdengo"
          ],
          [
           "Milwaukee",
           3,
           5,
           "Garchomp, Wyrdeer, Sneasler<br>Primarina, Murkrow, Gholdengo"
          ],
          [
           "Milwaukee",
           3,
           5,
           "Corviknight, Basculegion [Male], Garchomp<br>Electabuzz, Tyranitar, Gholdengo"
          ],
          [
           "Milwaukee",
           2,
           4,
           "Archaludon, Incineroar, Sinistcha [Masterpiece Form]<br>Primarina, Gliscor, Gholdengo"
          ],
          [
           "Milwaukee",
           2,
           3,
           "Dragonite, Tyranitar, Amoonguss<br>Primarina, Murkrow, Gholdengo"
          ],
          [
           "Milwaukee",
           2,
           3,
           "Talonflame, Maushold [Family of Three], Garchomp<br>Tyranitar, Primarina, Gholdengo"
          ],
          [
           "Milwaukee",
           2,
           4,
           "Corviknight, Garchomp, Toedscruel<br>Weezing [Galarian Form], Typhlosion [Hisuian Form], Pawmot"
          ],
          [
           "Milwaukee",
           2,
           4,
           "Corviknight, Garchomp, Tyranitar<br>Sneasler, Rillaboom, Gholdengo"
          ],
          [
           "Milwaukee",
           2,
           6,
           "Garchomp, Jumpluff, Gallade<br>Magnezone, Incineroar, Primarina"
          ],
          [
           "Milwaukee",
           1,
           3,
           "Kilowattrel, Garchomp, Armarouge<br>Sneasler, Primarina, Ursaluna [Bloodmoon]"
          ],
          [
           "Milwaukee",
           1,
           6,
           "Sinistcha [Unremarkable Form], Talonflame, Garchomp<br>Tyranitar, Milotic, Gholdengo"
          ],
          [
           "Belo Horizonte",
           4,
           4,
           "Sinistcha [Unremarkable Form], Tyranitar, Primarina<br>Flamigo, Gholdengo, Excadrill"
          ],
          [
           "Belo Horizonte",
           4,
           4,
           "Indeedee [Male], Kilowattrel, Garchomp<br>Tyranitar, Sneasler, Gholdengo"
          ],
          [
           "Belo Horizonte",
           3,
           5,
           "Sinistcha [Unremarkable Form], Talonflame, Garchomp<br>Tyranitar, Milotic, Gholdengo"
          ],
          [
           "Belo Horizonte",
           3,
           5,
           "Tyranitar, Incineroar, Vileplume<br>Milotic, Excadrill, Quagsire"
          ],
          [
           "Belo Horizonte",
           2,
           6,
           "Archaludon, Dragapult, Masquerain<br>Weezing [Galarian Form], Oranguru, Primarina"
          ],
          [
           "Belo Horizonte",
           2,
           6,
           "Rotom [Wash Rotom], Talonflame, Venomoth<br>Garchomp, Tyranitar, Gholdengo"
          ],
          [
           "Belo Horizonte",
           1,
           4,
           "Corviknight, Garchomp, Toedscruel<br>Weezing [Galarian Form], Typhlosion [Hisuian Form], Pawmot"
          ]
         ],
         "hovertemplate": "<b>%{hovertext}</b><br><br>🏆 <b>Tournament:</b> %{customdata[0]}<br>⚔️ <b>Record:</b> %{customdata[1]}W - %{customdata[2]}L<br><br>🐉 <b>Pokémon:</b><br>%{customdata[3]}<extra></extra>",
         "hovertext": [
          "Baby Singh",
          "Adit Selvaraj",
          "Spencer Cochran",
          "Benjamin Jones",
          "David Markin",
          "Grayson Decker",
          "Daniel Kraft",
          "Ryan Ziemianski",
          "Lee Elsinger",
          "Zachary Jens",
          "Brett Dumke",
          "Cahary Briscoe",
          "Theo Clark",
          "Douglas Haubert",
          "Melody Ash",
          "Kaylee Manning",
          "Elliot Roe",
          "Micah McClellon",
          "Alston Xu",
          "Rishi Gupta",
          "Seth Helberg",
          "Samuel Kidane",
          "Levi Herrera",
          "Brandon Goodman",
          "Andrei Nylund",
          "Marcus Takeshi Narimoto Centurión",
          "Yan Fernandes",
          "Gabriel Moura",
          "Fernando Almeida",
          "José Neto",
          "Marcel Silva Araujo",
          "Gustavo Rodrigues"
         ],
         "legendgroup": "Archetype 7: Garchomp, Tyranitar, Gholdengo",
         "marker": {
          "color": "rgb(179,222,105)",
          "line": {
           "color": "DarkSlateGrey",
           "width": 0.5
          },
          "opacity": 0.8,
          "size": {
           "bdata": "rYvLWGyx3j8jiIhfHHndPzWzIcg879Y/NbMhyDzv1j81syHIPO/WP8I98V/OmdQ/wj3xX86Z1D/CPfFfzpnUP8I98V/OmdQ/wj3xX86Z1D/CPfFfzpnUP8I98V/OmdQ/wj3xX86Z1D+/lC7/m77RP7+ULv+bvtE/v5Qu/5u+0T+/lC7/m77RP6vRFJHdH8w/q9EUkd0fzD+r0RSR3R/MP6vRFJHdH8w/q9EUkd0fzD+r0RSR3R/MP7+ULv+bvsE/v5Qu/5u+wT/CPfFfzpnUP8I98V/OmdQ/v5Qu/5u+0T+/lC7/m77RP6vRFJHdH8w/q9EUkd0fzD+/lC7/m77BPw==",
           "dtype": "f8"
          },
          "sizemode": "area",
          "sizeref": 0.0013862943611198904,
          "symbol": "circle"
         },
         "mode": "markers",
         "name": "Archetype 7: Garchomp, Tyranitar, Gholdengo",
         "orientation": "v",
         "showlegend": true,
         "type": "scatter",
         "x": {
          "bdata": "u7NHwfkXCMEmRlfB9L7PwBXst7/ywUfB0pnrwDUf5sAvmBvBNPRNwaRPqMEq/g7B55rZwOzQ5MArg/PA4sp5wCoe38A0HYXBdmslwURECsH7vrC/2qrRwAs3CsAXV2LAxh8IwY2kHMHVmjxBSR8IwQhrR8GgGCy/BF4BwYXOsL8=",
          "dtype": "f4"
         },
         "xaxis": "x",
         "y": {
          "bdata": "e14uwdU6WcEK3xDBh6JewSCNPMFLXC7BolIkwaRnZcGT8QHBILv/wEv6N8CTq2zBe1bywHy/QcGLBEfBuYYZwdmsQMEWk0PBuWoLwQM+acF26EHB9M9XwZtLEcEnLhjBGT1ZwQuT+sDm/qLBq0FZwdpWIsENRhPBXEJfwb3qQcE=",
          "dtype": "f4"
         },
         "yaxis": "y"
        },
        {
         "customdata": [
          [
           "Milwaukee",
           12,
           3,
           "Sinistcha [Unremarkable Form], Dragonite, Incineroar<br>Ninetales [Alolan Form], Ursaluna [Bloodmoon], Kingambit"
          ],
          [
           "Milwaukee",
           9,
           3,
           "Dragonite, Incineroar, Rillaboom<br>Ninetales [Alolan Form], Ursaluna [Bloodmoon], Gholdengo"
          ],
          [
           "Milwaukee",
           8,
           4,
           "Basculegion [Male], Farigiraf, Incineroar<br>Amoonguss, Ninetales [Alolan Form], Kingambit"
          ],
          [
           "Milwaukee",
           6,
           6,
           "Dragonite, Volcarona, Incineroar<br>Rillaboom, Ninetales [Alolan Form], Gholdengo"
          ],
          [
           "Milwaukee",
           5,
           3,
           "Sinistcha [Unremarkable Form], Dragonite, Incineroar<br>Ninetales [Alolan Form], Ursaluna [Bloodmoon], Kingambit"
          ],
          [
           "Milwaukee",
           5,
           3,
           "Dragonite, Garchomp, Jumpluff<br>Typhlosion [Hisuian Form], Torkoal, Kingambit"
          ],
          [
           "Milwaukee",
           5,
           3,
           "Sinistcha [Unremarkable Form], Dragonite, Incineroar<br>Ninetales [Alolan Form], Ursaluna [Bloodmoon], Kingambit"
          ],
          [
           "Milwaukee",
           5,
           3,
           "Sinistcha [Unremarkable Form], Dragonite, Incineroar<br>Ninetales [Alolan Form], Ursaluna [Bloodmoon], Kingambit"
          ],
          [
           "Milwaukee",
           4,
           4,
           "Dragonite, Garchomp, Whimsicott<br>Typhlosion [Hisuian Form], Ninetales [Alolan Form], Kingambit"
          ],
          [
           "Milwaukee",
           4,
           4,
           "Dragonite, Incineroar, Amoonguss<br>Primarina, Zoroark [Hisuian Form], Kingambit"
          ],
          [
           "Milwaukee",
           4,
           4,
           "Sinistcha [Unremarkable Form], Dragonite, Incineroar<br>Ninetales [Alolan Form], Ursaluna [Bloodmoon], Kingambit"
          ],
          [
           "Milwaukee",
           4,
           4,
           "Dragonite, Garchomp, Jumpluff<br>Typhlosion [Hisuian Form], Torkoal, Kingambit"
          ],
          [
           "Milwaukee",
           3,
           5,
           "Dragonite, Talonflame, Incineroar<br>Rillaboom, Ninetales [Alolan Form], Gholdengo"
          ],
          [
           "Milwaukee",
           3,
           5,
           "Cryogonal, Dragonite, Garchomp<br>Typhlosion [Hisuian Form], Medicham, Kingambit"
          ],
          [
           "Milwaukee",
           3,
           5,
           "Dragonite, Incineroar, Rillaboom<br>Annihilape, Ninetales [Alolan Form], Gholdengo"
          ],
          [
           "Milwaukee",
           3,
           5,
           "Dragonite, Garchomp, Incineroar<br>Amoonguss, Ninetales [Alolan Form], Kingambit"
          ],
          [
           "Milwaukee",
           3,
           3,
           "Garganacl, Indeedee [Male], Dragonite<br>Gallade, Sneasler, Ninetales [Alolan Form]"
          ],
          [
           "Milwaukee",
           2,
           4,
           "Sinistcha [Unremarkable Form], Dragonite, Incineroar<br>Ninetales [Alolan Form], Ursaluna [Bloodmoon], Gholdengo"
          ],
          [
           "Milwaukee",
           1,
           3,
           "Blaziken, Dragonite, Basculegion [Male]<br>Electabuzz, Cetitan, Ninetales [Alolan Form]"
          ],
          [
           "Milwaukee",
           1,
           7,
           "Dragonite, Garchomp, Incineroar<br>Amoonguss, Ninetales [Alolan Form], Kingambit"
          ],
          [
           "Belo Horizonte",
           7,
           3,
           "Sinistcha [Unremarkable Form], Dragonite, Incineroar<br>Ninetales [Alolan Form], Ursaluna [Bloodmoon], Kingambit"
          ],
          [
           "Belo Horizonte",
           5,
           3,
           "Sinistcha [Unremarkable Form], Dragonite, Incineroar<br>Ninetales [Alolan Form], Ursaluna [Bloodmoon], Kingambit"
          ],
          [
           "Belo Horizonte",
           4,
           4,
           "Sinistcha [Unremarkable Form], Dragonite, Incineroar<br>Ninetales [Alolan Form], Ursaluna [Bloodmoon], Kingambit"
          ],
          [
           "Belo Horizonte",
           3,
           5,
           "Dragonite, Garchomp, Incineroar<br>Amoonguss, Ninetales [Alolan Form], Kingambit"
          ],
          [
           "Belo Horizonte",
           3,
           5,
           "Dragonite, Incineroar, Rillaboom<br>Ninetales [Alolan Form], Ursaluna [Bloodmoon], Frosmoth"
          ],
          [
           "Belo Horizonte",
           3,
           5,
           "Dragonite, Tauros [Paldean Form - Aqua Breed], Gengar<br>Whimsicott, Typhlosion [Hisuian Form], Kingambit"
          ],
          [
           "Belo Horizonte",
           3,
           5,
           "Dragonite, Incineroar, Rillaboom<br>Ninetales [Alolan Form], Ursaluna [Bloodmoon], Gholdengo"
          ],
          [
           "Belo Horizonte",
           3,
           5,
           "Dragonite, Garchomp, Jumpluff<br>Typhlosion [Hisuian Form], Torkoal, Kingambit"
          ],
          [
           "Belo Horizonte",
           2,
           6,
           "Sableye, Garganacl, Sinistcha [Unremarkable Form]<br>Dragonite, Incineroar, Milotic"
          ]
         ],
         "hovertemplate": "<b>%{hovertext}</b><br><br>🏆 <b>Tournament:</b> %{customdata[0]}<br>⚔️ <b>Record:</b> %{customdata[1]}W - %{customdata[2]}L<br><br>🐉 <b>Pokémon:</b><br>%{customdata[3]}<extra></extra>",
         "hovertext": [
          "Dylan Matthews",
          "Sohaib Mufti",
          "Blake Falls",
          "Habeeb Omar Ali",
          "Sebastian Rodriguez",
          "Joseph Ugarte",
          "Joey Woodring",
          "Nick Navarre",
          "Enrique Bryan",
          "Thomas Marsland",
          "Jay Pak",
          "Jacob Bearden",
          "Kamaal Harris",
          "Clay Becker",
          "Jose Quinones",
          "Jackson Griebel",
          "Sam Myers",
          "Alexander Curtland",
          "Cameron Avis",
          "Zachary Thompson",
          "Sebastian Escalante",
          "Sebastian Bisbal",
          "Gabriel Rigo",
          "Guilherme Lemes",
          "Felipe Ferreira",
          "Alvaro Leitão",
          "Fernando Ferreira",
          "João Gabriel Marques",
          "Vítor Manoel Rosa"
         ],
         "legendgroup": "Archetype 8: Dragonite, Incineroar, Ninetales [Alolan Form], Kingambit",
         "marker": {
          "color": "rgb(252,205,229)",
          "line": {
           "color": "DarkSlateGrey",
           "width": 0.5
          },
          "opacity": 0.8,
          "size": {
           "bdata": "dKMnvGlq4D8jiIhfHHndP6vRFJHdH9w/rK6Ovlvo2D81syHIPO/WPzWzIcg879Y/NbMhyDzv1j81syHIPO/WP8I98V/OmdQ/wj3xX86Z1D/CPfFfzpnUP8I98V/OmdQ/v5Qu/5u+0T+/lC7/m77RP7+ULv+bvtE/v5Qu/5u+0T+/lC7/m77RP6vRFJHdH8w/v5Qu/5u+wT+/lC7/m77BPx7fxf7pndo/NbMhyDzv1j/CPfFfzpnUP7+ULv+bvtE/v5Qu/5u+0T+/lC7/m77RP7+ULv+bvtE/v5Qu/5u+0T+r0RSR3R/MPw==",
           "dtype": "f8"
          },
          "sizemode": "area",
          "sizeref": 0.0013862943611198904,
          "symbol": "circle"
         },
         "mode": "markers",
         "name": "Archetype 8: Dragonite, Incineroar, Ninetales [Alolan Form], Kingambit",
         "orientation": "v",
         "showlegend": true,
         "type": "scatter",
         "x": {
          "bdata": "371UQHXJ5kBOX87AmwcAQcKNNkAEPY49mYQ2QNJPP0B/ito+miKswIQoVECwqI49I7f+QF4Eyz2Gd+lAIpG0wCo8d0EUTek/Fx5tvjWTtMDqzFhAhhlNQJhqQUA9l7TAwmnlQD1fOD/W6eZA5FOOPaWYDMA=",
          "dtype": "f4"
         },
         "xaxis": "x",
         "y": {
          "bdata": "hV+SQLrOS0HF4xfAMNtcQWWBiECImHPB78aOQArMk0DaeWLBJmWAwDOQkkBamXPBceBbQRWcacF+WnhBXm43wPuSb8HQ4ctANjV+wJFzN8Afn4lAxJ+DQOJPg0AIgDfAIyNBQQ0lYMEw2ktB65hzwURfN8A=",
          "dtype": "f4"
         },
         "yaxis": "y"
        }
       ],
       "layout": {
        "height": 750,
        "hovermode": "closest",
        "legend": {
         "bgcolor": "rgba(0,0,0,0)",
         "bordercolor": "rgba(255,255,255,0.1)",
         "borderwidth": 1,
         "itemsizing": "constant",
         "orientation": "v",
         "title": {
          "text": "Archetypes"
         },
         "tracegroupgap": 0,
         "x": 1.02,
         "xanchor": "left",
         "y": 1,
         "yanchor": "top"
        },
        "margin": {
         "b": 60,
         "l": 60,
         "r": 260,
         "t": 80
        },
        "template": {
         "data": {
          "bar": [
           {
            "error_x": {
             "color": "#f2f5fa"
            },
            "error_y": {
             "color": "#f2f5fa"
            },
            "marker": {
             "line": {
              "color": "rgb(17,17,17)",
              "width": 0.5
             },
             "pattern": {
              "fillmode": "overlay",
              "size": 10,
              "solidity": 0.2
             }
            },
            "type": "bar"
           }
          ],
          "barpolar": [
           {
            "marker": {
             "line": {
              "color": "rgb(17,17,17)",
              "width": 0.5
             },
             "pattern": {
              "fillmode": "overlay",
              "size": 10,
              "solidity": 0.2
             }
            },
            "type": "barpolar"
           }
          ],
          "carpet": [
           {
            "aaxis": {
             "endlinecolor": "#A2B1C6",
             "gridcolor": "#506784",
             "linecolor": "#506784",
             "minorgridcolor": "#506784",
             "startlinecolor": "#A2B1C6"
            },
            "baxis": {
             "endlinecolor": "#A2B1C6",
             "gridcolor": "#506784",
             "linecolor": "#506784",
             "minorgridcolor": "#506784",
             "startlinecolor": "#A2B1C6"
            },
            "type": "carpet"
           }
          ],
          "choropleth": [
           {
            "colorbar": {
             "outlinewidth": 0,
             "ticks": ""
            },
            "type": "choropleth"
           }
          ],
          "contour": [
           {
            "colorbar": {
             "outlinewidth": 0,
             "ticks": ""
            },
            "colorscale": [
             [
              0,
              "#0d0887"
             ],
             [
              0.1111111111111111,
              "#46039f"
             ],
             [
              0.2222222222222222,
              "#7201a8"
             ],
             [
              0.3333333333333333,
              "#9c179e"
             ],
             [
              0.4444444444444444,
              "#bd3786"
             ],
             [
              0.5555555555555556,
              "#d8576b"
             ],
             [
              0.6666666666666666,
              "#ed7953"
             ],
             [
              0.7777777777777778,
              "#fb9f3a"
             ],
             [
              0.8888888888888888,
              "#fdca26"
             ],
             [
              1,
              "#f0f921"
             ]
            ],
            "type": "contour"
           }
          ],
          "contourcarpet": [
           {
            "colorbar": {
             "outlinewidth": 0,
             "ticks": ""
            },
            "type": "contourcarpet"
           }
          ],
          "heatmap": [
           {
            "colorbar": {
             "outlinewidth": 0,
             "ticks": ""
            },
            "colorscale": [
             [
              0,
              "#0d0887"
             ],
             [
              0.1111111111111111,
              "#46039f"
             ],
             [
              0.2222222222222222,
              "#7201a8"
             ],
             [
              0.3333333333333333,
              "#9c179e"
             ],
             [
              0.4444444444444444,
              "#bd3786"
             ],
             [
              0.5555555555555556,
              "#d8576b"
             ],
             [
              0.6666666666666666,
              "#ed7953"
             ],
             [
              0.7777777777777778,
              "#fb9f3a"
             ],
             [
              0.8888888888888888,
              "#fdca26"
             ],
             [
              1,
              "#f0f921"
             ]
            ],
            "type": "heatmap"
           }
          ],
          "histogram": [
           {
            "marker": {
             "pattern": {
              "fillmode": "overlay",
              "size": 10,
              "solidity": 0.2
             }
            },
            "type": "histogram"
           }
          ],
          "histogram2d": [
           {
            "colorbar": {
             "outlinewidth": 0,
             "ticks": ""
            },
            "colorscale": [
             [
              0,
              "#0d0887"
             ],
             [
              0.1111111111111111,
              "#46039f"
             ],
             [
              0.2222222222222222,
              "#7201a8"
             ],
             [
              0.3333333333333333,
              "#9c179e"
             ],
             [
              0.4444444444444444,
              "#bd3786"
             ],
             [
              0.5555555555555556,
              "#d8576b"
             ],
             [
              0.6666666666666666,
              "#ed7953"
             ],
             [
              0.7777777777777778,
              "#fb9f3a"
             ],
             [
              0.8888888888888888,
              "#fdca26"
             ],
             [
              1,
              "#f0f921"
             ]
            ],
            "type": "histogram2d"
           }
          ],
          "histogram2dcontour": [
           {
            "colorbar": {
             "outlinewidth": 0,
             "ticks": ""
            },
            "colorscale": [
             [
              0,
              "#0d0887"
             ],
             [
              0.1111111111111111,
              "#46039f"
             ],
             [
              0.2222222222222222,
              "#7201a8"
             ],
             [
              0.3333333333333333,
              "#9c179e"
             ],
             [
              0.4444444444444444,
              "#bd3786"
             ],
             [
              0.5555555555555556,
              "#d8576b"
             ],
             [
              0.6666666666666666,
              "#ed7953"
             ],
             [
              0.7777777777777778,
              "#fb9f3a"
             ],
             [
              0.8888888888888888,
              "#fdca26"
             ],
             [
              1,
              "#f0f921"
             ]
            ],
            "type": "histogram2dcontour"
           }
          ],
          "mesh3d": [
           {
            "colorbar": {
             "outlinewidth": 0,
             "ticks": ""
            },
            "type": "mesh3d"
           }
          ],
          "parcoords": [
           {
            "line": {
             "colorbar": {
              "outlinewidth": 0,
              "ticks": ""
             }
            },
            "type": "parcoords"
           }
          ],
          "pie": [
           {
            "automargin": true,
            "type": "pie"
           }
          ],
          "scatter": [
           {
            "marker": {
             "line": {
              "color": "#283442"
             }
            },
            "type": "scatter"
           }
          ],
          "scatter3d": [
           {
            "line": {
             "colorbar": {
              "outlinewidth": 0,
              "ticks": ""
             }
            },
            "marker": {
             "colorbar": {
              "outlinewidth": 0,
              "ticks": ""
             }
            },
            "type": "scatter3d"
           }
          ],
          "scattercarpet": [
           {
            "marker": {
             "colorbar": {
              "outlinewidth": 0,
              "ticks": ""
             }
            },
            "type": "scattercarpet"
           }
          ],
          "scattergeo": [
           {
            "marker": {
             "colorbar": {
              "outlinewidth": 0,
              "ticks": ""
             }
            },
            "type": "scattergeo"
           }
          ],
          "scattergl": [
           {
            "marker": {
             "line": {
              "color": "#283442"
             }
            },
            "type": "scattergl"
           }
          ],
          "scattermap": [
           {
            "marker": {
             "colorbar": {
              "outlinewidth": 0,
              "ticks": ""
             }
            },
            "type": "scattermap"
           }
          ],
          "scattermapbox": [
           {
            "marker": {
             "colorbar": {
              "outlinewidth": 0,
              "ticks": ""
             }
            },
            "type": "scattermapbox"
           }
          ],
          "scatterpolar": [
           {
            "marker": {
             "colorbar": {
              "outlinewidth": 0,
              "ticks": ""
             }
            },
            "type": "scatterpolar"
           }
          ],
          "scatterpolargl": [
           {
            "marker": {
             "colorbar": {
              "outlinewidth": 0,
              "ticks": ""
             }
            },
            "type": "scatterpolargl"
           }
          ],
          "scatterternary": [
           {
            "marker": {
             "colorbar": {
              "outlinewidth": 0,
              "ticks": ""
             }
            },
            "type": "scatterternary"
           }
          ],
          "surface": [
           {
            "colorbar": {
             "outlinewidth": 0,
             "ticks": ""
            },
            "colorscale": [
             [
              0,
              "#0d0887"
             ],
             [
              0.1111111111111111,
              "#46039f"
             ],
             [
              0.2222222222222222,
              "#7201a8"
             ],
             [
              0.3333333333333333,
              "#9c179e"
             ],
             [
              0.4444444444444444,
              "#bd3786"
             ],
             [
              0.5555555555555556,
              "#d8576b"
             ],
             [
              0.6666666666666666,
              "#ed7953"
             ],
             [
              0.7777777777777778,
              "#fb9f3a"
             ],
             [
              0.8888888888888888,
              "#fdca26"
             ],
             [
              1,
              "#f0f921"
             ]
            ],
            "type": "surface"
           }
          ],
          "table": [
           {
            "cells": {
             "fill": {
              "color": "#506784"
             },
             "line": {
              "color": "rgb(17,17,17)"
             }
            },
            "header": {
             "fill": {
              "color": "#2a3f5f"
             },
             "line": {
              "color": "rgb(17,17,17)"
             }
            },
            "type": "table"
           }
          ]
         },
         "layout": {
          "annotationdefaults": {
           "arrowcolor": "#f2f5fa",
           "arrowhead": 0,
           "arrowwidth": 1
          },
          "autotypenumbers": "strict",
          "coloraxis": {
           "colorbar": {
            "outlinewidth": 0,
            "ticks": ""
           }
          },
          "colorscale": {
           "diverging": [
            [
             0,
             "#8e0152"
            ],
            [
             0.1,
             "#c51b7d"
            ],
            [
             0.2,
             "#de77ae"
            ],
            [
             0.3,
             "#f1b6da"
            ],
            [
             0.4,
             "#fde0ef"
            ],
            [
             0.5,
             "#f7f7f7"
            ],
            [
             0.6,
             "#e6f5d0"
            ],
            [
             0.7,
             "#b8e186"
            ],
            [
             0.8,
             "#7fbc41"
            ],
            [
             0.9,
             "#4d9221"
            ],
            [
             1,
             "#276419"
            ]
           ],
           "sequential": [
            [
             0,
             "#0d0887"
            ],
            [
             0.1111111111111111,
             "#46039f"
            ],
            [
             0.2222222222222222,
             "#7201a8"
            ],
            [
             0.3333333333333333,
             "#9c179e"
            ],
            [
             0.4444444444444444,
             "#bd3786"
            ],
            [
             0.5555555555555556,
             "#d8576b"
            ],
            [
             0.6666666666666666,
             "#ed7953"
            ],
            [
             0.7777777777777778,
             "#fb9f3a"
            ],
            [
             0.8888888888888888,
             "#fdca26"
            ],
            [
             1,
             "#f0f921"
            ]
           ],
           "sequentialminus": [
            [
             0,
             "#0d0887"
            ],
            [
             0.1111111111111111,
             "#46039f"
            ],
            [
             0.2222222222222222,
             "#7201a8"
            ],
            [
             0.3333333333333333,
             "#9c179e"
            ],
            [
             0.4444444444444444,
             "#bd3786"
            ],
            [
             0.5555555555555556,
             "#d8576b"
            ],
            [
             0.6666666666666666,
             "#ed7953"
            ],
            [
             0.7777777777777778,
             "#fb9f3a"
            ],
            [
             0.8888888888888888,
             "#fdca26"
            ],
            [
             1,
             "#f0f921"
            ]
           ]
          },
          "colorway": [
           "#636efa",
           "#EF553B",
           "#00cc96",
           "#ab63fa",
           "#FFA15A",
           "#19d3f3",
           "#FF6692",
           "#B6E880",
           "#FF97FF",
           "#FECB52"
          ],
          "font": {
           "color": "#f2f5fa"
          },
          "geo": {
           "bgcolor": "rgb(17,17,17)",
           "lakecolor": "rgb(17,17,17)",
           "landcolor": "rgb(17,17,17)",
           "showlakes": true,
           "showland": true,
           "subunitcolor": "#506784"
          },
          "hoverlabel": {
           "align": "left"
          },
          "hovermode": "closest",
          "mapbox": {
           "style": "dark"
          },
          "paper_bgcolor": "rgb(17,17,17)",
          "plot_bgcolor": "rgb(17,17,17)",
          "polar": {
           "angularaxis": {
            "gridcolor": "#506784",
            "linecolor": "#506784",
            "ticks": ""
           },
           "bgcolor": "rgb(17,17,17)",
           "radialaxis": {
            "gridcolor": "#506784",
            "linecolor": "#506784",
            "ticks": ""
           }
          },
          "scene": {
           "xaxis": {
            "backgroundcolor": "rgb(17,17,17)",
            "gridcolor": "#506784",
            "gridwidth": 2,
            "linecolor": "#506784",
            "showbackground": true,
            "ticks": "",
            "zerolinecolor": "#C8D4E3"
           },
           "yaxis": {
            "backgroundcolor": "rgb(17,17,17)",
            "gridcolor": "#506784",
            "gridwidth": 2,
            "linecolor": "#506784",
            "showbackground": true,
            "ticks": "",
            "zerolinecolor": "#C8D4E3"
           },
           "zaxis": {
            "backgroundcolor": "rgb(17,17,17)",
            "gridcolor": "#506784",
            "gridwidth": 2,
            "linecolor": "#506784",
            "showbackground": true,
            "ticks": "",
            "zerolinecolor": "#C8D4E3"
           }
          },
          "shapedefaults": {
           "line": {
            "color": "#f2f5fa"
           }
          },
          "sliderdefaults": {
           "bgcolor": "#C8D4E3",
           "bordercolor": "rgb(17,17,17)",
           "borderwidth": 1,
           "tickwidth": 0
          },
          "ternary": {
           "aaxis": {
            "gridcolor": "#506784",
            "linecolor": "#506784",
            "ticks": ""
           },
           "baxis": {
            "gridcolor": "#506784",
            "linecolor": "#506784",
            "ticks": ""
           },
           "bgcolor": "rgb(17,17,17)",
           "caxis": {
            "gridcolor": "#506784",
            "linecolor": "#506784",
            "ticks": ""
           }
          },
          "title": {
           "x": 0.05
          },
          "updatemenudefaults": {
           "bgcolor": "#506784",
           "borderwidth": 0
          },
          "xaxis": {
           "automargin": true,
           "gridcolor": "#283442",
           "linecolor": "#506784",
           "ticks": "",
           "title": {
            "standoff": 15
           },
           "zerolinecolor": "#283442",
           "zerolinewidth": 2
          },
          "yaxis": {
           "automargin": true,
           "gridcolor": "#283442",
           "linecolor": "#506784",
           "ticks": "",
           "title": {
            "standoff": 15
           },
           "zerolinecolor": "#283442",
           "zerolinewidth": 2
          }
         }
        },
        "title": {
         "text": "Pokémon Team Archetypes (TSNE projection)"
        },
        "width": 1300,
        "xaxis": {
         "anchor": "y",
         "domain": [
          0,
          1
         ],
         "title": {
          "text": "x"
         }
        },
        "yaxis": {
         "anchor": "x",
         "domain": [
          0,
          1
         ],
         "title": {
          "text": "y"
         }
        }
       }
      }
     },
     "metadata": {},
     "output_type": "display_data"
    }
   ],
   "source": [
    "clusterer.plot_cluster_scatter('tsne')"
   ]
  },
  {
   "cell_type": "code",
   "execution_count": 29,
   "id": "7608910d",
   "metadata": {},
   "outputs": [],
   "source": [
    "frequencies = clusterer.identify_archetypes()"
   ]
  },
  {
   "cell_type": "code",
   "execution_count": 33,
   "id": "7236e36c",
   "metadata": {},
   "outputs": [],
   "source": [
    "freq = 0.0\n",
    "for archetype, teams in frequencies.items():\n",
    "    freq += teams['frequency']"
   ]
  },
  {
   "cell_type": "code",
   "execution_count": 34,
   "id": "136c1258",
   "metadata": {},
   "outputs": [
    {
     "data": {
      "text/plain": [
       "0.26174496644295303"
      ]
     },
     "execution_count": 34,
     "metadata": {},
     "output_type": "execute_result"
    }
   ],
   "source": [
    "freq"
   ]
  },
  {
   "cell_type": "code",
   "execution_count": null,
   "id": "43b3f30c",
   "metadata": {},
   "outputs": [],
   "source": []
  }
 ],
 "metadata": {
  "kernelspec": {
   "display_name": "Python 3",
   "language": "python",
   "name": "python3"
  },
  "language_info": {
   "codemirror_mode": {
    "name": "ipython",
    "version": 3
   },
   "file_extension": ".py",
   "mimetype": "text/x-python",
   "name": "python",
   "nbconvert_exporter": "python",
   "pygments_lexer": "ipython3",
   "version": "3.11.9"
  }
 },
 "nbformat": 4,
 "nbformat_minor": 5
}
